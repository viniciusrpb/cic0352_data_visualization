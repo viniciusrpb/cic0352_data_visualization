{
  "nbformat": 4,
  "nbformat_minor": 0,
  "metadata": {
    "kernelspec": {
      "display_name": "Python 3",
      "language": "python",
      "name": "python3"
    },
    "language_info": {
      "codemirror_mode": {
        "name": "ipython",
        "version": 3
      },
      "file_extension": ".py",
      "mimetype": "text/x-python",
      "name": "python",
      "nbconvert_exporter": "python",
      "pygments_lexer": "ipython3",
      "version": "3.6.10"
    },
    "colab": {
      "name": "selector.ipynb",
      "provenance": [],
      "include_colab_link": true
    }
  },
  "cells": [
    {
      "cell_type": "markdown",
      "metadata": {
        "id": "view-in-github",
        "colab_type": "text"
      },
      "source": [
        "<a href=\"https://colab.research.google.com/github/viniciusrpb/datavis_book/blob/main/cap6_visualizacoes_classicas.ipynb\" target=\"_parent\"><img src=\"https://colab.research.google.com/assets/colab-badge.svg\" alt=\"Open In Colab\"/></a>"
      ]
    },
    {
      "cell_type": "markdown",
      "metadata": {
        "id": "JFhO1kZQPonA"
      },
      "source": [
        "#Capítulo 5 - Visualizações Clássicas Multivariadas"
      ]
    },
    {
      "cell_type": "markdown",
      "metadata": {
        "id": "Fk3DAY9kPl7Z"
      },
      "source": [
        ""
      ]
    },
    {
      "cell_type": "code",
      "metadata": {
        "id": "k30sCmYRPWTC"
      },
      "source": [
        "import pandas as pd\n",
        "import numpy as np\n",
        "import matplotlib.pyplot as plt\n",
        "from sklearn import preprocessing\n",
        "import seaborn as sns\n",
        "from sklearn.decomposition import PCA as sklearnPCA\n",
        "from sklearn.manifold import TSNE\n",
        "from ipywidgets import interactive, HBox, VBox\n",
        "from sklearn.cluster import KMeans\n",
        "\n",
        "pd.set_option('display.max_rows', 500)\n",
        "pd.set_option('display.max_columns', 500)\n",
        "pd.set_option('display.width', 1000)\n",
        "\n",
        "import warnings\n",
        "warnings.filterwarnings('ignore')"
      ],
      "execution_count": null,
      "outputs": []
    },
    {
      "cell_type": "code",
      "metadata": {
        "id": "RsvTTtXfPWTF",
        "outputId": "38c54bcc-3256-42e2-c519-468888b4a4ec"
      },
      "source": [
        "from plotly.offline import init_notebook_mode, iplot\n",
        "import plotly.offline as py\n",
        "import plotly.graph_objs as go\n",
        "init_notebook_mode(connected=True)"
      ],
      "execution_count": null,
      "outputs": [
        {
          "output_type": "display_data",
          "data": {
            "text/html": [
              "        <script type=\"text/javascript\">\n",
              "        window.PlotlyConfig = {MathJaxConfig: 'local'};\n",
              "        if (window.MathJax) {MathJax.Hub.Config({SVG: {font: \"STIX-Web\"}});}\n",
              "        if (typeof require !== 'undefined') {\n",
              "        require.undef(\"plotly\");\n",
              "        requirejs.config({\n",
              "            paths: {\n",
              "                'plotly': ['https://cdn.plot.ly/plotly-latest.min']\n",
              "            }\n",
              "        });\n",
              "        require(['plotly'], function(Plotly) {\n",
              "            window._Plotly = Plotly;\n",
              "        });\n",
              "        }\n",
              "        </script>\n",
              "        "
            ]
          },
          "metadata": {
            "tags": []
          }
        }
      ]
    },
    {
      "cell_type": "code",
      "metadata": {
        "id": "obgvG05NPWTG"
      },
      "source": [
        "from sklearn.model_selection import train_test_split\n",
        "from sklearn.preprocessing import StandardScaler\n",
        "from sklearn.neighbors import KNeighborsClassifier\n",
        "from sklearn.metrics import classification_report, confusion_matrix"
      ],
      "execution_count": null,
      "outputs": []
    },
    {
      "cell_type": "code",
      "metadata": {
        "id": "IcrsmJCHPWTG",
        "outputId": "88f38791-9f8f-4b30-8092-61f37cd740f7"
      },
      "source": [
        "iris = pd.read_csv(\"iris.csv\")\n",
        "\n",
        "X = iris.iloc[:,0:4].values\n",
        "y = iris.iloc[:,4].values\n",
        "\n",
        "print(np.unique(y))"
      ],
      "execution_count": null,
      "outputs": [
        {
          "output_type": "stream",
          "text": [
            "['setosa' 'versicolor' 'virginica']\n"
          ],
          "name": "stdout"
        }
      ]
    },
    {
      "cell_type": "code",
      "metadata": {
        "id": "XtKSBuJWPWTG"
      },
      "source": [
        "def get_cmap(n, name='hsv'):\n",
        "    '''Returns a function that maps each index in 0, 1, ..., n-1 to a distinct \n",
        "    RGB color; the keyword argument name must be a standard mpl colormap name.'''\n",
        "    return plt.cm.get_cmap(name, n)"
      ],
      "execution_count": null,
      "outputs": []
    },
    {
      "cell_type": "code",
      "metadata": {
        "id": "KLpRVAoTPWTG"
      },
      "source": [
        "def formatColor(color):\n",
        "    return 'rgb('+str(int(color[0]*255))+','+str(int(color[1]*255))+','+str(int(color[2]*255))+')'\n",
        "\n",
        "    \n",
        "def pca(df, currentLabel,attributes,n_clusters=[7]):\n",
        "    dfcopy = df.copy()\n",
        "    originalMap = df.copy()\n",
        "    \n",
        "    sklearn_pca = sklearnPCA(n_components=2)\n",
        "    X_embedded = sklearn_pca.fit_transform(X)   \n",
        "\n",
        "    data = df\n",
        "    Y_sklearn = X_embedded\n",
        "\n",
        "    numColors = len(np.unique(y))\n",
        "\n",
        "    cmap = get_cmap(numColors+1)\n",
        "    colorList = [cmap(i) for i in range(1, numColors+1)]\n",
        "\n",
        "\n",
        "    traceArr = []\n",
        "    mapPoints = []\n",
        "    labelArray = np.unique(y)\n",
        "    for lab, col in zip(labelArray,\n",
        "                        colorList):\n",
        "        mapPoints.append(data[y==lab].index)\n",
        "\n",
        "        trace1 = go.Scatter(\n",
        "            x=Y_sklearn[y==lab, 0],\n",
        "            y=Y_sklearn[y==lab, 1],\n",
        "            mode='markers',\n",
        "            name = str(lab),\n",
        "            marker=dict(\n",
        "                size=5,\n",
        "                color=formatColor(col),\n",
        "                opacity=0.8\n",
        "            ),\n",
        "\n",
        "        )\n",
        "        traceArr.append(trace1)\n",
        "    f = go.FigureWidget(data=traceArr, layout=go.Layout(\n",
        "            margin=dict(\n",
        "                l=0,\n",
        "                r=0,\n",
        "                b=0,\n",
        "                t=0\n",
        "            )\n",
        "        ))\n",
        "    \n",
        "    t = go.FigureWidget([go.Table(\n",
        "    header=dict(values=attributes,\n",
        "                fill = dict(color='#C2D4FF'),\n",
        "                align = ['left'] * 5),\n",
        "    cells=dict(values=[originalMap[col] for col in attributes],\n",
        "               fill = dict(color='#F5F8FF'),\n",
        "               align = ['left'] * 5))])\n",
        "\n",
        "    \n",
        "    \n",
        "    #display(VBox((slider,f,t)))\n",
        "    return f"
      ],
      "execution_count": null,
      "outputs": []
    },
    {
      "cell_type": "code",
      "metadata": {
        "scrolled": false,
        "colab": {
          "referenced_widgets": [
            "78c978c4cbce46908c246f32c78b0a44"
          ]
        },
        "id": "B33zMXGgPWTH",
        "outputId": "c54ee56d-b8f3-420f-d9e3-1801acae54e3"
      },
      "source": [
        "pca(iris,4,iris.columns.values.tolist())"
      ],
      "execution_count": null,
      "outputs": [
        {
          "output_type": "display_data",
          "data": {
            "application/vnd.jupyter.widget-view+json": {
              "model_id": "78c978c4cbce46908c246f32c78b0a44",
              "version_major": 2,
              "version_minor": 0
            },
            "text/plain": [
              "FigureWidget({\n",
              "    'data': [{'marker': {'color': 'rgb(7,255,0)', 'opacity': 0.8, 'size': 5},\n",
              "              'mo…"
            ]
          },
          "metadata": {
            "tags": []
          }
        }
      ]
    },
    {
      "cell_type": "code",
      "metadata": {
        "id": "PjqoE0pUPWTH"
      },
      "source": [
        ""
      ],
      "execution_count": null,
      "outputs": []
    }
  ]
}