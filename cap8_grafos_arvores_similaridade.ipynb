{
  "nbformat": 4,
  "nbformat_minor": 0,
  "metadata": {
    "colab": {
      "name": "cap8_arvores_similaridade.ipynb",
      "provenance": [],
      "collapsed_sections": [],
      "toc_visible": true,
      "include_colab_link": true
    },
    "kernelspec": {
      "display_name": "Python 3",
      "language": "python",
      "name": "python3"
    },
    "language_info": {
      "codemirror_mode": {
        "name": "ipython",
        "version": 3
      },
      "file_extension": ".py",
      "mimetype": "text/x-python",
      "name": "python",
      "nbconvert_exporter": "python",
      "pygments_lexer": "ipython3",
      "version": "3.6.10"
    }
  },
  "cells": [
    {
      "cell_type": "markdown",
      "metadata": {
        "id": "view-in-github",
        "colab_type": "text"
      },
      "source": [
        "<a href=\"https://colab.research.google.com/github/viniciusrpb/datavis_book/blob/main/cap8_grafos_arvores_similaridade.ipynb\" target=\"_parent\"><img src=\"https://colab.research.google.com/assets/colab-badge.svg\" alt=\"Open In Colab\"/></a>"
      ]
    },
    {
      "cell_type": "markdown",
      "metadata": {
        "id": "JFhO1kZQPonA"
      },
      "source": [
        "#Capítulo 8 - Visualizações baseadas em Grafos, Redes e Árvores de Similaridade"
      ]
    },
    {
      "cell_type": "markdown",
      "metadata": {
        "id": "0OnyXDCTp0-0"
      },
      "source": [
        "Instalação do plotly e do renderer Orca, para que o Github apresente as imagens geradas pelo Plotly"
      ]
    },
    {
      "cell_type": "code",
      "metadata": {
        "id": "bLiPKsx_p1ZT"
      },
      "source": [
        "#!pip install plotly==4.14.3\n",
        "#!pip install orca\n",
        "#!apt-get install xvfb libgtk2.0-0 libgconf-2-4\n",
        "#!pip install --upgrade plotly\n",
        "#!pip install scikit-bio"
      ],
      "execution_count": 22,
      "outputs": []
    },
    {
      "cell_type": "markdown",
      "metadata": {
        "id": "Fk3DAY9kPl7Z"
      },
      "source": [
        "Bibliotecas importantes"
      ]
    },
    {
      "cell_type": "code",
      "metadata": {
        "id": "k30sCmYRPWTC"
      },
      "source": [
        "import pandas as pd\n",
        "from sklearn import preprocessing\n",
        "#from ipywidgets import interactive, HBox, VBox\n",
        "import plotly.express as px\n",
        "#from plotly.offline import init_notebook_mode, iplot\n",
        "##import plotly.offline as py\n",
        "import plotly.graph_objects as go\n",
        "import numpy as np\n",
        "from sklearn.decomposition import PCA as sklearnPCA\n",
        "from sklearn.manifold import TSNE\n",
        "from sklearn.manifold import Isomap\n",
        "from sklearn.manifold.t_sne import trustworthiness\n",
        "from skbio import DistanceMatrix\n",
        "from skbio.tree import nj\n"
      ],
      "execution_count": 23,
      "outputs": []
    },
    {
      "cell_type": "markdown",
      "metadata": {
        "id": "z6OL0pC9Q8Ak"
      },
      "source": [
        "Abre o arquivo .data utilizando o Pandas. O conjunto auto-mpg pode ser baixado aqui:\n",
        "\n",
        "\n",
        "https://archive.ics.uci.edu/ml/datasets/Auto+MPG"
      ]
    },
    {
      "cell_type": "code",
      "metadata": {
        "id": "IcrsmJCHPWTG"
      },
      "source": [
        "raw_data = pd.read_csv(\"auto-mpg.csv\")"
      ],
      "execution_count": 4,
      "outputs": []
    },
    {
      "cell_type": "code",
      "metadata": {
        "id": "2qSe656kRIvS",
        "colab": {
          "base_uri": "https://localhost:8080/",
          "height": 197
        },
        "outputId": "444af125-14fd-45f8-aed6-f215858db2de"
      },
      "source": [
        "raw_data.head()"
      ],
      "execution_count": 5,
      "outputs": [
        {
          "output_type": "execute_result",
          "data": {
            "text/html": [
              "<div>\n",
              "<style scoped>\n",
              "    .dataframe tbody tr th:only-of-type {\n",
              "        vertical-align: middle;\n",
              "    }\n",
              "\n",
              "    .dataframe tbody tr th {\n",
              "        vertical-align: top;\n",
              "    }\n",
              "\n",
              "    .dataframe thead th {\n",
              "        text-align: right;\n",
              "    }\n",
              "</style>\n",
              "<table border=\"1\" class=\"dataframe\">\n",
              "  <thead>\n",
              "    <tr style=\"text-align: right;\">\n",
              "      <th></th>\n",
              "      <th>mpg</th>\n",
              "      <th>cylinders</th>\n",
              "      <th>displacement</th>\n",
              "      <th>horsepower</th>\n",
              "      <th>weight</th>\n",
              "      <th>acceleration</th>\n",
              "      <th>model year</th>\n",
              "      <th>origin</th>\n",
              "      <th>car name</th>\n",
              "    </tr>\n",
              "  </thead>\n",
              "  <tbody>\n",
              "    <tr>\n",
              "      <th>0</th>\n",
              "      <td>18.0</td>\n",
              "      <td>8</td>\n",
              "      <td>307.0</td>\n",
              "      <td>130</td>\n",
              "      <td>3504</td>\n",
              "      <td>12.0</td>\n",
              "      <td>70</td>\n",
              "      <td>1</td>\n",
              "      <td>chevrolet chevelle malibu</td>\n",
              "    </tr>\n",
              "    <tr>\n",
              "      <th>1</th>\n",
              "      <td>15.0</td>\n",
              "      <td>8</td>\n",
              "      <td>350.0</td>\n",
              "      <td>165</td>\n",
              "      <td>3693</td>\n",
              "      <td>11.5</td>\n",
              "      <td>70</td>\n",
              "      <td>1</td>\n",
              "      <td>buick skylark 320</td>\n",
              "    </tr>\n",
              "    <tr>\n",
              "      <th>2</th>\n",
              "      <td>18.0</td>\n",
              "      <td>8</td>\n",
              "      <td>318.0</td>\n",
              "      <td>150</td>\n",
              "      <td>3436</td>\n",
              "      <td>11.0</td>\n",
              "      <td>70</td>\n",
              "      <td>1</td>\n",
              "      <td>plymouth satellite</td>\n",
              "    </tr>\n",
              "    <tr>\n",
              "      <th>3</th>\n",
              "      <td>16.0</td>\n",
              "      <td>8</td>\n",
              "      <td>304.0</td>\n",
              "      <td>150</td>\n",
              "      <td>3433</td>\n",
              "      <td>12.0</td>\n",
              "      <td>70</td>\n",
              "      <td>1</td>\n",
              "      <td>amc rebel sst</td>\n",
              "    </tr>\n",
              "    <tr>\n",
              "      <th>4</th>\n",
              "      <td>17.0</td>\n",
              "      <td>8</td>\n",
              "      <td>302.0</td>\n",
              "      <td>140</td>\n",
              "      <td>3449</td>\n",
              "      <td>10.5</td>\n",
              "      <td>70</td>\n",
              "      <td>1</td>\n",
              "      <td>ford torino</td>\n",
              "    </tr>\n",
              "  </tbody>\n",
              "</table>\n",
              "</div>"
            ],
            "text/plain": [
              "    mpg  cylinders  displacement  ... model year  origin                   car name\n",
              "0  18.0          8         307.0  ...         70       1  chevrolet chevelle malibu\n",
              "1  15.0          8         350.0  ...         70       1          buick skylark 320\n",
              "2  18.0          8         318.0  ...         70       1         plymouth satellite\n",
              "3  16.0          8         304.0  ...         70       1              amc rebel sst\n",
              "4  17.0          8         302.0  ...         70       1                ford torino\n",
              "\n",
              "[5 rows x 9 columns]"
            ]
          },
          "metadata": {
            "tags": []
          },
          "execution_count": 5
        }
      ]
    },
    {
      "cell_type": "markdown",
      "metadata": {
        "id": "196OrKOKinVf"
      },
      "source": [
        "Informações sobre os atributos\n"
      ]
    },
    {
      "cell_type": "code",
      "metadata": {
        "id": "x8GZPgCIcxkC"
      },
      "source": [
        "raw_data = raw_data.replace('?',np.NaN)\n",
        "raw_data = raw_data.replace('NA',np.NaN)\n",
        "raw_data = raw_data.dropna(axis=0)"
      ],
      "execution_count": 6,
      "outputs": []
    },
    {
      "cell_type": "markdown",
      "metadata": {
        "id": "BHXs5q7qNPGJ"
      },
      "source": [
        ""
      ]
    },
    {
      "cell_type": "code",
      "metadata": {
        "colab": {
          "base_uri": "https://localhost:8080/",
          "height": 406
        },
        "id": "Jb_gin8wNPPB",
        "outputId": "c95baf6f-f5c6-4ff0-d598-a8de186579fe"
      },
      "source": [
        "paises = {1: \"USA\", 2: \"Europe\",3: \"Japan\"}\n",
        "\n",
        "label = raw_data[\"origin\"]\n",
        "label_int = raw_data[\"origin\"]\n",
        "\n",
        "label = label.replace(paises)\n",
        "info_hover = raw_data[\"car name\"]\n",
        "raw_data = raw_data.drop(labels=[\"origin\",\"car name\"],axis=1)\n",
        "\n",
        "raw_data"
      ],
      "execution_count": 7,
      "outputs": [
        {
          "output_type": "execute_result",
          "data": {
            "text/html": [
              "<div>\n",
              "<style scoped>\n",
              "    .dataframe tbody tr th:only-of-type {\n",
              "        vertical-align: middle;\n",
              "    }\n",
              "\n",
              "    .dataframe tbody tr th {\n",
              "        vertical-align: top;\n",
              "    }\n",
              "\n",
              "    .dataframe thead th {\n",
              "        text-align: right;\n",
              "    }\n",
              "</style>\n",
              "<table border=\"1\" class=\"dataframe\">\n",
              "  <thead>\n",
              "    <tr style=\"text-align: right;\">\n",
              "      <th></th>\n",
              "      <th>mpg</th>\n",
              "      <th>cylinders</th>\n",
              "      <th>displacement</th>\n",
              "      <th>horsepower</th>\n",
              "      <th>weight</th>\n",
              "      <th>acceleration</th>\n",
              "      <th>model year</th>\n",
              "    </tr>\n",
              "  </thead>\n",
              "  <tbody>\n",
              "    <tr>\n",
              "      <th>0</th>\n",
              "      <td>18.0</td>\n",
              "      <td>8</td>\n",
              "      <td>307.0</td>\n",
              "      <td>130</td>\n",
              "      <td>3504</td>\n",
              "      <td>12.0</td>\n",
              "      <td>70</td>\n",
              "    </tr>\n",
              "    <tr>\n",
              "      <th>1</th>\n",
              "      <td>15.0</td>\n",
              "      <td>8</td>\n",
              "      <td>350.0</td>\n",
              "      <td>165</td>\n",
              "      <td>3693</td>\n",
              "      <td>11.5</td>\n",
              "      <td>70</td>\n",
              "    </tr>\n",
              "    <tr>\n",
              "      <th>2</th>\n",
              "      <td>18.0</td>\n",
              "      <td>8</td>\n",
              "      <td>318.0</td>\n",
              "      <td>150</td>\n",
              "      <td>3436</td>\n",
              "      <td>11.0</td>\n",
              "      <td>70</td>\n",
              "    </tr>\n",
              "    <tr>\n",
              "      <th>3</th>\n",
              "      <td>16.0</td>\n",
              "      <td>8</td>\n",
              "      <td>304.0</td>\n",
              "      <td>150</td>\n",
              "      <td>3433</td>\n",
              "      <td>12.0</td>\n",
              "      <td>70</td>\n",
              "    </tr>\n",
              "    <tr>\n",
              "      <th>4</th>\n",
              "      <td>17.0</td>\n",
              "      <td>8</td>\n",
              "      <td>302.0</td>\n",
              "      <td>140</td>\n",
              "      <td>3449</td>\n",
              "      <td>10.5</td>\n",
              "      <td>70</td>\n",
              "    </tr>\n",
              "    <tr>\n",
              "      <th>...</th>\n",
              "      <td>...</td>\n",
              "      <td>...</td>\n",
              "      <td>...</td>\n",
              "      <td>...</td>\n",
              "      <td>...</td>\n",
              "      <td>...</td>\n",
              "      <td>...</td>\n",
              "    </tr>\n",
              "    <tr>\n",
              "      <th>393</th>\n",
              "      <td>27.0</td>\n",
              "      <td>4</td>\n",
              "      <td>140.0</td>\n",
              "      <td>86</td>\n",
              "      <td>2790</td>\n",
              "      <td>15.6</td>\n",
              "      <td>82</td>\n",
              "    </tr>\n",
              "    <tr>\n",
              "      <th>394</th>\n",
              "      <td>44.0</td>\n",
              "      <td>4</td>\n",
              "      <td>97.0</td>\n",
              "      <td>52</td>\n",
              "      <td>2130</td>\n",
              "      <td>24.6</td>\n",
              "      <td>82</td>\n",
              "    </tr>\n",
              "    <tr>\n",
              "      <th>395</th>\n",
              "      <td>32.0</td>\n",
              "      <td>4</td>\n",
              "      <td>135.0</td>\n",
              "      <td>84</td>\n",
              "      <td>2295</td>\n",
              "      <td>11.6</td>\n",
              "      <td>82</td>\n",
              "    </tr>\n",
              "    <tr>\n",
              "      <th>396</th>\n",
              "      <td>28.0</td>\n",
              "      <td>4</td>\n",
              "      <td>120.0</td>\n",
              "      <td>79</td>\n",
              "      <td>2625</td>\n",
              "      <td>18.6</td>\n",
              "      <td>82</td>\n",
              "    </tr>\n",
              "    <tr>\n",
              "      <th>397</th>\n",
              "      <td>31.0</td>\n",
              "      <td>4</td>\n",
              "      <td>119.0</td>\n",
              "      <td>82</td>\n",
              "      <td>2720</td>\n",
              "      <td>19.4</td>\n",
              "      <td>82</td>\n",
              "    </tr>\n",
              "  </tbody>\n",
              "</table>\n",
              "<p>392 rows × 7 columns</p>\n",
              "</div>"
            ],
            "text/plain": [
              "      mpg  cylinders  displacement horsepower  weight  acceleration  model year\n",
              "0    18.0          8         307.0        130    3504          12.0          70\n",
              "1    15.0          8         350.0        165    3693          11.5          70\n",
              "2    18.0          8         318.0        150    3436          11.0          70\n",
              "3    16.0          8         304.0        150    3433          12.0          70\n",
              "4    17.0          8         302.0        140    3449          10.5          70\n",
              "..    ...        ...           ...        ...     ...           ...         ...\n",
              "393  27.0          4         140.0         86    2790          15.6          82\n",
              "394  44.0          4          97.0         52    2130          24.6          82\n",
              "395  32.0          4         135.0         84    2295          11.6          82\n",
              "396  28.0          4         120.0         79    2625          18.6          82\n",
              "397  31.0          4         119.0         82    2720          19.4          82\n",
              "\n",
              "[392 rows x 7 columns]"
            ]
          },
          "metadata": {
            "tags": []
          },
          "execution_count": 7
        }
      ]
    },
    {
      "cell_type": "code",
      "metadata": {
        "id": "3ZL9IgT0ingS"
      },
      "source": [
        "raw_data.dtypes\n",
        "\n",
        "raw_data[\"horsepower\"] = raw_data[\"horsepower\"].astype(float)"
      ],
      "execution_count": 8,
      "outputs": []
    },
    {
      "cell_type": "code",
      "metadata": {
        "id": "XtKSBuJWPWTG"
      },
      "source": [
        "import plotly.graph_objects as go\n",
        "\n",
        "import networkx as nx\n",
        "\n",
        "G = nx.random_geometric_graph(200, 0.125)"
      ],
      "execution_count": 9,
      "outputs": []
    },
    {
      "cell_type": "markdown",
      "metadata": {
        "id": "P80VA_-zdXon"
      },
      "source": [
        "Matriz de Scatterplot"
      ]
    },
    {
      "cell_type": "markdown",
      "metadata": {
        "id": "mdjazECBcxcL"
      },
      "source": [
        "## Visualização baseada em Treemaps"
      ]
    },
    {
      "cell_type": "markdown",
      "metadata": {
        "id": "ajFOI7RgeKuc"
      },
      "source": [
        "Reduz a dimensionalidade dos dados"
      ]
    },
    {
      "cell_type": "code",
      "metadata": {
        "colab": {
          "base_uri": "https://localhost:8080/",
          "height": 406
        },
        "id": "owrcuLMqVtp7",
        "outputId": "1d08cc98-6f36-471b-d2d0-2137207944de"
      },
      "source": [
        "raw_data"
      ],
      "execution_count": 10,
      "outputs": [
        {
          "output_type": "execute_result",
          "data": {
            "text/html": [
              "<div>\n",
              "<style scoped>\n",
              "    .dataframe tbody tr th:only-of-type {\n",
              "        vertical-align: middle;\n",
              "    }\n",
              "\n",
              "    .dataframe tbody tr th {\n",
              "        vertical-align: top;\n",
              "    }\n",
              "\n",
              "    .dataframe thead th {\n",
              "        text-align: right;\n",
              "    }\n",
              "</style>\n",
              "<table border=\"1\" class=\"dataframe\">\n",
              "  <thead>\n",
              "    <tr style=\"text-align: right;\">\n",
              "      <th></th>\n",
              "      <th>mpg</th>\n",
              "      <th>cylinders</th>\n",
              "      <th>displacement</th>\n",
              "      <th>horsepower</th>\n",
              "      <th>weight</th>\n",
              "      <th>acceleration</th>\n",
              "      <th>model year</th>\n",
              "    </tr>\n",
              "  </thead>\n",
              "  <tbody>\n",
              "    <tr>\n",
              "      <th>0</th>\n",
              "      <td>18.0</td>\n",
              "      <td>8</td>\n",
              "      <td>307.0</td>\n",
              "      <td>130.0</td>\n",
              "      <td>3504</td>\n",
              "      <td>12.0</td>\n",
              "      <td>70</td>\n",
              "    </tr>\n",
              "    <tr>\n",
              "      <th>1</th>\n",
              "      <td>15.0</td>\n",
              "      <td>8</td>\n",
              "      <td>350.0</td>\n",
              "      <td>165.0</td>\n",
              "      <td>3693</td>\n",
              "      <td>11.5</td>\n",
              "      <td>70</td>\n",
              "    </tr>\n",
              "    <tr>\n",
              "      <th>2</th>\n",
              "      <td>18.0</td>\n",
              "      <td>8</td>\n",
              "      <td>318.0</td>\n",
              "      <td>150.0</td>\n",
              "      <td>3436</td>\n",
              "      <td>11.0</td>\n",
              "      <td>70</td>\n",
              "    </tr>\n",
              "    <tr>\n",
              "      <th>3</th>\n",
              "      <td>16.0</td>\n",
              "      <td>8</td>\n",
              "      <td>304.0</td>\n",
              "      <td>150.0</td>\n",
              "      <td>3433</td>\n",
              "      <td>12.0</td>\n",
              "      <td>70</td>\n",
              "    </tr>\n",
              "    <tr>\n",
              "      <th>4</th>\n",
              "      <td>17.0</td>\n",
              "      <td>8</td>\n",
              "      <td>302.0</td>\n",
              "      <td>140.0</td>\n",
              "      <td>3449</td>\n",
              "      <td>10.5</td>\n",
              "      <td>70</td>\n",
              "    </tr>\n",
              "    <tr>\n",
              "      <th>...</th>\n",
              "      <td>...</td>\n",
              "      <td>...</td>\n",
              "      <td>...</td>\n",
              "      <td>...</td>\n",
              "      <td>...</td>\n",
              "      <td>...</td>\n",
              "      <td>...</td>\n",
              "    </tr>\n",
              "    <tr>\n",
              "      <th>393</th>\n",
              "      <td>27.0</td>\n",
              "      <td>4</td>\n",
              "      <td>140.0</td>\n",
              "      <td>86.0</td>\n",
              "      <td>2790</td>\n",
              "      <td>15.6</td>\n",
              "      <td>82</td>\n",
              "    </tr>\n",
              "    <tr>\n",
              "      <th>394</th>\n",
              "      <td>44.0</td>\n",
              "      <td>4</td>\n",
              "      <td>97.0</td>\n",
              "      <td>52.0</td>\n",
              "      <td>2130</td>\n",
              "      <td>24.6</td>\n",
              "      <td>82</td>\n",
              "    </tr>\n",
              "    <tr>\n",
              "      <th>395</th>\n",
              "      <td>32.0</td>\n",
              "      <td>4</td>\n",
              "      <td>135.0</td>\n",
              "      <td>84.0</td>\n",
              "      <td>2295</td>\n",
              "      <td>11.6</td>\n",
              "      <td>82</td>\n",
              "    </tr>\n",
              "    <tr>\n",
              "      <th>396</th>\n",
              "      <td>28.0</td>\n",
              "      <td>4</td>\n",
              "      <td>120.0</td>\n",
              "      <td>79.0</td>\n",
              "      <td>2625</td>\n",
              "      <td>18.6</td>\n",
              "      <td>82</td>\n",
              "    </tr>\n",
              "    <tr>\n",
              "      <th>397</th>\n",
              "      <td>31.0</td>\n",
              "      <td>4</td>\n",
              "      <td>119.0</td>\n",
              "      <td>82.0</td>\n",
              "      <td>2720</td>\n",
              "      <td>19.4</td>\n",
              "      <td>82</td>\n",
              "    </tr>\n",
              "  </tbody>\n",
              "</table>\n",
              "<p>392 rows × 7 columns</p>\n",
              "</div>"
            ],
            "text/plain": [
              "      mpg  cylinders  displacement  ...  weight  acceleration  model year\n",
              "0    18.0          8         307.0  ...    3504          12.0          70\n",
              "1    15.0          8         350.0  ...    3693          11.5          70\n",
              "2    18.0          8         318.0  ...    3436          11.0          70\n",
              "3    16.0          8         304.0  ...    3433          12.0          70\n",
              "4    17.0          8         302.0  ...    3449          10.5          70\n",
              "..    ...        ...           ...  ...     ...           ...         ...\n",
              "393  27.0          4         140.0  ...    2790          15.6          82\n",
              "394  44.0          4          97.0  ...    2130          24.6          82\n",
              "395  32.0          4         135.0  ...    2295          11.6          82\n",
              "396  28.0          4         120.0  ...    2625          18.6          82\n",
              "397  31.0          4         119.0  ...    2720          19.4          82\n",
              "\n",
              "[392 rows x 7 columns]"
            ]
          },
          "metadata": {
            "tags": []
          },
          "execution_count": 10
        }
      ]
    },
    {
      "cell_type": "code",
      "metadata": {
        "id": "iTMyFYxUeJvl",
        "colab": {
          "base_uri": "https://localhost:8080/",
          "height": 542
        },
        "outputId": "a4a2751d-66e5-4889-e102-1956d0284d09"
      },
      "source": [
        "import plotly.express as px\n",
        "import numpy as np\n",
        "df = px.data.gapminder().query(\"year == 2007\")\n",
        "df[\"world\"] = \"world\" # in order to have a single root node\n",
        "fig = px.treemap(df, path=['world', 'continent', 'country'], values='pop',\n",
        "                  color='lifeExp', hover_data=['iso_alpha'],\n",
        "                  color_continuous_scale='RdBu',\n",
        "                  color_continuous_midpoint=np.average(df['lifeExp'], weights=df['pop']))\n",
        "fig.show()"
      ],
      "execution_count": 17,
      "outputs": [
        {
          "output_type": "display_data",
          "data": {
            "text/html": [
              "<html>\n",
              "<head><meta charset=\"utf-8\" /></head>\n",
              "<body>\n",
              "    <div>            <script src=\"https://cdnjs.cloudflare.com/ajax/libs/mathjax/2.7.5/MathJax.js?config=TeX-AMS-MML_SVG\"></script><script type=\"text/javascript\">if (window.MathJax) {MathJax.Hub.Config({SVG: {font: \"STIX-Web\"}});}</script>                <script type=\"text/javascript\">window.PlotlyConfig = {MathJaxConfig: 'local'};</script>\n",
              "        <script src=\"https://cdn.plot.ly/plotly-latest.min.js\"></script>                <div id=\"a9ebb0f0-3cf1-48bc-badf-2d62d13e77c4\" class=\"plotly-graph-div\" style=\"height:525px; width:100%;\"></div>            <script type=\"text/javascript\">                                    window.PLOTLYENV=window.PLOTLYENV || {};                                    if (document.getElementById(\"a9ebb0f0-3cf1-48bc-badf-2d62d13e77c4\")) {                    Plotly.newPlot(                        \"a9ebb0f0-3cf1-48bc-badf-2d62d13e77c4\",                        [{\"branchvalues\": \"total\", \"customdata\": [[\"AFG\", 43.828], [\"ALB\", 76.423], [\"DZA\", 72.301], [\"AGO\", 42.731], [\"ARG\", 75.32], [\"AUS\", 81.235], [\"AUT\", 79.829], [\"BHR\", 75.635], [\"BGD\", 64.062], [\"BEL\", 79.441], [\"BEN\", 56.728], [\"BOL\", 65.554], [\"BIH\", 74.852], [\"BWA\", 50.728], [\"BRA\", 72.39], [\"BGR\", 73.005], [\"BFA\", 52.295], [\"BDI\", 49.58], [\"KHM\", 59.723], [\"CMR\", 50.43], [\"CAN\", 80.65300000000002], [\"CAF\", 44.74100000000001], [\"TCD\", 50.651], [\"CHL\", 78.553], [\"CHN\", 72.961], [\"COL\", 72.889], [\"COM\", 65.152], [\"COD\", 46.46199999999999], [\"COG\", 55.321999999999996], [\"CRI\", 78.782], [\"CIV\", 48.328], [\"HRV\", 75.748], [\"CUB\", 78.273], [\"CZE\", 76.486], [\"DNK\", 78.332], [\"DJI\", 54.791000000000004], [\"DOM\", 72.235], [\"ECU\", 74.994], [\"EGY\", 71.33800000000001], [\"SLV\", 71.878], [\"GNQ\", 51.57899999999999], [\"ERI\", 58.03999999999999], [\"ETH\", 52.946999999999996], [\"FIN\", 79.313], [\"FRA\", 80.65699999999998], [\"GAB\", 56.73500000000001], [\"GMB\", 59.448], [\"DEU\", 79.406], [\"GHA\", 60.02199999999999], [\"GRC\", 79.483], [\"GTM\", 70.259], [\"GIN\", 56.007], [\"GNB\", 46.388000000000005], [\"HTI\", 60.916000000000004], [\"HND\", 70.19800000000001], [\"HKG\", 82.208], [\"HUN\", 73.33800000000001], [\"ISL\", 81.757], [\"IND\", 64.69800000000001], [\"IDN\", 70.65], [\"IRN\", 70.964], [\"IRQ\", 59.545], [\"IRL\", 78.885], [\"ISR\", 80.745], [\"ITA\", 80.546], [\"JAM\", 72.567], [\"JPN\", 82.603], [\"JOR\", 72.535], [\"KEN\", 54.11], [\"KOR\", 67.297], [\"KOR\", 78.623], [\"KWT\", 77.58800000000001], [\"LBN\", 71.993], [\"LSO\", 42.592], [\"LBR\", 45.67800000000001], [\"LBY\", 73.952], [\"MDG\", 59.443000000000005], [\"MWI\", 48.303000000000004], [\"MYS\", 74.241], [\"MLI\", 54.467], [\"MRT\", 64.164], [\"MUS\", 72.801], [\"MEX\", 76.195], [\"MNG\", 66.803], [\"MNE\", 74.543], [\"MAR\", 71.164], [\"MOZ\", 42.082], [\"MMR\", 62.068999999999996], [\"NAM\", 52.906000000000006], [\"NPL\", 63.785], [\"NLD\", 79.762], [\"NZL\", 80.204], [\"NIC\", 72.899], [\"NER\", 56.867], [\"NGA\", 46.858999999999995], [\"NOR\", 80.196], [\"OMN\", 75.64], [\"PAK\", 65.483], [\"PAN\", 75.53699999999999], [\"PRY\", 71.752], [\"PER\", 71.421], [\"PHL\", 71.688], [\"POL\", 75.563], [\"PRT\", 78.098], [\"PRI\", 78.74600000000001], [\"REU\", 76.442], [\"ROU\", 72.476], [\"RWA\", 46.242], [\"STP\", 65.528], [\"SAU\", 72.777], [\"SEN\", 63.062], [\"SRB\", 74.002], [\"SLE\", 42.568000000000005], [\"SGP\", 79.972], [\"SVK\", 74.663], [\"SVN\", 77.926], [\"SOM\", 48.159], [\"ZAF\", 49.339], [\"ESP\", 80.941], [\"LKA\", 72.396], [\"SDN\", 58.556000000000004], [\"SWZ\", 39.613], [\"SWE\", 80.884], [\"CHE\", 81.70100000000001], [\"SYR\", 74.143], [\"TWN\", 78.4], [\"TZA\", 52.516999999999996], [\"THA\", 70.616], [\"TGO\", 58.42], [\"TTO\", 69.819], [\"TUN\", 73.923], [\"TUR\", 71.777], [\"UGA\", 51.542], [\"GBR\", 79.425], [\"USA\", 78.242], [\"URY\", 76.384], [\"VEN\", 73.747], [\"VNM\", 74.249], [\"PSE\", 73.422], [\"YEM\", 62.698], [\"ZMB\", 42.38399999999999], [\"ZWE\", 43.486999999999995], [\"(?)\", 54.56441057558197], [\"(?)\", 75.35668222743027], [\"(?)\", 69.44386304205017], [\"(?)\", 77.89057081069897], [\"(?)\", 81.06215400970112], [\"(?)\", 68.91909251904043]], \"domain\": {\"x\": [0.0, 1.0], \"y\": [0.0, 1.0]}, \"hovertemplate\": \"labels=%{label}<br>pop=%{value}<br>parent=%{parent}<br>id=%{id}<br>iso_alpha=%{customdata[0]}<br>lifeExp=%{color}<extra></extra>\", \"ids\": [\"world/Asia/Afghanistan\", \"world/Europe/Albania\", \"world/Africa/Algeria\", \"world/Africa/Angola\", \"world/Americas/Argentina\", \"world/Oceania/Australia\", \"world/Europe/Austria\", \"world/Asia/Bahrain\", \"world/Asia/Bangladesh\", \"world/Europe/Belgium\", \"world/Africa/Benin\", \"world/Americas/Bolivia\", \"world/Europe/Bosnia and Herzegovina\", \"world/Africa/Botswana\", \"world/Americas/Brazil\", \"world/Europe/Bulgaria\", \"world/Africa/Burkina Faso\", \"world/Africa/Burundi\", \"world/Asia/Cambodia\", \"world/Africa/Cameroon\", \"world/Americas/Canada\", \"world/Africa/Central African Republic\", \"world/Africa/Chad\", \"world/Americas/Chile\", \"world/Asia/China\", \"world/Americas/Colombia\", \"world/Africa/Comoros\", \"world/Africa/Congo, Dem. Rep.\", \"world/Africa/Congo, Rep.\", \"world/Americas/Costa Rica\", \"world/Africa/Cote d'Ivoire\", \"world/Europe/Croatia\", \"world/Americas/Cuba\", \"world/Europe/Czech Republic\", \"world/Europe/Denmark\", \"world/Africa/Djibouti\", \"world/Americas/Dominican Republic\", \"world/Americas/Ecuador\", \"world/Africa/Egypt\", \"world/Americas/El Salvador\", \"world/Africa/Equatorial Guinea\", \"world/Africa/Eritrea\", \"world/Africa/Ethiopia\", \"world/Europe/Finland\", \"world/Europe/France\", \"world/Africa/Gabon\", \"world/Africa/Gambia\", \"world/Europe/Germany\", \"world/Africa/Ghana\", \"world/Europe/Greece\", \"world/Americas/Guatemala\", \"world/Africa/Guinea\", \"world/Africa/Guinea-Bissau\", \"world/Americas/Haiti\", \"world/Americas/Honduras\", \"world/Asia/Hong Kong, China\", \"world/Europe/Hungary\", \"world/Europe/Iceland\", \"world/Asia/India\", \"world/Asia/Indonesia\", \"world/Asia/Iran\", \"world/Asia/Iraq\", \"world/Europe/Ireland\", \"world/Asia/Israel\", \"world/Europe/Italy\", \"world/Americas/Jamaica\", \"world/Asia/Japan\", \"world/Asia/Jordan\", \"world/Africa/Kenya\", \"world/Asia/Korea, Dem. Rep.\", \"world/Asia/Korea, Rep.\", \"world/Asia/Kuwait\", \"world/Asia/Lebanon\", \"world/Africa/Lesotho\", \"world/Africa/Liberia\", \"world/Africa/Libya\", \"world/Africa/Madagascar\", \"world/Africa/Malawi\", \"world/Asia/Malaysia\", \"world/Africa/Mali\", \"world/Africa/Mauritania\", \"world/Africa/Mauritius\", \"world/Americas/Mexico\", \"world/Asia/Mongolia\", \"world/Europe/Montenegro\", \"world/Africa/Morocco\", \"world/Africa/Mozambique\", \"world/Asia/Myanmar\", \"world/Africa/Namibia\", \"world/Asia/Nepal\", \"world/Europe/Netherlands\", \"world/Oceania/New Zealand\", \"world/Americas/Nicaragua\", \"world/Africa/Niger\", \"world/Africa/Nigeria\", \"world/Europe/Norway\", \"world/Asia/Oman\", \"world/Asia/Pakistan\", \"world/Americas/Panama\", \"world/Americas/Paraguay\", \"world/Americas/Peru\", \"world/Asia/Philippines\", \"world/Europe/Poland\", \"world/Europe/Portugal\", \"world/Americas/Puerto Rico\", \"world/Africa/Reunion\", \"world/Europe/Romania\", \"world/Africa/Rwanda\", \"world/Africa/Sao Tome and Principe\", \"world/Asia/Saudi Arabia\", \"world/Africa/Senegal\", \"world/Europe/Serbia\", \"world/Africa/Sierra Leone\", \"world/Asia/Singapore\", \"world/Europe/Slovak Republic\", \"world/Europe/Slovenia\", \"world/Africa/Somalia\", \"world/Africa/South Africa\", \"world/Europe/Spain\", \"world/Asia/Sri Lanka\", \"world/Africa/Sudan\", \"world/Africa/Swaziland\", \"world/Europe/Sweden\", \"world/Europe/Switzerland\", \"world/Asia/Syria\", \"world/Asia/Taiwan\", \"world/Africa/Tanzania\", \"world/Asia/Thailand\", \"world/Africa/Togo\", \"world/Americas/Trinidad and Tobago\", \"world/Africa/Tunisia\", \"world/Europe/Turkey\", \"world/Africa/Uganda\", \"world/Europe/United Kingdom\", \"world/Americas/United States\", \"world/Americas/Uruguay\", \"world/Americas/Venezuela\", \"world/Asia/Vietnam\", \"world/Asia/West Bank and Gaza\", \"world/Asia/Yemen, Rep.\", \"world/Africa/Zambia\", \"world/Africa/Zimbabwe\", \"world/Africa\", \"world/Americas\", \"world/Asia\", \"world/Europe\", \"world/Oceania\", \"world\"], \"labels\": [\"Afghanistan\", \"Albania\", \"Algeria\", \"Angola\", \"Argentina\", \"Australia\", \"Austria\", \"Bahrain\", \"Bangladesh\", \"Belgium\", \"Benin\", \"Bolivia\", \"Bosnia and Herzegovina\", \"Botswana\", \"Brazil\", \"Bulgaria\", \"Burkina Faso\", \"Burundi\", \"Cambodia\", \"Cameroon\", \"Canada\", \"Central African Republic\", \"Chad\", \"Chile\", \"China\", \"Colombia\", \"Comoros\", \"Congo, Dem. Rep.\", \"Congo, Rep.\", \"Costa Rica\", \"Cote d'Ivoire\", \"Croatia\", \"Cuba\", \"Czech Republic\", \"Denmark\", \"Djibouti\", \"Dominican Republic\", \"Ecuador\", \"Egypt\", \"El Salvador\", \"Equatorial Guinea\", \"Eritrea\", \"Ethiopia\", \"Finland\", \"France\", \"Gabon\", \"Gambia\", \"Germany\", \"Ghana\", \"Greece\", \"Guatemala\", \"Guinea\", \"Guinea-Bissau\", \"Haiti\", \"Honduras\", \"Hong Kong, China\", \"Hungary\", \"Iceland\", \"India\", \"Indonesia\", \"Iran\", \"Iraq\", \"Ireland\", \"Israel\", \"Italy\", \"Jamaica\", \"Japan\", \"Jordan\", \"Kenya\", \"Korea, Dem. Rep.\", \"Korea, Rep.\", \"Kuwait\", \"Lebanon\", \"Lesotho\", \"Liberia\", \"Libya\", \"Madagascar\", \"Malawi\", \"Malaysia\", \"Mali\", \"Mauritania\", \"Mauritius\", \"Mexico\", \"Mongolia\", \"Montenegro\", \"Morocco\", \"Mozambique\", \"Myanmar\", \"Namibia\", \"Nepal\", \"Netherlands\", \"New Zealand\", \"Nicaragua\", \"Niger\", \"Nigeria\", \"Norway\", \"Oman\", \"Pakistan\", \"Panama\", \"Paraguay\", \"Peru\", \"Philippines\", \"Poland\", \"Portugal\", \"Puerto Rico\", \"Reunion\", \"Romania\", \"Rwanda\", \"Sao Tome and Principe\", \"Saudi Arabia\", \"Senegal\", \"Serbia\", \"Sierra Leone\", \"Singapore\", \"Slovak Republic\", \"Slovenia\", \"Somalia\", \"South Africa\", \"Spain\", \"Sri Lanka\", \"Sudan\", \"Swaziland\", \"Sweden\", \"Switzerland\", \"Syria\", \"Taiwan\", \"Tanzania\", \"Thailand\", \"Togo\", \"Trinidad and Tobago\", \"Tunisia\", \"Turkey\", \"Uganda\", \"United Kingdom\", \"United States\", \"Uruguay\", \"Venezuela\", \"Vietnam\", \"West Bank and Gaza\", \"Yemen, Rep.\", \"Zambia\", \"Zimbabwe\", \"Africa\", \"Americas\", \"Asia\", \"Europe\", \"Oceania\", \"world\"], \"marker\": {\"coloraxis\": \"coloraxis\", \"colors\": [43.828, 76.423, 72.301, 42.731, 75.32, 81.235, 79.829, 75.635, 64.062, 79.441, 56.728, 65.554, 74.852, 50.728, 72.39, 73.005, 52.295, 49.58, 59.723, 50.43, 80.65300000000002, 44.74100000000001, 50.651, 78.553, 72.961, 72.889, 65.152, 46.46199999999999, 55.321999999999996, 78.782, 48.328, 75.748, 78.273, 76.486, 78.332, 54.791000000000004, 72.235, 74.994, 71.33800000000001, 71.878, 51.57899999999999, 58.03999999999999, 52.946999999999996, 79.313, 80.65699999999998, 56.73500000000001, 59.448, 79.406, 60.02199999999999, 79.483, 70.259, 56.007, 46.388000000000005, 60.916000000000004, 70.19800000000001, 82.208, 73.33800000000001, 81.757, 64.69800000000001, 70.65, 70.964, 59.545, 78.885, 80.745, 80.546, 72.567, 82.603, 72.535, 54.11, 67.297, 78.623, 77.58800000000001, 71.993, 42.592, 45.67800000000001, 73.952, 59.443000000000005, 48.303000000000004, 74.241, 54.467, 64.164, 72.801, 76.195, 66.803, 74.543, 71.164, 42.082, 62.068999999999996, 52.906000000000006, 63.785, 79.762, 80.204, 72.899, 56.867, 46.858999999999995, 80.196, 75.64, 65.483, 75.53699999999999, 71.752, 71.421, 71.688, 75.563, 78.098, 78.74600000000001, 76.442, 72.476, 46.242, 65.528, 72.777, 63.062, 74.002, 42.568000000000005, 79.972, 74.663, 77.926, 48.159, 49.339, 80.941, 72.396, 58.556000000000004, 39.613, 80.884, 81.70100000000001, 74.143, 78.4, 52.516999999999996, 70.616, 58.42, 69.819, 73.923, 71.777, 51.542, 79.425, 78.242, 76.384, 73.747, 74.249, 73.422, 62.698, 42.38399999999999, 43.486999999999995, 54.56441057558197, 75.35668222743027, 69.44386304205017, 77.89057081069897, 81.06215400970112, 68.91909251904043]}, \"name\": \"\", \"parents\": [\"world/Asia\", \"world/Europe\", \"world/Africa\", \"world/Africa\", \"world/Americas\", \"world/Oceania\", \"world/Europe\", \"world/Asia\", \"world/Asia\", \"world/Europe\", \"world/Africa\", \"world/Americas\", \"world/Europe\", \"world/Africa\", \"world/Americas\", \"world/Europe\", \"world/Africa\", \"world/Africa\", \"world/Asia\", \"world/Africa\", \"world/Americas\", \"world/Africa\", \"world/Africa\", \"world/Americas\", \"world/Asia\", \"world/Americas\", \"world/Africa\", \"world/Africa\", \"world/Africa\", \"world/Americas\", \"world/Africa\", \"world/Europe\", \"world/Americas\", \"world/Europe\", \"world/Europe\", \"world/Africa\", \"world/Americas\", \"world/Americas\", \"world/Africa\", \"world/Americas\", \"world/Africa\", \"world/Africa\", \"world/Africa\", \"world/Europe\", \"world/Europe\", \"world/Africa\", \"world/Africa\", \"world/Europe\", \"world/Africa\", \"world/Europe\", \"world/Americas\", \"world/Africa\", \"world/Africa\", \"world/Americas\", \"world/Americas\", \"world/Asia\", \"world/Europe\", \"world/Europe\", \"world/Asia\", \"world/Asia\", \"world/Asia\", \"world/Asia\", \"world/Europe\", \"world/Asia\", \"world/Europe\", \"world/Americas\", \"world/Asia\", \"world/Asia\", \"world/Africa\", \"world/Asia\", \"world/Asia\", \"world/Asia\", \"world/Asia\", \"world/Africa\", \"world/Africa\", \"world/Africa\", \"world/Africa\", \"world/Africa\", \"world/Asia\", \"world/Africa\", \"world/Africa\", \"world/Africa\", \"world/Americas\", \"world/Asia\", \"world/Europe\", \"world/Africa\", \"world/Africa\", \"world/Asia\", \"world/Africa\", \"world/Asia\", \"world/Europe\", \"world/Oceania\", \"world/Americas\", \"world/Africa\", \"world/Africa\", \"world/Europe\", \"world/Asia\", \"world/Asia\", \"world/Americas\", \"world/Americas\", \"world/Americas\", \"world/Asia\", \"world/Europe\", \"world/Europe\", \"world/Americas\", \"world/Africa\", \"world/Europe\", \"world/Africa\", \"world/Africa\", \"world/Asia\", \"world/Africa\", \"world/Europe\", \"world/Africa\", \"world/Asia\", \"world/Europe\", \"world/Europe\", \"world/Africa\", \"world/Africa\", \"world/Europe\", \"world/Asia\", \"world/Africa\", \"world/Africa\", \"world/Europe\", \"world/Europe\", \"world/Asia\", \"world/Asia\", \"world/Africa\", \"world/Asia\", \"world/Africa\", \"world/Americas\", \"world/Africa\", \"world/Europe\", \"world/Africa\", \"world/Europe\", \"world/Americas\", \"world/Americas\", \"world/Americas\", \"world/Asia\", \"world/Asia\", \"world/Asia\", \"world/Africa\", \"world/Africa\", \"world\", \"world\", \"world\", \"world\", \"world\", \"\"], \"type\": \"treemap\", \"values\": [31889923, 3600523, 33333216, 12420476, 40301927, 20434176, 8199783, 708573, 150448339, 10392226, 8078314, 9119152, 4552198, 1639131, 190010647, 7322858, 14326203, 8390505, 14131858, 17696293, 33390141, 4369038, 10238807, 16284741, 1318683096, 44227550, 710960, 64606759, 3800610, 4133884, 18013409, 4493312, 11416987, 10228744, 5468120, 496374, 9319622, 13755680, 80264543, 6939688, 551201, 4906585, 76511887, 5238460, 61083916, 1454867, 1688359, 82400996, 22873338, 10706290, 12572928, 9947814, 1472041, 8502814, 7483763, 6980412, 9956108, 301931, 1110396331, 223547000, 69453570, 27499638, 4109086, 6426679, 58147733, 2780132, 127467972, 6053193, 35610177, 23301725, 49044790, 2505559, 3921278, 2012649, 3193942, 6036914, 19167654, 13327079, 24821286, 12031795, 3270065, 1250882, 108700891, 2874127, 684736, 33757175, 19951656, 47761980, 2055080, 28901790, 16570613, 4115771, 5675356, 12894865, 135031164, 4627926, 3204897, 169270617, 3242173, 6667147, 28674757, 91077287, 38518241, 10642836, 3942491, 798094, 22276056, 8860588, 199579, 27601038, 12267493, 10150265, 6144562, 4553009, 5447502, 2009245, 9118773, 43997828, 40448191, 20378239, 42292929, 1133066, 9031088, 7554661, 19314747, 23174294, 38139640, 65068149, 5701579, 1056608, 10276158, 71158647, 29170398, 60776238, 301139947, 3447496, 26084662, 85262356, 4018332, 22211743, 11746035, 12311143, 929539692, 898871184, 3811953827, 586098529, 24549947, 6251013179]}],                        {\"coloraxis\": {\"cmid\": 68.91909251904043, \"colorbar\": {\"title\": {\"text\": \"lifeExp\"}}, \"colorscale\": [[0.0, \"rgb(103,0,31)\"], [0.1, \"rgb(178,24,43)\"], [0.2, \"rgb(214,96,77)\"], [0.3, \"rgb(244,165,130)\"], [0.4, \"rgb(253,219,199)\"], [0.5, \"rgb(247,247,247)\"], [0.6, \"rgb(209,229,240)\"], [0.7, \"rgb(146,197,222)\"], [0.8, \"rgb(67,147,195)\"], [0.9, \"rgb(33,102,172)\"], [1.0, \"rgb(5,48,97)\"]]}, \"legend\": {\"tracegroupgap\": 0}, \"margin\": {\"t\": 60}, \"template\": {\"data\": {\"bar\": [{\"error_x\": {\"color\": \"#2a3f5f\"}, \"error_y\": {\"color\": \"#2a3f5f\"}, \"marker\": {\"line\": {\"color\": \"#E5ECF6\", \"width\": 0.5}}, \"type\": \"bar\"}], \"barpolar\": [{\"marker\": {\"line\": {\"color\": \"#E5ECF6\", \"width\": 0.5}}, \"type\": \"barpolar\"}], \"carpet\": [{\"aaxis\": {\"endlinecolor\": \"#2a3f5f\", \"gridcolor\": \"white\", \"linecolor\": \"white\", \"minorgridcolor\": \"white\", \"startlinecolor\": \"#2a3f5f\"}, \"baxis\": {\"endlinecolor\": \"#2a3f5f\", \"gridcolor\": \"white\", \"linecolor\": \"white\", \"minorgridcolor\": \"white\", \"startlinecolor\": \"#2a3f5f\"}, \"type\": \"carpet\"}], \"choropleth\": [{\"colorbar\": {\"outlinewidth\": 0, \"ticks\": \"\"}, \"type\": \"choropleth\"}], \"contour\": [{\"colorbar\": {\"outlinewidth\": 0, \"ticks\": \"\"}, \"colorscale\": [[0.0, \"#0d0887\"], [0.1111111111111111, \"#46039f\"], [0.2222222222222222, \"#7201a8\"], [0.3333333333333333, \"#9c179e\"], [0.4444444444444444, \"#bd3786\"], [0.5555555555555556, \"#d8576b\"], [0.6666666666666666, \"#ed7953\"], [0.7777777777777778, \"#fb9f3a\"], [0.8888888888888888, \"#fdca26\"], [1.0, \"#f0f921\"]], \"type\": \"contour\"}], \"contourcarpet\": [{\"colorbar\": {\"outlinewidth\": 0, \"ticks\": \"\"}, \"type\": \"contourcarpet\"}], \"heatmap\": [{\"colorbar\": {\"outlinewidth\": 0, \"ticks\": \"\"}, \"colorscale\": [[0.0, \"#0d0887\"], [0.1111111111111111, \"#46039f\"], [0.2222222222222222, \"#7201a8\"], [0.3333333333333333, \"#9c179e\"], [0.4444444444444444, \"#bd3786\"], [0.5555555555555556, \"#d8576b\"], [0.6666666666666666, \"#ed7953\"], [0.7777777777777778, \"#fb9f3a\"], [0.8888888888888888, \"#fdca26\"], [1.0, \"#f0f921\"]], \"type\": \"heatmap\"}], \"heatmapgl\": [{\"colorbar\": {\"outlinewidth\": 0, \"ticks\": \"\"}, \"colorscale\": [[0.0, \"#0d0887\"], [0.1111111111111111, \"#46039f\"], [0.2222222222222222, \"#7201a8\"], [0.3333333333333333, \"#9c179e\"], [0.4444444444444444, \"#bd3786\"], [0.5555555555555556, \"#d8576b\"], [0.6666666666666666, \"#ed7953\"], [0.7777777777777778, \"#fb9f3a\"], [0.8888888888888888, \"#fdca26\"], [1.0, \"#f0f921\"]], \"type\": \"heatmapgl\"}], \"histogram\": [{\"marker\": {\"colorbar\": {\"outlinewidth\": 0, \"ticks\": \"\"}}, \"type\": \"histogram\"}], \"histogram2d\": [{\"colorbar\": {\"outlinewidth\": 0, \"ticks\": \"\"}, \"colorscale\": [[0.0, \"#0d0887\"], [0.1111111111111111, \"#46039f\"], [0.2222222222222222, \"#7201a8\"], [0.3333333333333333, \"#9c179e\"], [0.4444444444444444, \"#bd3786\"], [0.5555555555555556, \"#d8576b\"], [0.6666666666666666, \"#ed7953\"], [0.7777777777777778, \"#fb9f3a\"], [0.8888888888888888, \"#fdca26\"], [1.0, \"#f0f921\"]], \"type\": \"histogram2d\"}], \"histogram2dcontour\": [{\"colorbar\": {\"outlinewidth\": 0, \"ticks\": \"\"}, \"colorscale\": [[0.0, \"#0d0887\"], [0.1111111111111111, \"#46039f\"], [0.2222222222222222, \"#7201a8\"], [0.3333333333333333, \"#9c179e\"], [0.4444444444444444, \"#bd3786\"], [0.5555555555555556, \"#d8576b\"], [0.6666666666666666, \"#ed7953\"], [0.7777777777777778, \"#fb9f3a\"], [0.8888888888888888, \"#fdca26\"], [1.0, \"#f0f921\"]], \"type\": \"histogram2dcontour\"}], \"mesh3d\": [{\"colorbar\": {\"outlinewidth\": 0, \"ticks\": \"\"}, \"type\": \"mesh3d\"}], \"parcoords\": [{\"line\": {\"colorbar\": {\"outlinewidth\": 0, \"ticks\": \"\"}}, \"type\": \"parcoords\"}], \"pie\": [{\"automargin\": true, \"type\": \"pie\"}], \"scatter\": [{\"marker\": {\"colorbar\": {\"outlinewidth\": 0, \"ticks\": \"\"}}, \"type\": \"scatter\"}], \"scatter3d\": [{\"line\": {\"colorbar\": {\"outlinewidth\": 0, \"ticks\": \"\"}}, \"marker\": {\"colorbar\": {\"outlinewidth\": 0, \"ticks\": \"\"}}, \"type\": \"scatter3d\"}], \"scattercarpet\": [{\"marker\": {\"colorbar\": {\"outlinewidth\": 0, \"ticks\": \"\"}}, \"type\": \"scattercarpet\"}], \"scattergeo\": [{\"marker\": {\"colorbar\": {\"outlinewidth\": 0, \"ticks\": \"\"}}, \"type\": \"scattergeo\"}], \"scattergl\": [{\"marker\": {\"colorbar\": {\"outlinewidth\": 0, \"ticks\": \"\"}}, \"type\": \"scattergl\"}], \"scattermapbox\": [{\"marker\": {\"colorbar\": {\"outlinewidth\": 0, \"ticks\": \"\"}}, \"type\": \"scattermapbox\"}], \"scatterpolar\": [{\"marker\": {\"colorbar\": {\"outlinewidth\": 0, \"ticks\": \"\"}}, \"type\": \"scatterpolar\"}], \"scatterpolargl\": [{\"marker\": {\"colorbar\": {\"outlinewidth\": 0, \"ticks\": \"\"}}, \"type\": \"scatterpolargl\"}], \"scatterternary\": [{\"marker\": {\"colorbar\": {\"outlinewidth\": 0, \"ticks\": \"\"}}, \"type\": \"scatterternary\"}], \"surface\": [{\"colorbar\": {\"outlinewidth\": 0, \"ticks\": \"\"}, \"colorscale\": [[0.0, \"#0d0887\"], [0.1111111111111111, \"#46039f\"], [0.2222222222222222, \"#7201a8\"], [0.3333333333333333, \"#9c179e\"], [0.4444444444444444, \"#bd3786\"], [0.5555555555555556, \"#d8576b\"], [0.6666666666666666, \"#ed7953\"], [0.7777777777777778, \"#fb9f3a\"], [0.8888888888888888, \"#fdca26\"], [1.0, \"#f0f921\"]], \"type\": \"surface\"}], \"table\": [{\"cells\": {\"fill\": {\"color\": \"#EBF0F8\"}, \"line\": {\"color\": \"white\"}}, \"header\": {\"fill\": {\"color\": \"#C8D4E3\"}, \"line\": {\"color\": \"white\"}}, \"type\": \"table\"}]}, \"layout\": {\"annotationdefaults\": {\"arrowcolor\": \"#2a3f5f\", \"arrowhead\": 0, \"arrowwidth\": 1}, \"autotypenumbers\": \"strict\", \"coloraxis\": {\"colorbar\": {\"outlinewidth\": 0, \"ticks\": \"\"}}, \"colorscale\": {\"diverging\": [[0, \"#8e0152\"], [0.1, \"#c51b7d\"], [0.2, \"#de77ae\"], [0.3, \"#f1b6da\"], [0.4, \"#fde0ef\"], [0.5, \"#f7f7f7\"], [0.6, \"#e6f5d0\"], [0.7, \"#b8e186\"], [0.8, \"#7fbc41\"], [0.9, \"#4d9221\"], [1, \"#276419\"]], \"sequential\": [[0.0, \"#0d0887\"], [0.1111111111111111, \"#46039f\"], [0.2222222222222222, \"#7201a8\"], [0.3333333333333333, \"#9c179e\"], [0.4444444444444444, \"#bd3786\"], [0.5555555555555556, \"#d8576b\"], [0.6666666666666666, \"#ed7953\"], [0.7777777777777778, \"#fb9f3a\"], [0.8888888888888888, \"#fdca26\"], [1.0, \"#f0f921\"]], \"sequentialminus\": [[0.0, \"#0d0887\"], [0.1111111111111111, \"#46039f\"], [0.2222222222222222, \"#7201a8\"], [0.3333333333333333, \"#9c179e\"], [0.4444444444444444, \"#bd3786\"], [0.5555555555555556, \"#d8576b\"], [0.6666666666666666, \"#ed7953\"], [0.7777777777777778, \"#fb9f3a\"], [0.8888888888888888, \"#fdca26\"], [1.0, \"#f0f921\"]]}, \"colorway\": [\"#636efa\", \"#EF553B\", \"#00cc96\", \"#ab63fa\", \"#FFA15A\", \"#19d3f3\", \"#FF6692\", \"#B6E880\", \"#FF97FF\", \"#FECB52\"], \"font\": {\"color\": \"#2a3f5f\"}, \"geo\": {\"bgcolor\": \"white\", \"lakecolor\": \"white\", \"landcolor\": \"#E5ECF6\", \"showlakes\": true, \"showland\": true, \"subunitcolor\": \"white\"}, \"hoverlabel\": {\"align\": \"left\"}, \"hovermode\": \"closest\", \"mapbox\": {\"style\": \"light\"}, \"paper_bgcolor\": \"white\", \"plot_bgcolor\": \"#E5ECF6\", \"polar\": {\"angularaxis\": {\"gridcolor\": \"white\", \"linecolor\": \"white\", \"ticks\": \"\"}, \"bgcolor\": \"#E5ECF6\", \"radialaxis\": {\"gridcolor\": \"white\", \"linecolor\": \"white\", \"ticks\": \"\"}}, \"scene\": {\"xaxis\": {\"backgroundcolor\": \"#E5ECF6\", \"gridcolor\": \"white\", \"gridwidth\": 2, \"linecolor\": \"white\", \"showbackground\": true, \"ticks\": \"\", \"zerolinecolor\": \"white\"}, \"yaxis\": {\"backgroundcolor\": \"#E5ECF6\", \"gridcolor\": \"white\", \"gridwidth\": 2, \"linecolor\": \"white\", \"showbackground\": true, \"ticks\": \"\", \"zerolinecolor\": \"white\"}, \"zaxis\": {\"backgroundcolor\": \"#E5ECF6\", \"gridcolor\": \"white\", \"gridwidth\": 2, \"linecolor\": \"white\", \"showbackground\": true, \"ticks\": \"\", \"zerolinecolor\": \"white\"}}, \"shapedefaults\": {\"line\": {\"color\": \"#2a3f5f\"}}, \"ternary\": {\"aaxis\": {\"gridcolor\": \"white\", \"linecolor\": \"white\", \"ticks\": \"\"}, \"baxis\": {\"gridcolor\": \"white\", \"linecolor\": \"white\", \"ticks\": \"\"}, \"bgcolor\": \"#E5ECF6\", \"caxis\": {\"gridcolor\": \"white\", \"linecolor\": \"white\", \"ticks\": \"\"}}, \"title\": {\"x\": 0.05}, \"xaxis\": {\"automargin\": true, \"gridcolor\": \"white\", \"linecolor\": \"white\", \"ticks\": \"\", \"title\": {\"standoff\": 15}, \"zerolinecolor\": \"white\", \"zerolinewidth\": 2}, \"yaxis\": {\"automargin\": true, \"gridcolor\": \"white\", \"linecolor\": \"white\", \"ticks\": \"\", \"title\": {\"standoff\": 15}, \"zerolinecolor\": \"white\", \"zerolinewidth\": 2}}}},                        {\"responsive\": true}                    ).then(function(){\n",
              "                            \n",
              "var gd = document.getElementById('a9ebb0f0-3cf1-48bc-badf-2d62d13e77c4');\n",
              "var x = new MutationObserver(function (mutations, observer) {{\n",
              "        var display = window.getComputedStyle(gd).display;\n",
              "        if (!display || display === 'none') {{\n",
              "            console.log([gd, 'removed!']);\n",
              "            Plotly.purge(gd);\n",
              "            observer.disconnect();\n",
              "        }}\n",
              "}});\n",
              "\n",
              "// Listen for the removal of the full notebook cells\n",
              "var notebookContainer = gd.closest('#notebook-container');\n",
              "if (notebookContainer) {{\n",
              "    x.observe(notebookContainer, {childList: true});\n",
              "}}\n",
              "\n",
              "// Listen for the clearing of the current output cell\n",
              "var outputEl = gd.closest('.output');\n",
              "if (outputEl) {{\n",
              "    x.observe(outputEl, {childList: true});\n",
              "}}\n",
              "\n",
              "                        })                };                            </script>        </div>\n",
              "</body>\n",
              "</html>"
            ]
          },
          "metadata": {
            "tags": []
          }
        }
      ]
    },
    {
      "cell_type": "markdown",
      "metadata": {
        "id": "9W5kvtkRr7VW"
      },
      "source": [
        "## Grafo"
      ]
    },
    {
      "cell_type": "code",
      "metadata": {
        "id": "fiReXW4er9XV"
      },
      "source": [
        "import plotly.graph_objects as go\n",
        "\n",
        "import networkx as nx\n",
        "\n",
        "G = nx.random_geometric_graph(200, 0.125)"
      ],
      "execution_count": null,
      "outputs": []
    },
    {
      "cell_type": "markdown",
      "metadata": {
        "id": "zcc_ss8MdFNh"
      },
      "source": [
        "## Neighbor-Joining tree"
      ]
    },
    {
      "cell_type": "markdown",
      "metadata": {
        "id": "i3ocJItKtpl8"
      },
      "source": [
        "Vamos gerar um gráfico de linhas para o conjunto de dados Auto-MPG Cars. Considere que cada carro é enumerado por um número inteiro de 1 a N, em que N é a quantidade de instâncias. Agora vamos criar uma nova coluna no DataFrame para possibilitar seu uso como eixo X no gráfico de linhas (Line Chart) do Plotly:"
      ]
    },
    {
      "cell_type": "code",
      "metadata": {
        "id": "-Ov9hczGtmjG"
      },
      "source": [
        "data = [[0,  5,  9,  9,  8],\n",
        "...         [5,  0, 10, 10,  9],\n",
        "...         [9, 10,  0,  8,  7],\n",
        "...         [9, 10,  8,  0,  3],\n",
        "...         [8,  9,  7,  3,  0]]\n",
        "ids = list('abcde')\n",
        "dm = DistanceMatrix(data, ids)\n"
      ],
      "execution_count": 25,
      "outputs": []
    },
    {
      "cell_type": "markdown",
      "metadata": {
        "id": "ITRJTt0EwqdO"
      },
      "source": [
        "Visualização da árvore de similaridade:"
      ]
    },
    {
      "cell_type": "code",
      "metadata": {
        "colab": {
          "base_uri": "https://localhost:8080/"
        },
        "id": "4cJPOGbUwqk-",
        "outputId": "2deb2361-8e4d-4d45-b4e6-462baccc7b98"
      },
      "source": [
        "tree = nj(dm)\n",
        "print(tree.ascii_art())"
      ],
      "execution_count": 26,
      "outputs": [
        {
          "output_type": "stream",
          "text": [
            "          /-d\n",
            "         |\n",
            "         |          /-c\n",
            "         |---------|\n",
            "---------|         |          /-b\n",
            "         |          \\--------|\n",
            "         |                    \\-a\n",
            "         |\n",
            "          \\-e\n"
          ],
          "name": "stdout"
        }
      ]
    },
    {
      "cell_type": "markdown",
      "metadata": {
        "id": "yUKcj5sDh6h9"
      },
      "source": [
        "## Avaliação da Qualidade de Projeções"
      ]
    },
    {
      "cell_type": "code",
      "metadata": {
        "id": "DoXAmWD_h_SB"
      },
      "source": [
        "kneigh = []\n",
        "y_tsne = []\n",
        "y_pca = []\n",
        "y_isomap = []\n",
        "\n",
        "for k in range(1,51):\n",
        "  precision = trustworthiness(X, X_tsne, n_neighbors=k, metric='euclidean')\n",
        "  kneigh.append(k)\n",
        "  y_tsne.append(precision)\n",
        "  precision = trustworthiness(X, X_pca, n_neighbors=k, metric='euclidean')\n",
        "  y_pca.append(precision)\n",
        "  precision = trustworthiness(X, X_isomap, n_neighbors=k, metric='euclidean')\n",
        "  y_isomap.append(precision)\n"
      ],
      "execution_count": null,
      "outputs": []
    },
    {
      "cell_type": "markdown",
      "metadata": {
        "id": "kOZ7tqDDtm2E"
      },
      "source": [
        "Em seguida, podemos criar um gráfico de linhas:"
      ]
    },
    {
      "cell_type": "code",
      "metadata": {
        "id": "ledNhfYkqf7N"
      },
      "source": [
        "fig = go.Figure()\n",
        "fig.add_trace(go.Scatter(x=kneigh, y=y_tsne,\n",
        "                    mode='lines+markers',\n",
        "                    name='t-SNE'))\n",
        "fig.add_trace(go.Scatter(x=kneigh, y=y_pca,\n",
        "                    mode='lines+markers',\n",
        "                    name='PCA'))\n",
        "fig.add_trace(go.Scatter(x=kneigh, y=y_isomap,\n",
        "                    mode='lines+markers',\n",
        "                    name='Isomap'))\n",
        "\n",
        "fig.show()"
      ],
      "execution_count": null,
      "outputs": []
    },
    {
      "cell_type": "markdown",
      "metadata": {
        "id": "QTCwwkNXwRcD"
      },
      "source": [
        "Vamos gerar outro gráfico de linhas, agora considerando a ordenação do atributo de preço médio do veículo (displacement):\n"
      ]
    },
    {
      "cell_type": "code",
      "metadata": {
        "id": "f2tqiTg4wRly"
      },
      "source": [
        ""
      ],
      "execution_count": null,
      "outputs": []
    },
    {
      "cell_type": "markdown",
      "metadata": {
        "id": "3OiRLLZSxh05"
      },
      "source": [
        "## Coordenadas Paralelas"
      ]
    }
  ]
}