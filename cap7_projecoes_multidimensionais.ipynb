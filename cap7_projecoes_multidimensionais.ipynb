{
  "nbformat": 4,
  "nbformat_minor": 0,
  "metadata": {
    "colab": {
      "name": "cap7_projecoes_multidimensionais.ipynb",
      "provenance": [],
      "collapsed_sections": [],
      "toc_visible": true,
      "include_colab_link": true
    },
    "kernelspec": {
      "display_name": "Python 3",
      "language": "python",
      "name": "python3"
    },
    "language_info": {
      "codemirror_mode": {
        "name": "ipython",
        "version": 3
      },
      "file_extension": ".py",
      "mimetype": "text/x-python",
      "name": "python",
      "nbconvert_exporter": "python",
      "pygments_lexer": "ipython3",
      "version": "3.6.10"
    }
  },
  "cells": [
    {
      "cell_type": "markdown",
      "metadata": {
        "id": "view-in-github",
        "colab_type": "text"
      },
      "source": [
        "<a href=\"https://colab.research.google.com/github/viniciusrpb/datavis_book/blob/main/cap7_projecoes_multidimensionais.ipynb\" target=\"_parent\"><img src=\"https://colab.research.google.com/assets/colab-badge.svg\" alt=\"Open In Colab\"/></a>"
      ]
    },
    {
      "cell_type": "markdown",
      "metadata": {
        "id": "JFhO1kZQPonA"
      },
      "source": [
        "#Capítulo 7 - Visualizações baseadas em Projeções Multi-dimensionais"
      ]
    },
    {
      "cell_type": "markdown",
      "metadata": {
        "id": "0OnyXDCTp0-0"
      },
      "source": [
        "Instalação do plotly e do renderer Orca, para que o Github apresente as imagens geradas pelo Plotly"
      ]
    },
    {
      "cell_type": "code",
      "metadata": {
        "id": "bLiPKsx_p1ZT"
      },
      "source": [
        "#!pip install plotly==4.14.3\n",
        "#!pip install orca\n",
        "#!apt-get install xvfb libgtk2.0-0 libgconf-2-4"
      ],
      "execution_count": 83,
      "outputs": []
    },
    {
      "cell_type": "markdown",
      "metadata": {
        "id": "Fk3DAY9kPl7Z"
      },
      "source": [
        "Bibliotecas importantes"
      ]
    },
    {
      "cell_type": "code",
      "metadata": {
        "id": "k30sCmYRPWTC"
      },
      "source": [
        "import pandas as pd\n",
        "from sklearn import preprocessing\n",
        "#from ipywidgets import interactive, HBox, VBox\n",
        "import plotly.express as px\n",
        "#from plotly.offline import init_notebook_mode, iplot\n",
        "##import plotly.offline as py\n",
        "import plotly.graph_objects as go\n",
        "import numpy as np\n",
        "from sklearn.decomposition import PCA as sklearnPCA\n",
        "from sklearn.manifold import TSNE\n",
        "from sklearn.manifold import Isomap\n",
        "from sklearn.manifold.t_sne import trustworthiness\n"
      ],
      "execution_count": 84,
      "outputs": []
    },
    {
      "cell_type": "markdown",
      "metadata": {
        "id": "z6OL0pC9Q8Ak"
      },
      "source": [
        "Abre o arquivo .data utilizando o Pandas. O conjunto auto-mpg pode ser baixado aqui:\n",
        "\n",
        "\n",
        "https://archive.ics.uci.edu/ml/datasets/Auto+MPG"
      ]
    },
    {
      "cell_type": "code",
      "metadata": {
        "id": "IcrsmJCHPWTG"
      },
      "source": [
        "raw_data = pd.read_csv(\"auto-mpg.csv\")"
      ],
      "execution_count": 85,
      "outputs": []
    },
    {
      "cell_type": "code",
      "metadata": {
        "id": "2qSe656kRIvS",
        "colab": {
          "base_uri": "https://localhost:8080/",
          "height": 271
        },
        "outputId": "cd0ceb8a-2c10-45ae-8747-5c77d637ad87"
      },
      "source": [
        "raw_data.head()"
      ],
      "execution_count": 86,
      "outputs": [
        {
          "output_type": "execute_result",
          "data": {
            "text/html": [
              "<div>\n",
              "<style scoped>\n",
              "    .dataframe tbody tr th:only-of-type {\n",
              "        vertical-align: middle;\n",
              "    }\n",
              "\n",
              "    .dataframe tbody tr th {\n",
              "        vertical-align: top;\n",
              "    }\n",
              "\n",
              "    .dataframe thead th {\n",
              "        text-align: right;\n",
              "    }\n",
              "</style>\n",
              "<table border=\"1\" class=\"dataframe\">\n",
              "  <thead>\n",
              "    <tr style=\"text-align: right;\">\n",
              "      <th></th>\n",
              "      <th>mpg</th>\n",
              "      <th>cylinders</th>\n",
              "      <th>displacement</th>\n",
              "      <th>horsepower</th>\n",
              "      <th>weight</th>\n",
              "      <th>acceleration</th>\n",
              "      <th>model year</th>\n",
              "      <th>origin</th>\n",
              "      <th>car name</th>\n",
              "    </tr>\n",
              "  </thead>\n",
              "  <tbody>\n",
              "    <tr>\n",
              "      <th>0</th>\n",
              "      <td>18.0</td>\n",
              "      <td>8</td>\n",
              "      <td>307.0</td>\n",
              "      <td>130</td>\n",
              "      <td>3504</td>\n",
              "      <td>12.0</td>\n",
              "      <td>70</td>\n",
              "      <td>1</td>\n",
              "      <td>chevrolet chevelle malibu</td>\n",
              "    </tr>\n",
              "    <tr>\n",
              "      <th>1</th>\n",
              "      <td>15.0</td>\n",
              "      <td>8</td>\n",
              "      <td>350.0</td>\n",
              "      <td>165</td>\n",
              "      <td>3693</td>\n",
              "      <td>11.5</td>\n",
              "      <td>70</td>\n",
              "      <td>1</td>\n",
              "      <td>buick skylark 320</td>\n",
              "    </tr>\n",
              "    <tr>\n",
              "      <th>2</th>\n",
              "      <td>18.0</td>\n",
              "      <td>8</td>\n",
              "      <td>318.0</td>\n",
              "      <td>150</td>\n",
              "      <td>3436</td>\n",
              "      <td>11.0</td>\n",
              "      <td>70</td>\n",
              "      <td>1</td>\n",
              "      <td>plymouth satellite</td>\n",
              "    </tr>\n",
              "    <tr>\n",
              "      <th>3</th>\n",
              "      <td>16.0</td>\n",
              "      <td>8</td>\n",
              "      <td>304.0</td>\n",
              "      <td>150</td>\n",
              "      <td>3433</td>\n",
              "      <td>12.0</td>\n",
              "      <td>70</td>\n",
              "      <td>1</td>\n",
              "      <td>amc rebel sst</td>\n",
              "    </tr>\n",
              "    <tr>\n",
              "      <th>4</th>\n",
              "      <td>17.0</td>\n",
              "      <td>8</td>\n",
              "      <td>302.0</td>\n",
              "      <td>140</td>\n",
              "      <td>3449</td>\n",
              "      <td>10.5</td>\n",
              "      <td>70</td>\n",
              "      <td>1</td>\n",
              "      <td>ford torino</td>\n",
              "    </tr>\n",
              "  </tbody>\n",
              "</table>\n",
              "</div>"
            ],
            "text/plain": [
              "    mpg  cylinders  displacement  ... model year  origin                   car name\n",
              "0  18.0          8         307.0  ...         70       1  chevrolet chevelle malibu\n",
              "1  15.0          8         350.0  ...         70       1          buick skylark 320\n",
              "2  18.0          8         318.0  ...         70       1         plymouth satellite\n",
              "3  16.0          8         304.0  ...         70       1              amc rebel sst\n",
              "4  17.0          8         302.0  ...         70       1                ford torino\n",
              "\n",
              "[5 rows x 9 columns]"
            ]
          },
          "metadata": {
            "tags": []
          },
          "execution_count": 86
        }
      ]
    },
    {
      "cell_type": "markdown",
      "metadata": {
        "id": "196OrKOKinVf"
      },
      "source": [
        "Informações sobre os atributos\n"
      ]
    },
    {
      "cell_type": "code",
      "metadata": {
        "id": "x8GZPgCIcxkC"
      },
      "source": [
        "raw_data = raw_data.replace('?',np.NaN)\n",
        "raw_data = raw_data.replace('NA',np.NaN)\n",
        "raw_data = raw_data.dropna(axis=0)"
      ],
      "execution_count": 87,
      "outputs": []
    },
    {
      "cell_type": "markdown",
      "metadata": {
        "id": "BHXs5q7qNPGJ"
      },
      "source": [
        ""
      ]
    },
    {
      "cell_type": "code",
      "metadata": {
        "colab": {
          "base_uri": "https://localhost:8080/",
          "height": 415
        },
        "id": "Jb_gin8wNPPB",
        "outputId": "21ee4d60-c090-4708-f25b-8291390505c7"
      },
      "source": [
        "paises = {1: \"USA\", 2: \"Europe\",3: \"Japan\"}\n",
        "\n",
        "label = raw_data[\"origin\"]\n",
        "label_int = raw_data[\"origin\"]\n",
        "\n",
        "label = label.replace(paises)\n",
        "info_hover = raw_data[\"car name\"]\n",
        "raw_data = raw_data.drop(labels=[\"origin\",\"car name\"],axis=1)\n",
        "\n",
        "raw_data"
      ],
      "execution_count": 88,
      "outputs": [
        {
          "output_type": "execute_result",
          "data": {
            "text/html": [
              "<div>\n",
              "<style scoped>\n",
              "    .dataframe tbody tr th:only-of-type {\n",
              "        vertical-align: middle;\n",
              "    }\n",
              "\n",
              "    .dataframe tbody tr th {\n",
              "        vertical-align: top;\n",
              "    }\n",
              "\n",
              "    .dataframe thead th {\n",
              "        text-align: right;\n",
              "    }\n",
              "</style>\n",
              "<table border=\"1\" class=\"dataframe\">\n",
              "  <thead>\n",
              "    <tr style=\"text-align: right;\">\n",
              "      <th></th>\n",
              "      <th>mpg</th>\n",
              "      <th>cylinders</th>\n",
              "      <th>displacement</th>\n",
              "      <th>horsepower</th>\n",
              "      <th>weight</th>\n",
              "      <th>acceleration</th>\n",
              "      <th>model year</th>\n",
              "    </tr>\n",
              "  </thead>\n",
              "  <tbody>\n",
              "    <tr>\n",
              "      <th>0</th>\n",
              "      <td>18.0</td>\n",
              "      <td>8</td>\n",
              "      <td>307.0</td>\n",
              "      <td>130</td>\n",
              "      <td>3504</td>\n",
              "      <td>12.0</td>\n",
              "      <td>70</td>\n",
              "    </tr>\n",
              "    <tr>\n",
              "      <th>1</th>\n",
              "      <td>15.0</td>\n",
              "      <td>8</td>\n",
              "      <td>350.0</td>\n",
              "      <td>165</td>\n",
              "      <td>3693</td>\n",
              "      <td>11.5</td>\n",
              "      <td>70</td>\n",
              "    </tr>\n",
              "    <tr>\n",
              "      <th>2</th>\n",
              "      <td>18.0</td>\n",
              "      <td>8</td>\n",
              "      <td>318.0</td>\n",
              "      <td>150</td>\n",
              "      <td>3436</td>\n",
              "      <td>11.0</td>\n",
              "      <td>70</td>\n",
              "    </tr>\n",
              "    <tr>\n",
              "      <th>3</th>\n",
              "      <td>16.0</td>\n",
              "      <td>8</td>\n",
              "      <td>304.0</td>\n",
              "      <td>150</td>\n",
              "      <td>3433</td>\n",
              "      <td>12.0</td>\n",
              "      <td>70</td>\n",
              "    </tr>\n",
              "    <tr>\n",
              "      <th>4</th>\n",
              "      <td>17.0</td>\n",
              "      <td>8</td>\n",
              "      <td>302.0</td>\n",
              "      <td>140</td>\n",
              "      <td>3449</td>\n",
              "      <td>10.5</td>\n",
              "      <td>70</td>\n",
              "    </tr>\n",
              "    <tr>\n",
              "      <th>...</th>\n",
              "      <td>...</td>\n",
              "      <td>...</td>\n",
              "      <td>...</td>\n",
              "      <td>...</td>\n",
              "      <td>...</td>\n",
              "      <td>...</td>\n",
              "      <td>...</td>\n",
              "    </tr>\n",
              "    <tr>\n",
              "      <th>393</th>\n",
              "      <td>27.0</td>\n",
              "      <td>4</td>\n",
              "      <td>140.0</td>\n",
              "      <td>86</td>\n",
              "      <td>2790</td>\n",
              "      <td>15.6</td>\n",
              "      <td>82</td>\n",
              "    </tr>\n",
              "    <tr>\n",
              "      <th>394</th>\n",
              "      <td>44.0</td>\n",
              "      <td>4</td>\n",
              "      <td>97.0</td>\n",
              "      <td>52</td>\n",
              "      <td>2130</td>\n",
              "      <td>24.6</td>\n",
              "      <td>82</td>\n",
              "    </tr>\n",
              "    <tr>\n",
              "      <th>395</th>\n",
              "      <td>32.0</td>\n",
              "      <td>4</td>\n",
              "      <td>135.0</td>\n",
              "      <td>84</td>\n",
              "      <td>2295</td>\n",
              "      <td>11.6</td>\n",
              "      <td>82</td>\n",
              "    </tr>\n",
              "    <tr>\n",
              "      <th>396</th>\n",
              "      <td>28.0</td>\n",
              "      <td>4</td>\n",
              "      <td>120.0</td>\n",
              "      <td>79</td>\n",
              "      <td>2625</td>\n",
              "      <td>18.6</td>\n",
              "      <td>82</td>\n",
              "    </tr>\n",
              "    <tr>\n",
              "      <th>397</th>\n",
              "      <td>31.0</td>\n",
              "      <td>4</td>\n",
              "      <td>119.0</td>\n",
              "      <td>82</td>\n",
              "      <td>2720</td>\n",
              "      <td>19.4</td>\n",
              "      <td>82</td>\n",
              "    </tr>\n",
              "  </tbody>\n",
              "</table>\n",
              "<p>392 rows × 7 columns</p>\n",
              "</div>"
            ],
            "text/plain": [
              "      mpg  cylinders  displacement horsepower  weight  acceleration  model year\n",
              "0    18.0          8         307.0        130    3504          12.0          70\n",
              "1    15.0          8         350.0        165    3693          11.5          70\n",
              "2    18.0          8         318.0        150    3436          11.0          70\n",
              "3    16.0          8         304.0        150    3433          12.0          70\n",
              "4    17.0          8         302.0        140    3449          10.5          70\n",
              "..    ...        ...           ...        ...     ...           ...         ...\n",
              "393  27.0          4         140.0         86    2790          15.6          82\n",
              "394  44.0          4          97.0         52    2130          24.6          82\n",
              "395  32.0          4         135.0         84    2295          11.6          82\n",
              "396  28.0          4         120.0         79    2625          18.6          82\n",
              "397  31.0          4         119.0         82    2720          19.4          82\n",
              "\n",
              "[392 rows x 7 columns]"
            ]
          },
          "metadata": {
            "tags": []
          },
          "execution_count": 88
        }
      ]
    },
    {
      "cell_type": "code",
      "metadata": {
        "id": "3ZL9IgT0ingS"
      },
      "source": [
        "raw_data.dtypes\n",
        "\n",
        "raw_data[\"horsepower\"] = raw_data[\"horsepower\"].astype(float)"
      ],
      "execution_count": 89,
      "outputs": []
    },
    {
      "cell_type": "code",
      "metadata": {
        "id": "XtKSBuJWPWTG",
        "colab": {
          "base_uri": "https://localhost:8080/",
          "height": 542
        },
        "outputId": "2df358bb-cb8f-4007-88bf-2f52e2f959ef"
      },
      "source": [
        "#import plotly.io as pio\n",
        "#pio.renderers.default = 'png'\n",
        "import plotly.express as px\n",
        "df = raw_data.copy()\n",
        "df[\"origin\"] = label\n",
        "df[\"nomecarro\"] = info_hover\n",
        "df[\"origin_int\"] = label_int\n",
        "\n",
        "fig = px.scatter(df, x=\"mpg\", y=\"displacement\",color=\"origin\")\n",
        "fig.show()"
      ],
      "execution_count": 90,
      "outputs": [
        {
          "output_type": "display_data",
          "data": {
            "text/html": [
              "<html>\n",
              "<head><meta charset=\"utf-8\" /></head>\n",
              "<body>\n",
              "    <div>\n",
              "            <script src=\"https://cdnjs.cloudflare.com/ajax/libs/mathjax/2.7.5/MathJax.js?config=TeX-AMS-MML_SVG\"></script><script type=\"text/javascript\">if (window.MathJax) {MathJax.Hub.Config({SVG: {font: \"STIX-Web\"}});}</script>\n",
              "                <script type=\"text/javascript\">window.PlotlyConfig = {MathJaxConfig: 'local'};</script>\n",
              "        <script src=\"https://cdn.plot.ly/plotly-latest.min.js\"></script>    \n",
              "            <div id=\"3d679927-11c9-4021-af65-ec3cc9029d64\" class=\"plotly-graph-div\" style=\"height:525px; width:100%;\"></div>\n",
              "            <script type=\"text/javascript\">\n",
              "                \n",
              "                    window.PLOTLYENV=window.PLOTLYENV || {};\n",
              "                    \n",
              "                if (document.getElementById(\"3d679927-11c9-4021-af65-ec3cc9029d64\")) {\n",
              "                    Plotly.newPlot(\n",
              "                        '3d679927-11c9-4021-af65-ec3cc9029d64',\n",
              "                        [{\"hoverlabel\": {\"namelength\": 0}, \"hovertemplate\": \"origin=USA<br>mpg=%{x}<br>displacement=%{y}\", \"legendgroup\": \"origin=USA\", \"marker\": {\"color\": \"#636efa\", \"symbol\": \"circle\"}, \"mode\": \"markers\", \"name\": \"origin=USA\", \"showlegend\": true, \"type\": \"scatter\", \"x\": [18.0, 15.0, 18.0, 16.0, 17.0, 15.0, 14.0, 14.0, 14.0, 15.0, 15.0, 14.0, 15.0, 14.0, 22.0, 18.0, 21.0, 21.0, 10.0, 10.0, 11.0, 9.0, 28.0, 19.0, 16.0, 17.0, 19.0, 18.0, 14.0, 14.0, 14.0, 14.0, 12.0, 13.0, 13.0, 18.0, 22.0, 19.0, 18.0, 23.0, 26.0, 25.0, 20.0, 21.0, 13.0, 14.0, 15.0, 14.0, 17.0, 11.0, 13.0, 12.0, 13.0, 15.0, 13.0, 13.0, 14.0, 22.0, 28.0, 13.0, 14.0, 13.0, 14.0, 15.0, 12.0, 13.0, 13.0, 14.0, 13.0, 12.0, 13.0, 18.0, 16.0, 18.0, 18.0, 23.0, 11.0, 12.0, 13.0, 12.0, 18.0, 21.0, 19.0, 21.0, 15.0, 16.0, 15.0, 11.0, 20.0, 19.0, 15.0, 26.0, 25.0, 16.0, 16.0, 18.0, 16.0, 13.0, 14.0, 14.0, 14.0, 28.0, 19.0, 18.0, 15.0, 15.0, 16.0, 15.0, 16.0, 14.0, 17.0, 16.0, 15.0, 18.0, 21.0, 20.0, 13.0, 23.0, 20.0, 23.0, 18.0, 19.0, 25.0, 26.0, 17.5, 16.0, 15.5, 14.5, 22.0, 22.0, 24.0, 22.5, 29.0, 24.5, 20.0, 18.0, 18.5, 17.5, 26.5, 13.0, 16.5, 13.0, 13.0, 13.0, 30.0, 25.5, 17.5, 17.0, 15.5, 15.0, 17.5, 20.5, 19.0, 18.5, 16.0, 15.5, 15.5, 16.0, 24.5, 25.5, 30.5, 33.5, 36.1, 19.9, 19.4, 20.2, 19.2, 20.5, 20.2, 25.1, 20.5, 19.4, 20.6, 20.8, 18.6, 18.1, 19.2, 17.7, 18.1, 17.5, 30.0, 30.9, 23.2, 23.8, 21.5, 19.8, 22.3, 20.2, 20.6, 17.0, 17.6, 16.5, 18.2, 16.9, 15.5, 19.2, 18.5, 35.7, 27.4, 23.0, 23.9, 34.2, 34.5, 28.4, 28.8, 26.8, 33.5, 32.1, 28.0, 26.4, 24.3, 19.1, 27.9, 27.2, 26.6, 25.8, 23.5, 30.0, 39.0, 34.7, 34.4, 29.9, 22.4, 26.6, 20.2, 17.6, 28.0, 27.0, 34.0, 31.0, 29.0, 27.0, 24.0, 38.0, 36.0, 25.0, 38.0, 26.0, 22.0, 36.0, 27.0, 27.0, 32.0, 28.0, 31.0], \"xaxis\": \"x\", \"y\": [307.0, 350.0, 318.0, 304.0, 302.0, 429.0, 454.0, 440.0, 455.0, 390.0, 383.0, 340.0, 400.0, 455.0, 198.0, 199.0, 200.0, 199.0, 360.0, 307.0, 318.0, 304.0, 140.0, 232.0, 225.0, 250.0, 250.0, 232.0, 350.0, 400.0, 351.0, 318.0, 383.0, 400.0, 400.0, 258.0, 140.0, 250.0, 250.0, 122.0, 91.0, 97.5, 140.0, 122.0, 350.0, 400.0, 318.0, 351.0, 304.0, 429.0, 350.0, 350.0, 400.0, 304.0, 307.0, 302.0, 318.0, 122.0, 98.0, 350.0, 304.0, 350.0, 302.0, 318.0, 429.0, 400.0, 351.0, 318.0, 440.0, 455.0, 360.0, 225.0, 250.0, 232.0, 250.0, 198.0, 400.0, 400.0, 360.0, 350.0, 232.0, 140.0, 122.0, 155.0, 350.0, 400.0, 318.0, 350.0, 198.0, 232.0, 250.0, 122.0, 140.0, 250.0, 258.0, 225.0, 302.0, 350.0, 318.0, 302.0, 304.0, 90.0, 225.0, 250.0, 250.0, 250.0, 400.0, 350.0, 318.0, 351.0, 231.0, 250.0, 258.0, 225.0, 231.0, 262.0, 302.0, 140.0, 232.0, 140.0, 171.0, 232.0, 140.0, 98.0, 305.0, 318.0, 304.0, 351.0, 225.0, 250.0, 200.0, 232.0, 85.0, 98.0, 225.0, 250.0, 250.0, 258.0, 140.0, 318.0, 350.0, 350.0, 302.0, 318.0, 111.0, 122.0, 305.0, 260.0, 318.0, 302.0, 250.0, 231.0, 225.0, 250.0, 400.0, 350.0, 400.0, 351.0, 151.0, 140.0, 98.0, 98.0, 98.0, 260.0, 318.0, 302.0, 231.0, 200.0, 200.0, 140.0, 225.0, 232.0, 231.0, 200.0, 225.0, 258.0, 305.0, 231.0, 302.0, 318.0, 98.0, 105.0, 156.0, 151.0, 231.0, 200.0, 140.0, 232.0, 225.0, 305.0, 302.0, 351.0, 318.0, 350.0, 351.0, 267.0, 360.0, 98.0, 121.0, 350.0, 260.0, 105.0, 105.0, 151.0, 173.0, 173.0, 151.0, 98.0, 151.0, 140.0, 151.0, 225.0, 156.0, 135.0, 151.0, 156.0, 173.0, 135.0, 86.0, 105.0, 98.0, 98.0, 231.0, 350.0, 200.0, 225.0, 112.0, 112.0, 112.0, 112.0, 135.0, 151.0, 140.0, 105.0, 98.0, 181.0, 262.0, 156.0, 232.0, 135.0, 151.0, 140.0, 135.0, 120.0, 119.0], \"yaxis\": \"y\"}, {\"hoverlabel\": {\"namelength\": 0}, \"hovertemplate\": \"origin=Japan<br>mpg=%{x}<br>displacement=%{y}\", \"legendgroup\": \"origin=Japan\", \"marker\": {\"color\": \"#EF553B\", \"symbol\": \"circle\"}, \"mode\": \"markers\", \"name\": \"origin=Japan\", \"showlegend\": true, \"type\": \"scatter\", \"x\": [24.0, 27.0, 27.0, 25.0, 31.0, 35.0, 24.0, 19.0, 28.0, 23.0, 27.0, 20.0, 22.0, 18.0, 20.0, 31.0, 32.0, 31.0, 32.0, 24.0, 26.0, 29.0, 24.0, 24.0, 33.0, 33.0, 32.0, 28.0, 19.0, 31.5, 33.5, 26.0, 30.0, 22.0, 21.5, 32.8, 39.4, 36.1, 27.5, 27.2, 21.1, 23.9, 29.5, 34.1, 31.8, 38.1, 37.2, 29.8, 31.3, 37.0, 32.2, 46.6, 40.8, 44.6, 33.8, 32.7, 23.7, 32.4, 39.1, 35.1, 32.3, 37.0, 37.7, 34.1, 33.7, 32.4, 32.9, 31.6, 25.4, 24.2, 37.0, 31.0, 36.0, 36.0, 34.0, 38.0, 32.0, 38.0, 32.0], \"xaxis\": \"x\", \"y\": [113.0, 97.0, 97.0, 113.0, 71.0, 72.0, 113.0, 70.0, 97.0, 120.0, 97.0, 97.0, 108.0, 70.0, 156.0, 79.0, 71.0, 76.0, 83.0, 120.0, 108.0, 97.0, 134.0, 119.0, 91.0, 91.0, 85.0, 97.0, 156.0, 98.0, 85.0, 97.0, 97.0, 146.0, 80.0, 78.0, 85.0, 91.0, 134.0, 119.0, 134.0, 119.0, 98.0, 86.0, 85.0, 89.0, 86.0, 134.0, 120.0, 119.0, 108.0, 86.0, 85.0, 91.0, 97.0, 168.0, 70.0, 107.0, 79.0, 81.0, 97.0, 85.0, 89.0, 91.0, 107.0, 108.0, 119.0, 120.0, 168.0, 146.0, 91.0, 91.0, 120.0, 107.0, 108.0, 91.0, 91.0, 91.0, 144.0], \"yaxis\": \"y\"}, {\"hoverlabel\": {\"namelength\": 0}, \"hovertemplate\": \"origin=Europe<br>mpg=%{x}<br>displacement=%{y}\", \"legendgroup\": \"origin=Europe\", \"marker\": {\"color\": \"#00cc96\", \"symbol\": \"circle\"}, \"mode\": \"markers\", \"name\": \"origin=Europe\", \"showlegend\": true, \"type\": \"scatter\", \"x\": [26.0, 25.0, 24.0, 25.0, 26.0, 28.0, 30.0, 30.0, 27.0, 23.0, 18.0, 22.0, 21.0, 26.0, 26.0, 26.0, 29.0, 24.0, 20.0, 19.0, 24.0, 29.0, 26.0, 26.0, 24.0, 26.0, 31.0, 25.0, 29.0, 23.0, 23.0, 22.0, 25.0, 28.0, 25.0, 27.0, 29.0, 29.5, 20.0, 19.0, 16.5, 36.0, 29.0, 30.5, 21.5, 43.1, 20.3, 17.0, 21.6, 16.2, 31.5, 31.9, 25.4, 27.2, 37.3, 41.5, 34.3, 44.3, 43.4, 36.4, 30.0, 29.8, 35.0, 33.0, 28.1, 30.7, 36.0, 44.0], \"xaxis\": \"x\", \"y\": [97.0, 110.0, 107.0, 104.0, 121.0, 116.0, 79.0, 88.0, 97.0, 97.0, 121.0, 121.0, 120.0, 96.0, 97.0, 98.0, 68.0, 116.0, 114.0, 121.0, 121.0, 98.0, 79.0, 97.0, 90.0, 116.0, 79.0, 90.0, 90.0, 115.0, 120.0, 121.0, 121.0, 107.0, 116.0, 101.0, 90.0, 97.0, 130.0, 120.0, 168.0, 79.0, 97.0, 97.0, 121.0, 90.0, 131.0, 163.0, 121.0, 163.0, 89.0, 89.0, 183.0, 141.0, 91.0, 98.0, 97.0, 90.0, 90.0, 121.0, 146.0, 89.0, 122.0, 105.0, 141.0, 145.0, 105.0, 97.0], \"yaxis\": \"y\"}],\n",
              "                        {\"legend\": {\"tracegroupgap\": 0}, \"margin\": {\"t\": 60}, \"template\": {\"data\": {\"bar\": [{\"error_x\": {\"color\": \"#2a3f5f\"}, \"error_y\": {\"color\": \"#2a3f5f\"}, \"marker\": {\"line\": {\"color\": \"#E5ECF6\", \"width\": 0.5}}, \"type\": \"bar\"}], \"barpolar\": [{\"marker\": {\"line\": {\"color\": \"#E5ECF6\", \"width\": 0.5}}, \"type\": \"barpolar\"}], \"carpet\": [{\"aaxis\": {\"endlinecolor\": \"#2a3f5f\", \"gridcolor\": \"white\", \"linecolor\": \"white\", \"minorgridcolor\": \"white\", \"startlinecolor\": \"#2a3f5f\"}, \"baxis\": {\"endlinecolor\": \"#2a3f5f\", \"gridcolor\": \"white\", \"linecolor\": \"white\", \"minorgridcolor\": \"white\", \"startlinecolor\": \"#2a3f5f\"}, \"type\": \"carpet\"}], \"choropleth\": [{\"colorbar\": {\"outlinewidth\": 0, \"ticks\": \"\"}, \"type\": \"choropleth\"}], \"contour\": [{\"colorbar\": {\"outlinewidth\": 0, \"ticks\": \"\"}, \"colorscale\": [[0.0, \"#0d0887\"], [0.1111111111111111, \"#46039f\"], [0.2222222222222222, \"#7201a8\"], [0.3333333333333333, \"#9c179e\"], [0.4444444444444444, \"#bd3786\"], [0.5555555555555556, \"#d8576b\"], [0.6666666666666666, \"#ed7953\"], [0.7777777777777778, \"#fb9f3a\"], [0.8888888888888888, \"#fdca26\"], [1.0, \"#f0f921\"]], \"type\": \"contour\"}], \"contourcarpet\": [{\"colorbar\": {\"outlinewidth\": 0, \"ticks\": \"\"}, \"type\": \"contourcarpet\"}], \"heatmap\": [{\"colorbar\": {\"outlinewidth\": 0, \"ticks\": \"\"}, \"colorscale\": [[0.0, \"#0d0887\"], [0.1111111111111111, \"#46039f\"], [0.2222222222222222, \"#7201a8\"], [0.3333333333333333, \"#9c179e\"], [0.4444444444444444, \"#bd3786\"], [0.5555555555555556, \"#d8576b\"], [0.6666666666666666, \"#ed7953\"], [0.7777777777777778, \"#fb9f3a\"], [0.8888888888888888, \"#fdca26\"], [1.0, \"#f0f921\"]], \"type\": \"heatmap\"}], \"heatmapgl\": [{\"colorbar\": {\"outlinewidth\": 0, \"ticks\": \"\"}, \"colorscale\": [[0.0, \"#0d0887\"], [0.1111111111111111, \"#46039f\"], [0.2222222222222222, \"#7201a8\"], [0.3333333333333333, \"#9c179e\"], [0.4444444444444444, \"#bd3786\"], [0.5555555555555556, \"#d8576b\"], [0.6666666666666666, \"#ed7953\"], [0.7777777777777778, \"#fb9f3a\"], [0.8888888888888888, \"#fdca26\"], [1.0, \"#f0f921\"]], \"type\": \"heatmapgl\"}], \"histogram\": [{\"marker\": {\"colorbar\": {\"outlinewidth\": 0, \"ticks\": \"\"}}, \"type\": \"histogram\"}], \"histogram2d\": [{\"colorbar\": {\"outlinewidth\": 0, \"ticks\": \"\"}, \"colorscale\": [[0.0, \"#0d0887\"], [0.1111111111111111, \"#46039f\"], [0.2222222222222222, \"#7201a8\"], [0.3333333333333333, \"#9c179e\"], [0.4444444444444444, \"#bd3786\"], [0.5555555555555556, \"#d8576b\"], [0.6666666666666666, \"#ed7953\"], [0.7777777777777778, \"#fb9f3a\"], [0.8888888888888888, \"#fdca26\"], [1.0, \"#f0f921\"]], \"type\": \"histogram2d\"}], \"histogram2dcontour\": [{\"colorbar\": {\"outlinewidth\": 0, \"ticks\": \"\"}, \"colorscale\": [[0.0, \"#0d0887\"], [0.1111111111111111, \"#46039f\"], [0.2222222222222222, \"#7201a8\"], [0.3333333333333333, \"#9c179e\"], [0.4444444444444444, \"#bd3786\"], [0.5555555555555556, \"#d8576b\"], [0.6666666666666666, \"#ed7953\"], [0.7777777777777778, \"#fb9f3a\"], [0.8888888888888888, \"#fdca26\"], [1.0, \"#f0f921\"]], \"type\": \"histogram2dcontour\"}], \"mesh3d\": [{\"colorbar\": {\"outlinewidth\": 0, \"ticks\": \"\"}, \"type\": \"mesh3d\"}], \"parcoords\": [{\"line\": {\"colorbar\": {\"outlinewidth\": 0, \"ticks\": \"\"}}, \"type\": \"parcoords\"}], \"pie\": [{\"automargin\": true, \"type\": \"pie\"}], \"scatter\": [{\"marker\": {\"colorbar\": {\"outlinewidth\": 0, \"ticks\": \"\"}}, \"type\": \"scatter\"}], \"scatter3d\": [{\"line\": {\"colorbar\": {\"outlinewidth\": 0, \"ticks\": \"\"}}, \"marker\": {\"colorbar\": {\"outlinewidth\": 0, \"ticks\": \"\"}}, \"type\": \"scatter3d\"}], \"scattercarpet\": [{\"marker\": {\"colorbar\": {\"outlinewidth\": 0, \"ticks\": \"\"}}, \"type\": \"scattercarpet\"}], \"scattergeo\": [{\"marker\": {\"colorbar\": {\"outlinewidth\": 0, \"ticks\": \"\"}}, \"type\": \"scattergeo\"}], \"scattergl\": [{\"marker\": {\"colorbar\": {\"outlinewidth\": 0, \"ticks\": \"\"}}, \"type\": \"scattergl\"}], \"scattermapbox\": [{\"marker\": {\"colorbar\": {\"outlinewidth\": 0, \"ticks\": \"\"}}, \"type\": \"scattermapbox\"}], \"scatterpolar\": [{\"marker\": {\"colorbar\": {\"outlinewidth\": 0, \"ticks\": \"\"}}, \"type\": \"scatterpolar\"}], \"scatterpolargl\": [{\"marker\": {\"colorbar\": {\"outlinewidth\": 0, \"ticks\": \"\"}}, \"type\": \"scatterpolargl\"}], \"scatterternary\": [{\"marker\": {\"colorbar\": {\"outlinewidth\": 0, \"ticks\": \"\"}}, \"type\": \"scatterternary\"}], \"surface\": [{\"colorbar\": {\"outlinewidth\": 0, \"ticks\": \"\"}, \"colorscale\": [[0.0, \"#0d0887\"], [0.1111111111111111, \"#46039f\"], [0.2222222222222222, \"#7201a8\"], [0.3333333333333333, \"#9c179e\"], [0.4444444444444444, \"#bd3786\"], [0.5555555555555556, \"#d8576b\"], [0.6666666666666666, \"#ed7953\"], [0.7777777777777778, \"#fb9f3a\"], [0.8888888888888888, \"#fdca26\"], [1.0, \"#f0f921\"]], \"type\": \"surface\"}], \"table\": [{\"cells\": {\"fill\": {\"color\": \"#EBF0F8\"}, \"line\": {\"color\": \"white\"}}, \"header\": {\"fill\": {\"color\": \"#C8D4E3\"}, \"line\": {\"color\": \"white\"}}, \"type\": \"table\"}]}, \"layout\": {\"annotationdefaults\": {\"arrowcolor\": \"#2a3f5f\", \"arrowhead\": 0, \"arrowwidth\": 1}, \"coloraxis\": {\"colorbar\": {\"outlinewidth\": 0, \"ticks\": \"\"}}, \"colorscale\": {\"diverging\": [[0, \"#8e0152\"], [0.1, \"#c51b7d\"], [0.2, \"#de77ae\"], [0.3, \"#f1b6da\"], [0.4, \"#fde0ef\"], [0.5, \"#f7f7f7\"], [0.6, \"#e6f5d0\"], [0.7, \"#b8e186\"], [0.8, \"#7fbc41\"], [0.9, \"#4d9221\"], [1, \"#276419\"]], \"sequential\": [[0.0, \"#0d0887\"], [0.1111111111111111, \"#46039f\"], [0.2222222222222222, \"#7201a8\"], [0.3333333333333333, \"#9c179e\"], [0.4444444444444444, \"#bd3786\"], [0.5555555555555556, \"#d8576b\"], [0.6666666666666666, \"#ed7953\"], [0.7777777777777778, \"#fb9f3a\"], [0.8888888888888888, \"#fdca26\"], [1.0, \"#f0f921\"]], \"sequentialminus\": [[0.0, \"#0d0887\"], [0.1111111111111111, \"#46039f\"], [0.2222222222222222, \"#7201a8\"], [0.3333333333333333, \"#9c179e\"], [0.4444444444444444, \"#bd3786\"], [0.5555555555555556, \"#d8576b\"], [0.6666666666666666, \"#ed7953\"], [0.7777777777777778, \"#fb9f3a\"], [0.8888888888888888, \"#fdca26\"], [1.0, \"#f0f921\"]]}, \"colorway\": [\"#636efa\", \"#EF553B\", \"#00cc96\", \"#ab63fa\", \"#FFA15A\", \"#19d3f3\", \"#FF6692\", \"#B6E880\", \"#FF97FF\", \"#FECB52\"], \"font\": {\"color\": \"#2a3f5f\"}, \"geo\": {\"bgcolor\": \"white\", \"lakecolor\": \"white\", \"landcolor\": \"#E5ECF6\", \"showlakes\": true, \"showland\": true, \"subunitcolor\": \"white\"}, \"hoverlabel\": {\"align\": \"left\"}, \"hovermode\": \"closest\", \"mapbox\": {\"style\": \"light\"}, \"paper_bgcolor\": \"white\", \"plot_bgcolor\": \"#E5ECF6\", \"polar\": {\"angularaxis\": {\"gridcolor\": \"white\", \"linecolor\": \"white\", \"ticks\": \"\"}, \"bgcolor\": \"#E5ECF6\", \"radialaxis\": {\"gridcolor\": \"white\", \"linecolor\": \"white\", \"ticks\": \"\"}}, \"scene\": {\"xaxis\": {\"backgroundcolor\": \"#E5ECF6\", \"gridcolor\": \"white\", \"gridwidth\": 2, \"linecolor\": \"white\", \"showbackground\": true, \"ticks\": \"\", \"zerolinecolor\": \"white\"}, \"yaxis\": {\"backgroundcolor\": \"#E5ECF6\", \"gridcolor\": \"white\", \"gridwidth\": 2, \"linecolor\": \"white\", \"showbackground\": true, \"ticks\": \"\", \"zerolinecolor\": \"white\"}, \"zaxis\": {\"backgroundcolor\": \"#E5ECF6\", \"gridcolor\": \"white\", \"gridwidth\": 2, \"linecolor\": \"white\", \"showbackground\": true, \"ticks\": \"\", \"zerolinecolor\": \"white\"}}, \"shapedefaults\": {\"line\": {\"color\": \"#2a3f5f\"}}, \"ternary\": {\"aaxis\": {\"gridcolor\": \"white\", \"linecolor\": \"white\", \"ticks\": \"\"}, \"baxis\": {\"gridcolor\": \"white\", \"linecolor\": \"white\", \"ticks\": \"\"}, \"bgcolor\": \"#E5ECF6\", \"caxis\": {\"gridcolor\": \"white\", \"linecolor\": \"white\", \"ticks\": \"\"}}, \"title\": {\"x\": 0.05}, \"xaxis\": {\"automargin\": true, \"gridcolor\": \"white\", \"linecolor\": \"white\", \"ticks\": \"\", \"title\": {\"standoff\": 15}, \"zerolinecolor\": \"white\", \"zerolinewidth\": 2}, \"yaxis\": {\"automargin\": true, \"gridcolor\": \"white\", \"linecolor\": \"white\", \"ticks\": \"\", \"title\": {\"standoff\": 15}, \"zerolinecolor\": \"white\", \"zerolinewidth\": 2}}}, \"xaxis\": {\"anchor\": \"y\", \"domain\": [0.0, 1.0], \"title\": {\"text\": \"mpg\"}}, \"yaxis\": {\"anchor\": \"x\", \"domain\": [0.0, 1.0], \"title\": {\"text\": \"displacement\"}}},\n",
              "                        {\"responsive\": true}\n",
              "                    ).then(function(){\n",
              "                            \n",
              "var gd = document.getElementById('3d679927-11c9-4021-af65-ec3cc9029d64');\n",
              "var x = new MutationObserver(function (mutations, observer) {{\n",
              "        var display = window.getComputedStyle(gd).display;\n",
              "        if (!display || display === 'none') {{\n",
              "            console.log([gd, 'removed!']);\n",
              "            Plotly.purge(gd);\n",
              "            observer.disconnect();\n",
              "        }}\n",
              "}});\n",
              "\n",
              "// Listen for the removal of the full notebook cells\n",
              "var notebookContainer = gd.closest('#notebook-container');\n",
              "if (notebookContainer) {{\n",
              "    x.observe(notebookContainer, {childList: true});\n",
              "}}\n",
              "\n",
              "// Listen for the clearing of the current output cell\n",
              "var outputEl = gd.closest('.output');\n",
              "if (outputEl) {{\n",
              "    x.observe(outputEl, {childList: true});\n",
              "}}\n",
              "\n",
              "                        })\n",
              "                };\n",
              "                \n",
              "            </script>\n",
              "        </div>\n",
              "</body>\n",
              "</html>"
            ]
          },
          "metadata": {
            "tags": []
          }
        }
      ]
    },
    {
      "cell_type": "markdown",
      "metadata": {
        "id": "P80VA_-zdXon"
      },
      "source": [
        "Matriz de Scatterplot"
      ]
    },
    {
      "cell_type": "markdown",
      "metadata": {
        "id": "mdjazECBcxcL"
      },
      "source": [
        "## Visualização baseada no posicionamento de pontos utilizando Análise de Componentes Principais"
      ]
    },
    {
      "cell_type": "markdown",
      "metadata": {
        "id": "ajFOI7RgeKuc"
      },
      "source": [
        "Reduz a dimensionalidade dos dados"
      ]
    },
    {
      "cell_type": "code",
      "metadata": {
        "colab": {
          "base_uri": "https://localhost:8080/",
          "height": 415
        },
        "id": "owrcuLMqVtp7",
        "outputId": "7c77429a-5bb1-4af5-b860-231543bcf353"
      },
      "source": [
        "raw_data"
      ],
      "execution_count": 91,
      "outputs": [
        {
          "output_type": "execute_result",
          "data": {
            "text/html": [
              "<div>\n",
              "<style scoped>\n",
              "    .dataframe tbody tr th:only-of-type {\n",
              "        vertical-align: middle;\n",
              "    }\n",
              "\n",
              "    .dataframe tbody tr th {\n",
              "        vertical-align: top;\n",
              "    }\n",
              "\n",
              "    .dataframe thead th {\n",
              "        text-align: right;\n",
              "    }\n",
              "</style>\n",
              "<table border=\"1\" class=\"dataframe\">\n",
              "  <thead>\n",
              "    <tr style=\"text-align: right;\">\n",
              "      <th></th>\n",
              "      <th>mpg</th>\n",
              "      <th>cylinders</th>\n",
              "      <th>displacement</th>\n",
              "      <th>horsepower</th>\n",
              "      <th>weight</th>\n",
              "      <th>acceleration</th>\n",
              "      <th>model year</th>\n",
              "    </tr>\n",
              "  </thead>\n",
              "  <tbody>\n",
              "    <tr>\n",
              "      <th>0</th>\n",
              "      <td>18.0</td>\n",
              "      <td>8</td>\n",
              "      <td>307.0</td>\n",
              "      <td>130.0</td>\n",
              "      <td>3504</td>\n",
              "      <td>12.0</td>\n",
              "      <td>70</td>\n",
              "    </tr>\n",
              "    <tr>\n",
              "      <th>1</th>\n",
              "      <td>15.0</td>\n",
              "      <td>8</td>\n",
              "      <td>350.0</td>\n",
              "      <td>165.0</td>\n",
              "      <td>3693</td>\n",
              "      <td>11.5</td>\n",
              "      <td>70</td>\n",
              "    </tr>\n",
              "    <tr>\n",
              "      <th>2</th>\n",
              "      <td>18.0</td>\n",
              "      <td>8</td>\n",
              "      <td>318.0</td>\n",
              "      <td>150.0</td>\n",
              "      <td>3436</td>\n",
              "      <td>11.0</td>\n",
              "      <td>70</td>\n",
              "    </tr>\n",
              "    <tr>\n",
              "      <th>3</th>\n",
              "      <td>16.0</td>\n",
              "      <td>8</td>\n",
              "      <td>304.0</td>\n",
              "      <td>150.0</td>\n",
              "      <td>3433</td>\n",
              "      <td>12.0</td>\n",
              "      <td>70</td>\n",
              "    </tr>\n",
              "    <tr>\n",
              "      <th>4</th>\n",
              "      <td>17.0</td>\n",
              "      <td>8</td>\n",
              "      <td>302.0</td>\n",
              "      <td>140.0</td>\n",
              "      <td>3449</td>\n",
              "      <td>10.5</td>\n",
              "      <td>70</td>\n",
              "    </tr>\n",
              "    <tr>\n",
              "      <th>...</th>\n",
              "      <td>...</td>\n",
              "      <td>...</td>\n",
              "      <td>...</td>\n",
              "      <td>...</td>\n",
              "      <td>...</td>\n",
              "      <td>...</td>\n",
              "      <td>...</td>\n",
              "    </tr>\n",
              "    <tr>\n",
              "      <th>393</th>\n",
              "      <td>27.0</td>\n",
              "      <td>4</td>\n",
              "      <td>140.0</td>\n",
              "      <td>86.0</td>\n",
              "      <td>2790</td>\n",
              "      <td>15.6</td>\n",
              "      <td>82</td>\n",
              "    </tr>\n",
              "    <tr>\n",
              "      <th>394</th>\n",
              "      <td>44.0</td>\n",
              "      <td>4</td>\n",
              "      <td>97.0</td>\n",
              "      <td>52.0</td>\n",
              "      <td>2130</td>\n",
              "      <td>24.6</td>\n",
              "      <td>82</td>\n",
              "    </tr>\n",
              "    <tr>\n",
              "      <th>395</th>\n",
              "      <td>32.0</td>\n",
              "      <td>4</td>\n",
              "      <td>135.0</td>\n",
              "      <td>84.0</td>\n",
              "      <td>2295</td>\n",
              "      <td>11.6</td>\n",
              "      <td>82</td>\n",
              "    </tr>\n",
              "    <tr>\n",
              "      <th>396</th>\n",
              "      <td>28.0</td>\n",
              "      <td>4</td>\n",
              "      <td>120.0</td>\n",
              "      <td>79.0</td>\n",
              "      <td>2625</td>\n",
              "      <td>18.6</td>\n",
              "      <td>82</td>\n",
              "    </tr>\n",
              "    <tr>\n",
              "      <th>397</th>\n",
              "      <td>31.0</td>\n",
              "      <td>4</td>\n",
              "      <td>119.0</td>\n",
              "      <td>82.0</td>\n",
              "      <td>2720</td>\n",
              "      <td>19.4</td>\n",
              "      <td>82</td>\n",
              "    </tr>\n",
              "  </tbody>\n",
              "</table>\n",
              "<p>392 rows × 7 columns</p>\n",
              "</div>"
            ],
            "text/plain": [
              "      mpg  cylinders  displacement  ...  weight  acceleration  model year\n",
              "0    18.0          8         307.0  ...    3504          12.0          70\n",
              "1    15.0          8         350.0  ...    3693          11.5          70\n",
              "2    18.0          8         318.0  ...    3436          11.0          70\n",
              "3    16.0          8         304.0  ...    3433          12.0          70\n",
              "4    17.0          8         302.0  ...    3449          10.5          70\n",
              "..    ...        ...           ...  ...     ...           ...         ...\n",
              "393  27.0          4         140.0  ...    2790          15.6          82\n",
              "394  44.0          4          97.0  ...    2130          24.6          82\n",
              "395  32.0          4         135.0  ...    2295          11.6          82\n",
              "396  28.0          4         120.0  ...    2625          18.6          82\n",
              "397  31.0          4         119.0  ...    2720          19.4          82\n",
              "\n",
              "[392 rows x 7 columns]"
            ]
          },
          "metadata": {
            "tags": []
          },
          "execution_count": 91
        }
      ]
    },
    {
      "cell_type": "code",
      "metadata": {
        "id": "iTMyFYxUeJvl",
        "colab": {
          "base_uri": "https://localhost:8080/",
          "height": 542
        },
        "outputId": "e7ffd347-2efa-4124-8dc6-c743fede39ea"
      },
      "source": [
        "X = raw_data.values\n",
        "y = label.values\n",
        "\n",
        "sklearn_pca = sklearnPCA(n_components=2)\n",
        "X_pca = sklearn_pca.fit_transform(X)\n",
        "\n",
        "#pca = PCA(n_components=2)\n",
        "#components = pca.fit_transform(X)\n",
        "\n",
        "fig = px.scatter(X_pca, x=0, y=1, color=label.astype(object))\n",
        "fig.show()"
      ],
      "execution_count": 92,
      "outputs": [
        {
          "output_type": "display_data",
          "data": {
            "text/html": [
              "<html>\n",
              "<head><meta charset=\"utf-8\" /></head>\n",
              "<body>\n",
              "    <div>\n",
              "            <script src=\"https://cdnjs.cloudflare.com/ajax/libs/mathjax/2.7.5/MathJax.js?config=TeX-AMS-MML_SVG\"></script><script type=\"text/javascript\">if (window.MathJax) {MathJax.Hub.Config({SVG: {font: \"STIX-Web\"}});}</script>\n",
              "                <script type=\"text/javascript\">window.PlotlyConfig = {MathJaxConfig: 'local'};</script>\n",
              "        <script src=\"https://cdn.plot.ly/plotly-latest.min.js\"></script>    \n",
              "            <div id=\"63a9ecff-fdc9-4f33-ab51-df80ca09893e\" class=\"plotly-graph-div\" style=\"height:525px; width:100%;\"></div>\n",
              "            <script type=\"text/javascript\">\n",
              "                \n",
              "                    window.PLOTLYENV=window.PLOTLYENV || {};\n",
              "                    \n",
              "                if (document.getElementById(\"63a9ecff-fdc9-4f33-ab51-df80ca09893e\")) {\n",
              "                    Plotly.newPlot(\n",
              "                        '63a9ecff-fdc9-4f33-ab51-df80ca09893e',\n",
              "                        [{\"hoverlabel\": {\"namelength\": 0}, \"hovertemplate\": \"color=USA<br>0=%{x}<br>1=%{y}\", \"legendgroup\": \"color=USA\", \"marker\": {\"color\": \"#636efa\", \"symbol\": \"circle\"}, \"mode\": \"markers\", \"name\": \"color=USA\", \"showlegend\": true, \"type\": \"scatter\", \"x\": [536.4705963853489, 730.3843022750573, 471.0091386414431, 466.4443079466228, 481.7027221812404, 1383.9388235659737, 1400.567865419669, 1357.0818907462804, 1471.3534688431084, 891.7812902282536, 605.3104867365773, 645.6762492198128, 803.0192800579983, 142.20195457134426, -143.45951053420217, -201.80290529875077, -387.8042197147792, -327.1710360457479, 1648.7291798540925, 1404.8412803135113, 1412.4389643262152, 1757.6099466402782, -715.151400177614, -336.8886819726485, 461.60432708845883, 355.0694176366963, 327.7852205024604, 312.3052931679593, 1242.5946506450653, 1501.826346969866, 1187.6438972633302, 1126.1811103783682, 1987.4812630058575, 1781.5642963494183, 2172.861215423017, -7.931782387504472, -572.8710844537258, 308.40059216936015, 165.9930513526434, -761.0017190591581, -1028.2521394200303, -857.3660091776821, -572.1565162076839, -755.0353768065353, 1307.1228278211345, 1423.4053869674833, 1164.884652067646, 1162.82711439794, 703.6768445293039, 1674.2071508584277, 1533.054173674293, 1487.5949348982708, 1460.7246590276245, 922.072560408243, 1126.1342640663845, 1320.5079277324166, 1107.3181676638314, -587.2853090687664, -819.6084161589913, 1134.7895873626264, 703.6982953500366, 1022.4443762369542, 1070.2376123406998, 809.5177956065726, 1990.4616021542383, 1500.8564402581449, 1395.3071092949954, 1266.1393375426667, 1776.9708844676898, 1993.4945118644164, 858.9877494607973, 145.92403208641684, 304.44606807433166, -28.175255987216335, 48.8555743315306, -72.99400600623133, 2029.9486554285734, 1940.2748269461085, 1685.663410805376, 1531.0580032235082, -183.0265067793277, -579.8153530157366, -671.6810224420514, -506.2476532545028, 1115.7378045444052, 1319.322371842618, 434.30005455273425, 702.2091411067407, 123.57045759861668, -71.86056416849732, 362.0270837984633, -531.9647253643991, -439.7638630396229, 803.7464661225862, 657.1453906561935, 634.3039834783998, 1168.6105029194562, 1728.4063608764, 1484.5212303340809, 1661.9675018734672, 1284.3888107183018, -859.4331006553944, 287.472997793045, 484.2944645475381, 456.2231948566904, 184.24052287250328, 1704.110535637324, 1471.1006503082942, 1525.201789500378, 1686.7441013192324, 927.0226137042445, 919.0847382962364, 754.4294965516128, 804.6445255057037, 65.38457817841798, 249.60364399220506, 203.3551944594728, -343.15172454765553, -58.96511334044981, -390.0028943093307, 3.445720925517681, 235.46700257362394, -409.32192544323243, -729.3105051960434, 1242.3965249416433, 1219.467854190513, 990.3776806676052, 1248.1467342757514, 256.872523602497, 379.04441438118147, 33.881022617742964, 110.3650115565879, -950.2597388526086, -820.3761049811525, 671.8101700156589, 597.3884418930693, 669.1158400669997, 220.77599325092137, -417.0593968425681, 971.32914762271, 1412.8956095784213, 1088.94892631047, 899.232836545122, 787.6887598162253, -827.0774291632438, -681.2295068809235, 910.0546551399015, 1082.2167078372445, 1169.6422930482672, 1321.0905234468123, 545.0412166495015, 448.3492309388881, 650.9708862302849, 549.5257347465277, 1259.793151014331, 1199.0945021854018, 1364.412835804185, 1367.132192834149, -241.45475415981116, -227.79116034961265, -932.4680928108093, -907.8865930281777, -1181.5454198050102, 392.30987569648534, 767.3959956021534, 601.7356748055959, 557.5455956890172, 176.39786812791255, -12.588797347129367, -262.5704551791663, 452.42985289741057, 234.4670380564276, 403.6796022722474, 91.63314154233454, 641.4344468980976, 437.1505091096498, 458.3860310512419, 470.56476111322525, 239.4384040705557, 1109.8722401591779, -829.0350557979339, -753.517689190205, -235.24982415758066, -127.41567380016396, 270.05457033623304, 12.225779739282633, -93.80346175016416, 289.0537408392495, 383.33308641767997, 869.7615688947886, 755.223573320241, 989.4937926144488, 861.5075026990224, 1392.0577223319503, 1087.9276094088357, 631.934166068227, 976.0858350345547, -1066.8440300760271, -314.705121142252, 934.2223707197431, 446.08523861649644, -783.5165112547816, -833.1533345528079, -310.894262443579, -381.8461314104813, -277.60539013251895, -424.09073171126056, -863.7169673159424, -302.9520782269801, -113.6899220141795, 19.680747345576126, 403.4065233342465, -180.68961802874438, -491.62670441261, -345.86017263565213, -359.8576438613263, -252.96129970544845, -595.8718990410115, -1108.5757879124558, -768.9083720396413, -938.379919369175, -605.8157856534648, 438.59932074750776, 759.6980086192846, 81.82359660484018, 486.60676188988975, -379.9591456519351, -345.2076256114537, -588.4579845208414, -409.8735789463811, -456.8995484657399, -246.36842632772505, -118.47942594370485, -858.2725454090473, -858.788475737553, -33.68258855274642, 43.99023862356593, -394.603206544461, -136.93925832941062, -610.8086200844047, -32.94882695546211, -193.18329511050652, -685.2247096382375, -359.54088409006243, -265.260928969588], \"xaxis\": \"x\", \"y\": [50.847392870063096, 79.17544183199612, 75.46920069828055, 62.59407035136211, 55.82035112818479, 85.45213606635403, 114.13610690188328, 104.5001495135539, 107.95705767541033, 105.58543848000723, 127.63593817493224, 78.52022663425792, 113.82990563256682, 269.79660169670285, 18.22006542903618, 26.963720863135578, 46.861027199828655, 40.06914894079903, -7.889517541521085, -33.62793869186442, -20.933757164213745, -81.68564951999188, 30.50169122087072, 76.0295035036302, -26.429287852648322, 8.996081592169947, 8.644249504927561, -3.086345086641802, 16.78480960659927, 36.24354326872192, 20.74570950085227, -4.325645108583782, -37.649584082285976, 0.6678092009807036, -45.461695198218656, 63.95396251729726, 7.710462619745169, 14.65904233584266, 28.397812476800556, 17.746222909540368, 15.410330952802937, 3.987404752153933, 13.074339454057377, 16.945155440911794, 8.92214869151259, 45.75058991607078, -9.098361625219372, 23.760824172588592, 33.65903895165444, 53.13023221870042, -21.670921986070855, -14.601818430504444, 45.753783481385554, 7.068848673563586, -20.976670784830688, -46.480558566831135, -2.0879725255962738, -3.481357173545853, -0.1157865740476996, 32.87742936338956, 33.68782219303477, 37.46427417833866, -16.90662843560372, 34.182538998714655, 11.531660411785097, 28.73735141651459, -3.03649617919498, -21.467894527305614, 53.23249122274384, 44.3100277196088, 76.1244509448886, 11.888206248084892, 15.042846865267554, 38.30536947380756, 42.54243585166534, 9.531737276373162, -35.718720669245556, -19.613499638842036, -26.11826081553504, -13.82141171029936, 57.19529279653065, 8.508786508729493, 6.435618970393161, 24.77098026985135, 26.067716671149125, 75.11981934636154, 79.9221247588009, 87.17150362394176, -14.388358456942724, 43.58194450658914, 8.061078608846781, -12.175507838921671, -7.645486227942814, -45.74185923397461, -17.219676068364052, -47.60180491282297, -28.019036131640952, -47.055941522904256, -48.04752896260019, -88.12393302340072, -37.18204814725966, -4.488790929350075, -8.42707286012063, -5.355598636202279, -12.058797045272383, 21.110727043257178, 9.96423673978313, -17.285034481492172, -53.09697064802407, -41.637368722067976, -76.13437127218818, -58.34681825659987, -29.105745060005802, -71.48516183580739, 28.915970963106044, 36.32766381218559, 86.27941926344413, -16.971575373380947, 41.96915881553675, -12.83481142832305, -24.979160653206396, 3.0713288963519196, -6.174472545851706, -11.567616987323106, -34.16582906158956, -15.841953496952124, -10.495267186133885, 12.970388497314074, -3.244321879212103, 7.414179813934871, -5.952529688215997, 18.194071089332617, -5.534182065871273, -6.364126866024867, -53.81125578430965, -27.50842052440426, -26.384684934537624, 31.29811486596832, -11.276260469708477, 14.42030816036688, 0.4246212964479871, 29.329233965074252, 1.7222644915641379, 36.752649366114035, 13.116544750992936, 10.820434464639392, 7.809429449177389, -67.15677826247958, -11.329888240050174, -49.70139869960377, -11.289776266588694, -19.335277173142682, -51.279442624839774, -15.582301951523904, 67.06160824241508, 23.445434124081615, 57.32453715842193, -2.5380725549737364, -17.32545716147121, -29.25204772945774, 8.23696321879272, 11.288523353767602, 39.437512297823844, 16.89205821784385, 36.054053701428884, 40.56926841725331, -32.71174461436077, -19.06690682492699, 1.003114660713629, -25.323063396716748, -27.13914857996514, 3.106347059829335, -13.883702240538293, -11.72970740582666, -47.13915115883805, 12.564247787821634, 62.725235245248115, -3.7051318363078787, 84.77799294226507, -5.628726150945431, -2.839153538786953, -3.142866624660069, -8.15564289970927, -32.18743407124614, 5.390748420763354, -2.119047790382702, -45.9111904596389, -3.614124945103822, -15.6999580556112, 8.02887540071312, 18.852513958162557, 40.09787002676754, 23.007576608824078, -4.792920983386029, 29.30475477587782, -1.0159078364546095, 53.97290509076441, 29.697740001489585, -39.68284574179698, 41.66098238594408, 3.9500384680772584, -1.0452549515181582, 4.933558201116651, -8.384616212231998, 29.124759484342828, 16.41325814229818, 5.40198470857513, 1.9378490600206966, -9.385878494701949, -43.61775474003799, -48.727674271987134, -24.275634883518443, -14.853676832998525, -3.564330434089746, -5.974528559399125, 3.036766326183787, 11.92047357395995, 9.174905641722942, 18.236497231980486, -5.06251334866809, 9.42234590075903, -31.145395141788995, -16.72581125662174, 56.67885559132769, -9.701269333305067, -35.84450653754826, -38.19264789025503, -42.370548485384234, -12.86053012253068, -35.39599167496774, -7.8606791219008585, -16.357807988217484, -41.766573460535135, 5.74043386379706, 1.1543699088941555, -7.28811372622945, 53.13499677498976, 7.236126723624085, 54.9401021324241, 10.854995212883042, -42.31961160383712, -34.51652284050592, 20.039017898748575, -35.69557827256251, -47.30900496751798], \"yaxis\": \"y\"}, {\"hoverlabel\": {\"namelength\": 0}, \"hovertemplate\": \"color=Japan<br>0=%{x}<br>1=%{y}\", \"legendgroup\": \"color=Japan\", \"marker\": {\"color\": \"#EF553B\", \"symbol\": \"circle\"}, \"mode\": \"markers\", \"name\": \"color=Japan\", \"showlegend\": true, \"type\": \"scatter\", \"x\": [-610.8056559207499, -853.150005917288, -853.1513428163491, -753.7541007797146, -1211.4310553905186, -1370.0130667873136, -704.1176262457019, -657.2998101827701, -696.1698998724027, -476.90734179082966, -882.9347321871572, -705.202843583759, -604.4586469308822, -862.0511622006595, -173.00451148657956, -1034.7442817766512, -1148.9087392403007, -1334.454519204397, -981.9181419726153, -493.79325111504136, -592.6162420017237, -812.9820300087056, -280.79742726736043, -438.3235177394743, -1187.7922067509714, -1187.793408368796, -994.2431224805317, -828.8586304445231, -51.453835180983766, -938.2387568225564, -1038.9246029475391, -719.6562721535926, -997.9365200623489, -167.202779113873, -268.54403402741286, -1000.7201014716771, -914.8925788952246, -1182.5822895145795, -421.82351177872386, -681.546723119951, -466.444729934439, -577.2942132260989, -848.8842910238815, -1009.2308152105545, -964.6640738193885, -1016.067735962428, -965.580947419287, -272.1508661709249, -442.1071793530943, -548.8046572125791, -718.4455986688406, -875.323692723911, -875.3957333367864, -1132.7410037856837, -839.148376520311, -69.10335316666387, -567.8899144931773, -693.8646670446558, -1228.7287753821956, -1223.4274764081522, -918.5496405890414, -1009.3755371648156, -934.5891917053394, -998.6195329445444, -773.1670546125009, -634.0758031824648, -368.79412558264147, -349.83486814484183, -79.60076981637303, -52.173507601527305, -958.940078363925, -1013.4891604564449, -820.8252860718312, -778.1492218524763, -738.5119732606739, -1018.5410050615423, -1018.4963765906107, -988.7632815893666, -316.4525728991598], \"xaxis\": \"x\", \"y\": [-6.4789977066234155, 5.517680258378457, 5.493730082142695, 10.919005902658448, 16.969100897726637, 38.411104750794316, 4.81708842865652, -41.386772350181914, -12.538346777326314, -15.472242995532243, 9.026097603464489, -12.596894962528058, -12.440214944473055, -18.583120424070344, -10.263481457838218, 3.6652504014597156, 9.195454342870532, 32.82118870296338, -0.7659522744131565, -13.500414942180763, -14.248375416058893, -3.5233735665976815, -26.276857206312222, -21.308096715137456, 29.562785820117995, 29.542318725421037, 5.40326055552895, -1.6098226213386748, -29.43066524044935, 10.384025835088103, 10.798878826063252, -14.956570190752307, 16.49158253723985, -28.310402505936043, -75.35405079024339, -6.127079455067747, -4.499723073906245, 30.95879519349453, -9.569980961480454, 8.256079167482222, -4.039412500631797, -4.383807885385531, -0.41652816516729757, 6.62406620649495, 0.1406276862259296, 8.595510594235128, 1.1857248387008588, -29.446043726324334, -26.8288472644849, -9.662264706624738, -4.631583252760189, -10.030556722190385, -10.919460727859077, 26.89711182197944, -3.041349376181576, -8.700137611864657, -51.60908214952983, -9.560033409382784, 24.3121858834807, 26.29385862250072, 6.637311528358086, 5.433325572642733, -0.6834960888486483, 10.962531991961347, 1.0480180633961798, -14.988386391736626, -29.09721641598826, -38.42480950854362, -12.202317502253889, -35.45830265222424, 5.976339280398096, 12.750333373474817, 23.19432861597303, 1.584485740171557, -3.8447072693213746, 13.023840584518611, 13.104925848979155, 9.356064277719284, -12.671269844262646], \"yaxis\": \"y\"}, {\"hoverlabel\": {\"namelength\": 0}, \"hovertemplate\": \"color=Europe<br>0=%{x}<br>1=%{y}\", \"legendgroup\": \"color=Europe\", \"marker\": {\"color\": \"#00cc96\", \"symbol\": \"circle\"}, \"mode\": \"markers\", \"name\": \"color=Europe\", \"showlegend\": true, \"type\": \"scatter\", \"x\": [-1147.6173469360756, -313.6779088058015, -554.1124353835471, -608.8677431091709, -746.1863657406677, -857.85641830166, -911.5284863217095, -919.1926857990113, -1148.0713700662386, -731.3713517157098, -52.31116247185199, -472.64520606571415, -7.767539717134504, -795.4384639026823, -1033.467871125885, -718.9484423004836, -1119.0770658511533, -823.6726578188304, -402.36402842124585, -116.84336625840935, -323.4273869052745, -764.9083475730515, -1021.7971837666742, -684.787786439456, -876.279033054677, -736.3344065612949, -985.1079785945284, -762.2910201453872, -1046.2534277789666, -290.94441192136236, -29.58258178784926, -40.979343408469056, -312.32305587710357, -520.5581311762973, -761.9083782967301, -781.426154751244, -1046.255035240501, -1156.593022195889, 163.70999990727992, 281.13768826274327, 833.8571394116528, -1159.217037613485, -1042.1667470206119, -794.0163760304382, -382.9708150542149, -999.5849860210342, -153.78649270700026, 158.47947225369265, -189.2162497113975, 426.80842318738445, -993.742838462555, -1058.267914361658, 545.951644561646, 203.39455525844815, -854.6669315343274, -839.7300125310952, -796.0368407435174, -900.3325559794976, -652.1672015631674, -37.34564608961113, 263.35052864113703, -1138.0173449740241, -483.0878873582263, -793.2820073401149, 243.4474881838627, 174.24875205724578, -1001.7630479816767, -854.7116219992632], \"xaxis\": \"x\", \"y\": [28.451534018708017, -48.06687674080058, -20.63695109828915, -15.45642746129679, 23.187117194711345, 24.90223501379337, -10.355103427684478, 1.2070503607530594, 32.75985242012515, -19.904264734039334, -61.57347884765102, -21.500428986099635, -75.76423042995475, -8.379643003271902, 14.462680657027652, -9.346078725791246, -2.0325972999711177, 16.16701810659032, -32.07533889873441, -53.7935491004239, -29.28574487542167, -5.986125256335403, 2.303789575733463, -18.091140393748844, -2.3985889018609363, 5.523952511913836, -2.273556032932234, -17.56788774830204, 16.718209507544355, -43.608865133267564, -72.82676986857471, -67.3427665140116, -29.171642600210774, -26.18859005702425, 10.32516495407747, -1.065625740042178, 16.687293168230983, 37.2025200824872, -82.44735386608492, -110.78213080900507, -122.07227727047122, 15.942646967688805, 25.296027599931755, -4.932901185501607, -22.04384543055165, 3.772274445133052, -42.57314504521399, -43.06831154163988, -44.247737606586014, -73.37798579846653, 9.517932853112836, 17.374587833100446, -86.02609641209958, -86.64451953801824, -6.227765172049311, 0.6897278099664448, -4.889027807460055, -8.390283198574734, -38.66061920684657, -77.74321445732775, -90.33063030625519, 24.32650579483229, -15.9643736632538, 1.2951196474461326, -88.70458002926308, -77.64620605025154, 26.561977455003078, -6.1605094046904], \"yaxis\": \"y\"}],\n",
              "                        {\"legend\": {\"tracegroupgap\": 0}, \"margin\": {\"t\": 60}, \"template\": {\"data\": {\"bar\": [{\"error_x\": {\"color\": \"#2a3f5f\"}, \"error_y\": {\"color\": \"#2a3f5f\"}, \"marker\": {\"line\": {\"color\": \"#E5ECF6\", \"width\": 0.5}}, \"type\": \"bar\"}], \"barpolar\": [{\"marker\": {\"line\": {\"color\": \"#E5ECF6\", \"width\": 0.5}}, \"type\": \"barpolar\"}], \"carpet\": [{\"aaxis\": {\"endlinecolor\": \"#2a3f5f\", \"gridcolor\": \"white\", \"linecolor\": \"white\", \"minorgridcolor\": \"white\", \"startlinecolor\": \"#2a3f5f\"}, \"baxis\": {\"endlinecolor\": \"#2a3f5f\", \"gridcolor\": \"white\", \"linecolor\": \"white\", \"minorgridcolor\": \"white\", \"startlinecolor\": \"#2a3f5f\"}, \"type\": \"carpet\"}], \"choropleth\": [{\"colorbar\": {\"outlinewidth\": 0, \"ticks\": \"\"}, \"type\": \"choropleth\"}], \"contour\": [{\"colorbar\": {\"outlinewidth\": 0, \"ticks\": \"\"}, \"colorscale\": [[0.0, \"#0d0887\"], [0.1111111111111111, \"#46039f\"], [0.2222222222222222, \"#7201a8\"], [0.3333333333333333, \"#9c179e\"], [0.4444444444444444, \"#bd3786\"], [0.5555555555555556, \"#d8576b\"], [0.6666666666666666, \"#ed7953\"], [0.7777777777777778, \"#fb9f3a\"], [0.8888888888888888, \"#fdca26\"], [1.0, \"#f0f921\"]], \"type\": \"contour\"}], \"contourcarpet\": [{\"colorbar\": {\"outlinewidth\": 0, \"ticks\": \"\"}, \"type\": \"contourcarpet\"}], \"heatmap\": [{\"colorbar\": {\"outlinewidth\": 0, \"ticks\": \"\"}, \"colorscale\": [[0.0, \"#0d0887\"], [0.1111111111111111, \"#46039f\"], [0.2222222222222222, \"#7201a8\"], [0.3333333333333333, \"#9c179e\"], [0.4444444444444444, \"#bd3786\"], [0.5555555555555556, \"#d8576b\"], [0.6666666666666666, \"#ed7953\"], [0.7777777777777778, \"#fb9f3a\"], [0.8888888888888888, \"#fdca26\"], [1.0, \"#f0f921\"]], \"type\": \"heatmap\"}], \"heatmapgl\": [{\"colorbar\": {\"outlinewidth\": 0, \"ticks\": \"\"}, \"colorscale\": [[0.0, \"#0d0887\"], [0.1111111111111111, \"#46039f\"], [0.2222222222222222, \"#7201a8\"], [0.3333333333333333, \"#9c179e\"], [0.4444444444444444, \"#bd3786\"], [0.5555555555555556, \"#d8576b\"], [0.6666666666666666, \"#ed7953\"], [0.7777777777777778, \"#fb9f3a\"], [0.8888888888888888, \"#fdca26\"], [1.0, \"#f0f921\"]], \"type\": \"heatmapgl\"}], \"histogram\": [{\"marker\": {\"colorbar\": {\"outlinewidth\": 0, \"ticks\": \"\"}}, \"type\": \"histogram\"}], \"histogram2d\": [{\"colorbar\": {\"outlinewidth\": 0, \"ticks\": \"\"}, \"colorscale\": [[0.0, \"#0d0887\"], [0.1111111111111111, \"#46039f\"], [0.2222222222222222, \"#7201a8\"], [0.3333333333333333, \"#9c179e\"], [0.4444444444444444, \"#bd3786\"], [0.5555555555555556, \"#d8576b\"], [0.6666666666666666, \"#ed7953\"], [0.7777777777777778, \"#fb9f3a\"], [0.8888888888888888, \"#fdca26\"], [1.0, \"#f0f921\"]], \"type\": \"histogram2d\"}], \"histogram2dcontour\": [{\"colorbar\": {\"outlinewidth\": 0, \"ticks\": \"\"}, \"colorscale\": [[0.0, \"#0d0887\"], [0.1111111111111111, \"#46039f\"], [0.2222222222222222, \"#7201a8\"], [0.3333333333333333, \"#9c179e\"], [0.4444444444444444, \"#bd3786\"], [0.5555555555555556, \"#d8576b\"], [0.6666666666666666, \"#ed7953\"], [0.7777777777777778, \"#fb9f3a\"], [0.8888888888888888, \"#fdca26\"], [1.0, \"#f0f921\"]], \"type\": \"histogram2dcontour\"}], \"mesh3d\": [{\"colorbar\": {\"outlinewidth\": 0, \"ticks\": \"\"}, \"type\": \"mesh3d\"}], \"parcoords\": [{\"line\": {\"colorbar\": {\"outlinewidth\": 0, \"ticks\": \"\"}}, \"type\": \"parcoords\"}], \"pie\": [{\"automargin\": true, \"type\": \"pie\"}], \"scatter\": [{\"marker\": {\"colorbar\": {\"outlinewidth\": 0, \"ticks\": \"\"}}, \"type\": \"scatter\"}], \"scatter3d\": [{\"line\": {\"colorbar\": {\"outlinewidth\": 0, \"ticks\": \"\"}}, \"marker\": {\"colorbar\": {\"outlinewidth\": 0, \"ticks\": \"\"}}, \"type\": \"scatter3d\"}], \"scattercarpet\": [{\"marker\": {\"colorbar\": {\"outlinewidth\": 0, \"ticks\": \"\"}}, \"type\": \"scattercarpet\"}], \"scattergeo\": [{\"marker\": {\"colorbar\": {\"outlinewidth\": 0, \"ticks\": \"\"}}, \"type\": \"scattergeo\"}], \"scattergl\": [{\"marker\": {\"colorbar\": {\"outlinewidth\": 0, \"ticks\": \"\"}}, \"type\": \"scattergl\"}], \"scattermapbox\": [{\"marker\": {\"colorbar\": {\"outlinewidth\": 0, \"ticks\": \"\"}}, \"type\": \"scattermapbox\"}], \"scatterpolar\": [{\"marker\": {\"colorbar\": {\"outlinewidth\": 0, \"ticks\": \"\"}}, \"type\": \"scatterpolar\"}], \"scatterpolargl\": [{\"marker\": {\"colorbar\": {\"outlinewidth\": 0, \"ticks\": \"\"}}, \"type\": \"scatterpolargl\"}], \"scatterternary\": [{\"marker\": {\"colorbar\": {\"outlinewidth\": 0, \"ticks\": \"\"}}, \"type\": \"scatterternary\"}], \"surface\": [{\"colorbar\": {\"outlinewidth\": 0, \"ticks\": \"\"}, \"colorscale\": [[0.0, \"#0d0887\"], [0.1111111111111111, \"#46039f\"], [0.2222222222222222, \"#7201a8\"], [0.3333333333333333, \"#9c179e\"], [0.4444444444444444, \"#bd3786\"], [0.5555555555555556, \"#d8576b\"], [0.6666666666666666, \"#ed7953\"], [0.7777777777777778, \"#fb9f3a\"], [0.8888888888888888, \"#fdca26\"], [1.0, \"#f0f921\"]], \"type\": \"surface\"}], \"table\": [{\"cells\": {\"fill\": {\"color\": \"#EBF0F8\"}, \"line\": {\"color\": \"white\"}}, \"header\": {\"fill\": {\"color\": \"#C8D4E3\"}, \"line\": {\"color\": \"white\"}}, \"type\": \"table\"}]}, \"layout\": {\"annotationdefaults\": {\"arrowcolor\": \"#2a3f5f\", \"arrowhead\": 0, \"arrowwidth\": 1}, \"coloraxis\": {\"colorbar\": {\"outlinewidth\": 0, \"ticks\": \"\"}}, \"colorscale\": {\"diverging\": [[0, \"#8e0152\"], [0.1, \"#c51b7d\"], [0.2, \"#de77ae\"], [0.3, \"#f1b6da\"], [0.4, \"#fde0ef\"], [0.5, \"#f7f7f7\"], [0.6, \"#e6f5d0\"], [0.7, \"#b8e186\"], [0.8, \"#7fbc41\"], [0.9, \"#4d9221\"], [1, \"#276419\"]], \"sequential\": [[0.0, \"#0d0887\"], [0.1111111111111111, \"#46039f\"], [0.2222222222222222, \"#7201a8\"], [0.3333333333333333, \"#9c179e\"], [0.4444444444444444, \"#bd3786\"], [0.5555555555555556, \"#d8576b\"], [0.6666666666666666, \"#ed7953\"], [0.7777777777777778, \"#fb9f3a\"], [0.8888888888888888, \"#fdca26\"], [1.0, \"#f0f921\"]], \"sequentialminus\": [[0.0, \"#0d0887\"], [0.1111111111111111, \"#46039f\"], [0.2222222222222222, \"#7201a8\"], [0.3333333333333333, \"#9c179e\"], [0.4444444444444444, \"#bd3786\"], [0.5555555555555556, \"#d8576b\"], [0.6666666666666666, \"#ed7953\"], [0.7777777777777778, \"#fb9f3a\"], [0.8888888888888888, \"#fdca26\"], [1.0, \"#f0f921\"]]}, \"colorway\": [\"#636efa\", \"#EF553B\", \"#00cc96\", \"#ab63fa\", \"#FFA15A\", \"#19d3f3\", \"#FF6692\", \"#B6E880\", \"#FF97FF\", \"#FECB52\"], \"font\": {\"color\": \"#2a3f5f\"}, \"geo\": {\"bgcolor\": \"white\", \"lakecolor\": \"white\", \"landcolor\": \"#E5ECF6\", \"showlakes\": true, \"showland\": true, \"subunitcolor\": \"white\"}, \"hoverlabel\": {\"align\": \"left\"}, \"hovermode\": \"closest\", \"mapbox\": {\"style\": \"light\"}, \"paper_bgcolor\": \"white\", \"plot_bgcolor\": \"#E5ECF6\", \"polar\": {\"angularaxis\": {\"gridcolor\": \"white\", \"linecolor\": \"white\", \"ticks\": \"\"}, \"bgcolor\": \"#E5ECF6\", \"radialaxis\": {\"gridcolor\": \"white\", \"linecolor\": \"white\", \"ticks\": \"\"}}, \"scene\": {\"xaxis\": {\"backgroundcolor\": \"#E5ECF6\", \"gridcolor\": \"white\", \"gridwidth\": 2, \"linecolor\": \"white\", \"showbackground\": true, \"ticks\": \"\", \"zerolinecolor\": \"white\"}, \"yaxis\": {\"backgroundcolor\": \"#E5ECF6\", \"gridcolor\": \"white\", \"gridwidth\": 2, \"linecolor\": \"white\", \"showbackground\": true, \"ticks\": \"\", \"zerolinecolor\": \"white\"}, \"zaxis\": {\"backgroundcolor\": \"#E5ECF6\", \"gridcolor\": \"white\", \"gridwidth\": 2, \"linecolor\": \"white\", \"showbackground\": true, \"ticks\": \"\", \"zerolinecolor\": \"white\"}}, \"shapedefaults\": {\"line\": {\"color\": \"#2a3f5f\"}}, \"ternary\": {\"aaxis\": {\"gridcolor\": \"white\", \"linecolor\": \"white\", \"ticks\": \"\"}, \"baxis\": {\"gridcolor\": \"white\", \"linecolor\": \"white\", \"ticks\": \"\"}, \"bgcolor\": \"#E5ECF6\", \"caxis\": {\"gridcolor\": \"white\", \"linecolor\": \"white\", \"ticks\": \"\"}}, \"title\": {\"x\": 0.05}, \"xaxis\": {\"automargin\": true, \"gridcolor\": \"white\", \"linecolor\": \"white\", \"ticks\": \"\", \"title\": {\"standoff\": 15}, \"zerolinecolor\": \"white\", \"zerolinewidth\": 2}, \"yaxis\": {\"automargin\": true, \"gridcolor\": \"white\", \"linecolor\": \"white\", \"ticks\": \"\", \"title\": {\"standoff\": 15}, \"zerolinecolor\": \"white\", \"zerolinewidth\": 2}}}, \"xaxis\": {\"anchor\": \"y\", \"domain\": [0.0, 1.0], \"title\": {\"text\": \"0\"}}, \"yaxis\": {\"anchor\": \"x\", \"domain\": [0.0, 1.0], \"title\": {\"text\": \"1\"}}},\n",
              "                        {\"responsive\": true}\n",
              "                    ).then(function(){\n",
              "                            \n",
              "var gd = document.getElementById('63a9ecff-fdc9-4f33-ab51-df80ca09893e');\n",
              "var x = new MutationObserver(function (mutations, observer) {{\n",
              "        var display = window.getComputedStyle(gd).display;\n",
              "        if (!display || display === 'none') {{\n",
              "            console.log([gd, 'removed!']);\n",
              "            Plotly.purge(gd);\n",
              "            observer.disconnect();\n",
              "        }}\n",
              "}});\n",
              "\n",
              "// Listen for the removal of the full notebook cells\n",
              "var notebookContainer = gd.closest('#notebook-container');\n",
              "if (notebookContainer) {{\n",
              "    x.observe(notebookContainer, {childList: true});\n",
              "}}\n",
              "\n",
              "// Listen for the clearing of the current output cell\n",
              "var outputEl = gd.closest('.output');\n",
              "if (outputEl) {{\n",
              "    x.observe(outputEl, {childList: true});\n",
              "}}\n",
              "\n",
              "                        })\n",
              "                };\n",
              "                \n",
              "            </script>\n",
              "        </div>\n",
              "</body>\n",
              "</html>"
            ]
          },
          "metadata": {
            "tags": []
          }
        }
      ]
    },
    {
      "cell_type": "markdown",
      "metadata": {
        "id": "9W5kvtkRr7VW"
      },
      "source": [
        "## Isometric Mapping"
      ]
    },
    {
      "cell_type": "code",
      "metadata": {
        "colab": {
          "base_uri": "https://localhost:8080/",
          "height": 542
        },
        "id": "fiReXW4er9XV",
        "outputId": "e9bd0adb-f909-425e-f089-43730d4ddddb"
      },
      "source": [
        "isomap = Isomap(n_components=2,n_neighbors=10)\n",
        "X_isomap = isomap.fit_transform(X)\n",
        "\n",
        "fig = px.scatter(X_isomap, x=0, y=1, color=label.astype(object))\n",
        "fig.show()"
      ],
      "execution_count": 93,
      "outputs": [
        {
          "output_type": "display_data",
          "data": {
            "text/html": [
              "<html>\n",
              "<head><meta charset=\"utf-8\" /></head>\n",
              "<body>\n",
              "    <div>\n",
              "            <script src=\"https://cdnjs.cloudflare.com/ajax/libs/mathjax/2.7.5/MathJax.js?config=TeX-AMS-MML_SVG\"></script><script type=\"text/javascript\">if (window.MathJax) {MathJax.Hub.Config({SVG: {font: \"STIX-Web\"}});}</script>\n",
              "                <script type=\"text/javascript\">window.PlotlyConfig = {MathJaxConfig: 'local'};</script>\n",
              "        <script src=\"https://cdn.plot.ly/plotly-latest.min.js\"></script>    \n",
              "            <div id=\"69aed12c-2a24-404e-94c4-948ddb953419\" class=\"plotly-graph-div\" style=\"height:525px; width:100%;\"></div>\n",
              "            <script type=\"text/javascript\">\n",
              "                \n",
              "                    window.PLOTLYENV=window.PLOTLYENV || {};\n",
              "                    \n",
              "                if (document.getElementById(\"69aed12c-2a24-404e-94c4-948ddb953419\")) {\n",
              "                    Plotly.newPlot(\n",
              "                        '69aed12c-2a24-404e-94c4-948ddb953419',\n",
              "                        [{\"hoverlabel\": {\"namelength\": 0}, \"hovertemplate\": \"color=USA<br>0=%{x}<br>1=%{y}\", \"legendgroup\": \"color=USA\", \"marker\": {\"color\": \"#636efa\", \"symbol\": \"circle\"}, \"mode\": \"markers\", \"name\": \"color=USA\", \"showlegend\": true, \"type\": \"scatter\", \"x\": [578.3261304975483, 778.9481673717495, 520.8257476440353, 513.5295684854443, 521.5783474924277, 1467.560429115427, 1477.1304772245314, 1433.2031220156564, 1546.3724476361824, 952.6296919666502, 658.983669029757, 693.4479449506879, 859.9205348794386, 137.18218711581773, -138.7162907940406, -197.97590645934943, -400.2709874659796, -339.374442488984, 1722.175324690074, 1479.9346588646374, 1495.627463928799, 1847.4308460947304, -763.7603455071943, -358.5012421215744, 495.6499591210363, 381.23909566008996, 354.67839048634033, 339.1473569495155, 1300.243619895909, 1574.9346798677416, 1244.0897330266762, 1183.2266271441383, 2051.146107455832, 1847.7796552939785, 2234.5494038141796, 0.5437500992729735, -594.8921156821932, 335.34544150155784, 185.36814436441819, -808.191031291772, -1096.5618213281657, -912.2322694296255, -595.5952004979274, -803.3796899045668, 1365.1581767400753, 1496.2779812437898, 1221.880596743952, 1219.086505104672, 748.5353884982055, 1758.1559198981365, 1597.1639582245637, 1556.663857263771, 1536.0833197193301, 974.2980250018645, 1181.853732255411, 1379.2759790767095, 1165.809215110086, -612.2947872521335, -865.4887849303278, 1198.1762317068255, 748.6110614014278, 1078.0239080571462, 1125.418385031476, 854.9029017849607, 2055.1325401984773, 1578.6964712549309, 1458.060633104406, 1323.9642825797216, 1859.6221475514503, 2061.6312341018906, 910.0145319518191, 163.01850403120162, 330.0762738898958, -18.13238595131437, 61.018059036679816, -54.258334763204, 2093.116373654206, 2005.247893238812, 1749.2170146070166, 1601.0167293999702, -174.90105608961085, -601.9730706041249, -707.0376528515328, -530.8537796886444, 1171.7817549302047, 1403.1173162357425, 482.8175995489453, 751.9326363658413, 143.8121577832588, -62.223401254473345, 387.87613798909547, -548.9335798350709, -453.38206790082364, 849.0978455039619, 696.5654575509707, 671.4107155541021, 1226.2892807503936, 1792.9471273554905, 1570.0154798524666, 1740.5799845462875, 1343.7146531969343, -910.879575960317, 313.277922267634, 518.4201120679395, 491.4769639304418, 203.2797486090962, 1770.0897865836987, 1534.508314006721, 1599.7799223466438, 1751.327126609199, 992.5522824423585, 975.2978758623207, 796.3640072012203, 859.0292024077847, 81.77409375852352, 272.2541666630742, 231.51913924850905, -351.95843727342793, -49.24089130136532, -401.4361915472331, 7.536634210564441, 259.7987495612868, -425.2893142432933, -773.1503844153426, 1300.3272388699845, 1276.9736843402222, 1043.542285476951, 1305.1184959462084, 284.1742231497965, 406.7922649204135, 51.3934926055018, 127.86155940279042, -1016.7460615533397, -870.3928383242704, 709.6941500988302, 633.4629189797902, 710.4775038824902, 239.69867303842537, -429.78454892064184, 1023.1028144403559, 1482.5600857570053, 1144.9703304470495, 950.9735580627325, 832.8134771605824, -879.4991119808989, -722.7930671962555, 961.5186509451709, 1172.5130948067056, 1227.3498897586433, 1380.4579078536096, 579.628920177812, 480.6853924310661, 688.5514820792018, 583.7584968383737, 1328.2076568211312, 1258.898612258969, 1434.0536992682864, 1428.3486624038248, -251.93414173760218, -237.0051256850686, -995.9150321540371, -964.6238791439903, -1250.8360150041754, 420.5257628076464, 813.2381777435628, 642.5716258673965, 593.6944014254807, 197.21040874910088, 6.337440012688643, -272.15734074203027, 484.94916500770705, 258.8834921348653, 435.7198888888953, 109.8651751263338, 678.0719033945242, 466.4747862811083, 507.84280869549127, 502.2886737798748, 259.7674418301168, 1167.1326554893524, -875.8824884311363, -795.5233814993777, -242.5842322565479, -129.9105570528467, 297.8087359437844, 30.42745693947842, -97.0558475782155, 313.22115471007515, 419.68050430456174, 920.3580178112131, 803.477431620289, 1044.0275526122275, 909.4545803651001, 1454.0871699142072, 1142.9858703105058, 667.7003748462996, 1034.4437224729675, -1134.2576205796897, -326.1687923827074, 986.9218385517944, 477.77153435731077, -826.2093825836025, -881.9330234508589, -320.5319827022577, -405.31329415968344, -280.28904485153987, -438.78979556073944, -911.011138311503, -312.5000376631927, -115.9409706202665, 28.032539270628426, 437.94501727777055, -188.19838939286635, -506.96512394386014, -356.0028791095704, -372.9926560877169, -256.437863561296, -624.2708109475069, -1173.2713293324873, -809.4542236540655, -999.815911150886, -642.5315812545981, 471.1186077187495, 819.8724486008995, 100.47009547276026, 521.8624301130643, -394.0985935172762, -358.9454020720084, -613.617027482285, -424.6949963405685, -474.57591425662577, -256.325308104774, -122.57638064507024, -909.1515669382497, -907.3056405432064, -24.558281522452756, 55.36402375093389, -408.0959935928229, -128.29492579809752, -638.890925880794, -24.336826917971905, -201.36726560244284, -731.6330569958326, -371.37460584653127, -278.1752287634003], \"xaxis\": \"x\", \"y\": [72.95952081481927, 42.28431119224996, 131.98138029172526, 115.54530346238684, 79.6041300511618, -50.925355286342715, -42.26330155349321, -41.66895961350015, -45.53527973618377, 35.96637294108877, 103.16503811961569, 55.365567599315156, 66.35657710051221, 614.505026189622, 27.392106828710833, 20.970102590560693, 54.217267733103874, 57.37110024702713, -104.21267246273005, -65.72548377325478, -63.439808085689606, -116.34076043783647, -15.992343036064073, 102.82164817368715, 36.48143808600611, 43.86585855388879, 54.11960945432438, 47.26375413720963, -59.23956333636302, -77.5557501219898, -52.429741855325545, -39.24156842382468, -138.74079468698875, -119.09049907081108, -156.2511865505327, 55.229723806804294, 1.3748978933606657, 51.886744978208554, 41.61779941511825, -24.08186754044981, -58.40625237721828, -41.27518759052842, 0.2952516798913489, -23.816215809117598, -67.33805049955161, -69.08818459951596, -41.544931579938904, -49.277185446816446, 6.519060564912225, -105.67945036665235, -94.39250980926396, -88.459754734786, -73.49603715368562, -11.386770485292933, -38.36572465643484, -61.569085364551064, -35.02542960895242, 1.4278216475071088, -36.29919189635251, -38.410766188374666, 6.375962034978563, -31.086559135898373, -32.166678659908015, -3.7379149839374457, -139.3283383678928, -77.28077632020305, -77.88969390704757, -54.05288806545876, -118.59681095601105, -138.926860314685, 23.42868244976526, 69.75092621770446, 46.69448421391458, 36.550943690947435, 38.277182822265395, 65.40565495436887, -142.50390740709759, -134.6846057696858, -109.057362444208, -89.63243994609466, 42.660599026644825, 2.8440293590837475, -22.007250343437715, 17.903536321102653, -43.08687794387749, -34.50030092584165, 137.02972210658044, 56.79308612115138, 56.08762448547266, 33.728591898632935, 45.08066111236597, -6.561249775307729, 2.5220798365724977, 14.43568362597661, 41.72581267304773, 38.960570351753674, -43.24560000230709, -113.45613951969074, -81.99862411116322, -103.62132097625621, -58.84397566663623, -41.792341390310256, 47.18968568070806, 31.45330073367818, 91.72157508255141, 50.963702020405634, -111.14608043939234, -87.29133598576595, -86.1313325884986, -109.29485535732215, 55.57639621859251, 17.542965553708385, 22.862376871224527, 37.90561299536858, 64.6207534990253, 49.041608892603094, 184.99085825317894, 28.39248031319963, 34.88968648250702, 7.66808971788511, 47.571462716994475, 46.04431203222785, 12.236489448794043, -25.163482754261093, -53.19913447998217, -48.963612368596586, -21.075684371509457, -59.293555191752375, 52.1110057445191, 42.03944764211457, 52.110866528319, 41.56374177934528, -49.45677024923457, -35.114295443774374, 32.759218834402226, 47.33455723775158, 34.595103648219165, 48.77851209172337, 4.879843181482278, -19.12286121345176, -78.02157623129054, -39.72530225688715, -9.155594421765777, -3.723397928323261, -33.911795878917424, -14.026291588145666, -12.255485945380563, 14.68069770685892, -45.19229716276024, -59.86853693872598, 24.04248245109926, 39.32552705391359, 35.47338432447478, 31.235175793751253, -40.18370960124351, -51.56591385214516, -58.61822337392584, -74.98540528594296, 39.52808888452911, 32.714374940517, -48.929131276293504, -46.821039403722004, -72.73892873503883, 41.6147330701799, 5.3931002034578785, 91.9567349586966, 45.03325468884932, 57.118373174835384, 57.446797683175, 29.357428007599832, 47.76144803232956, 47.14064806909608, 42.968993254975956, 54.97578440518605, 40.56146539164125, 37.001155574363544, 121.60297200555428, 210.969349964042, 173.3728470047641, -37.348715082881824, -38.359243706812684, -30.706791294578295, 45.93021349993075, 38.142728847067325, 72.05858139489774, 52.817614038066665, 46.116896392942984, 50.02708126379589, 61.64260081629407, -5.702757775741778, 19.04776177106547, -27.382719329709854, -12.287186589646335, -78.02350978930598, -39.950039080813966, 15.249489917329214, -17.06133517754609, -62.00854620393417, 24.428224071159622, -20.964557029811726, 46.97786378959952, -33.04164653429976, -37.33797253342281, 15.870531818547285, 50.86075627077134, 28.72797479957533, 9.520242215725895, -41.46866618333524, 16.158738051061214, 41.138495171110385, 55.44370849307908, 54.311044814854384, 43.73619920218487, -2.654287948912684, 12.037456919465264, 16.51188169437467, 17.690111787225153, -3.299524767307892, -65.98312008802765, -31.582568668097217, -49.986061313801756, 1.8991244843363684, 41.26850770693555, 98.90609316593796, 54.496709065462575, 53.691178626475136, 18.503923632517306, 21.085051776639915, -12.829627593288317, 15.423730701317375, 5.5106693884762254, 41.88226294724873, 44.322958847584815, -37.93403346389029, -40.34292386734562, 47.599465334244336, 69.11347892382942, 12.72285877804345, 35.02892787637796, 0.021427028657389106, 59.17879236754626, 33.8337718082926, -10.993979929774092, 21.467797314308473, 35.964321499858], \"yaxis\": \"y\"}, {\"hoverlabel\": {\"namelength\": 0}, \"hovertemplate\": \"color=Japan<br>0=%{x}<br>1=%{y}\", \"legendgroup\": \"color=Japan\", \"marker\": {\"color\": \"#EF553B\", \"symbol\": \"circle\"}, \"mode\": \"markers\", \"name\": \"color=Japan\", \"showlegend\": true, \"type\": \"scatter\", \"x\": [-632.173720669909, -916.4705305833475, -916.1140664034118, -806.1814454037273, -1277.9123599290435, -1436.5480124147632, -741.7009356479858, -688.6295946836235, -739.490764215065, -498.6651531742377, -939.5166359695769, -746.5407387974839, -626.8091086929663, -933.4967626670589, -185.38271625613925, -1101.6867627310965, -1216.3985538642735, -1400.3450417034526, -1044.7039442750872, -513.5758770150636, -615.1118608497978, -858.1181179879093, -291.54653759701137, -459.3146396417082, -1257.2065658220588, -1257.1646529149982, -1057.1147686236247, -874.1822456567024, -49.82315362603649, -998.3106838978282, -1103.5221115089334, -766.289055110581, -1065.7428438589138, -172.3315367303087, -296.538796483049, -1065.7128107704254, -978.8988674867851, -1250.375553660921, -438.24682893556474, -724.6292203739868, -483.8020040394665, -598.0059434839724, -895.5406823406937, -1072.1062551904163, -1026.4882633215948, -1081.1072406909684, -1027.838506043783, -281.78694731236175, -460.2899145596511, -573.4747549156632, -757.6091478814998, -927.0854540199485, -925.9565630497333, -1199.6458205637546, -886.9448165655803, -63.154702001895096, -595.4293090483753, -738.4231170872256, -1294.4514878385187, -1289.4950675760617, -983.9103687179122, -1072.0382188475612, -995.4353742357752, -1061.6631213173355, -816.0405413941322, -660.7245852120219, -387.22278059759145, -361.6408903265557, -72.11524253160964, -57.416107914505375, -1020.7627526002045, -1077.0712912048416, -871.6810477273598, -821.5696357658711, -778.470256804176, -1082.0568170763581, -1081.8073641084563, -1050.8427995427157, -327.4725315563098], \"xaxis\": \"x\", \"y\": [-9.317708749381275, -38.99046545353492, -39.10884476591069, -23.16575776362479, -75.12092920702275, -89.08321642063262, -21.01622778742078, -14.711735327903982, -17.23441045859427, 10.007172005157203, -43.93435465069346, -22.200286194542727, -10.342960701642724, -31.69120859552371, 76.76008820206007, -58.808604049685115, -69.63453426122982, -85.91482223050146, -53.51733879778855, 5.977576942114361, -12.639183179722789, -36.78987361350496, 38.79996637220834, 13.998907478592024, -73.32918508560122, -73.32673356066233, -55.149023305494566, -38.32628195841885, 45.136962598454524, -50.00922244929705, -59.555534337060166, -21.369118136689515, -55.550953203278176, 36.43454108290227, 113.83788148539189, -54.478416959288204, -46.599226442415535, -72.75955132459792, 8.464857254866654, -13.033995932447358, 3.711115440588524, -8.968437313937502, -40.383274711864956, -56.63056439074369, -52.255575185958726, -57.03676305234278, -52.47765863716355, 28.99405096824602, 14.004144351051655, -8.892161029190282, -26.98658456117481, -42.672768027916945, -42.94913455944063, -68.18523444602027, -39.3249137060063, 77.4722469159142, 24.811025360418263, -20.056024365356343, -76.62581006909055, -76.20659222542712, -47.38245796141294, -56.43632837771622, -49.6456957009058, -55.953413599946856, -32.70501032961488, -17.423444134447546, 28.826650499569922, 25.21448038741668, 42.817372675920765, 81.88216070330672, -52.15610078265353, -57.26391883706019, -30.152259970402437, -32.716274770418785, -29.01324630148098, -57.479865216621995, -57.793070765526004, -54.953178295187556, 27.053611472111836], \"yaxis\": \"y\"}, {\"hoverlabel\": {\"namelength\": 0}, \"hovertemplate\": \"color=Europe<br>0=%{x}<br>1=%{y}\", \"legendgroup\": \"color=Europe\", \"marker\": {\"color\": \"#00cc96\", \"symbol\": \"circle\"}, \"mode\": \"markers\", \"name\": \"color=Europe\", \"showlegend\": true, \"type\": \"scatter\", \"x\": [-1221.6666337006736, -328.81875054721075, -575.6750257481671, -631.5781801483055, -804.9751900674454, -926.4607504779447, -975.8547685066117, -977.68996956155, -1218.6784677373441, -780.9905010865551, -55.787743712326126, -489.937560261937, -8.227565567599056, -843.1425105037929, -1108.8683319140998, -761.9627148664675, -1188.087862620496, -880.5442936750561, -420.9819912542753, -121.33973770204781, -339.4604660628396, -810.5121967951623, -1088.8199577706432, -733.3933947335631, -928.3629788622632, -779.5943448263124, -1048.245736231409, -806.8541217339891, -1110.9961148062816, -306.5477553447891, -25.9062838618946, -38.59390706897203, -327.57419731560526, -540.6370803138939, -806.4846784565273, -827.9358220896216, -1110.76743570338, -1226.132347713134, 176.59424174033083, 287.12646661872066, 908.3955668393226, -1224.3416500137528, -1110.2911030136345, -839.1457310065564, -406.87639221587875, -1070.7252655640477, -158.98181365967105, 171.38106109097208, -194.05479726012808, 474.1645989082676, -1058.2119393508126, -1122.163095820137, 587.0591328017434, 222.83039537426774, -903.9412801407162, -891.0887136241047, -840.3921247840585, -956.8818558126915, -693.4597830594419, -35.112143435351435, 276.5445889133828, -1204.8440761959366, -502.05998056508867, -836.1764434052944, 260.97848892580987, 192.85305148502863, -1072.4104634607886, -910.8626556058841], \"xaxis\": \"x\", \"y\": [-69.904366619473, 34.330821480815985, -8.721838710561688, -8.36111451200653, -9.609567054357397, -36.31284357506229, -44.911447453005465, -46.94089905750009, -69.8173678511461, -14.710997242770883, 60.28697497928635, -0.35520090931769865, 73.5683259986629, -32.84953540588761, -57.66052413532832, -20.740687949563767, -66.80872837376594, -28.98544568240417, 15.867727664666104, 56.484405416386124, 55.43308832120723, -31.135705409413607, -57.62438204859778, -15.039462403750733, -43.4308728059003, -25.95978801147864, -53.91008849488441, -26.04552819332903, -60.25108240374746, 43.273071145125954, 61.30669398391602, 49.17231931043099, 53.26855445901575, -5.234273749501655, -28.172601721542648, -31.893328639300073, -60.27672615227511, -70.517872592289, 250.0847188659615, 332.46889820318944, 126.13848377915077, -70.48279365047945, -59.68213248613565, -34.670392017580426, 43.16391008686353, -54.375103056788404, 44.95842629594007, 180.57011335399898, 58.60947826650069, 237.4047484379512, -55.16644539945162, -61.43405501392197, 92.37262868140945, 234.64873609789709, -40.92839383203549, -37.66654298665041, -34.51154968003247, -45.84943134646746, -4.476067124610483, 66.93358803816334, 276.8687720354166, -68.69904509458671, 2.381788114597695, -34.64723859021201, 236.29448054667947, 223.47477452738508, -55.168295689743246, -36.67445099695894], \"yaxis\": \"y\"}],\n",
              "                        {\"legend\": {\"tracegroupgap\": 0}, \"margin\": {\"t\": 60}, \"template\": {\"data\": {\"bar\": [{\"error_x\": {\"color\": \"#2a3f5f\"}, \"error_y\": {\"color\": \"#2a3f5f\"}, \"marker\": {\"line\": {\"color\": \"#E5ECF6\", \"width\": 0.5}}, \"type\": \"bar\"}], \"barpolar\": [{\"marker\": {\"line\": {\"color\": \"#E5ECF6\", \"width\": 0.5}}, \"type\": \"barpolar\"}], \"carpet\": [{\"aaxis\": {\"endlinecolor\": \"#2a3f5f\", \"gridcolor\": \"white\", \"linecolor\": \"white\", \"minorgridcolor\": \"white\", \"startlinecolor\": \"#2a3f5f\"}, \"baxis\": {\"endlinecolor\": \"#2a3f5f\", \"gridcolor\": \"white\", \"linecolor\": \"white\", \"minorgridcolor\": \"white\", \"startlinecolor\": \"#2a3f5f\"}, \"type\": \"carpet\"}], \"choropleth\": [{\"colorbar\": {\"outlinewidth\": 0, \"ticks\": \"\"}, \"type\": \"choropleth\"}], \"contour\": [{\"colorbar\": {\"outlinewidth\": 0, \"ticks\": \"\"}, \"colorscale\": [[0.0, \"#0d0887\"], [0.1111111111111111, \"#46039f\"], [0.2222222222222222, \"#7201a8\"], [0.3333333333333333, \"#9c179e\"], [0.4444444444444444, \"#bd3786\"], [0.5555555555555556, \"#d8576b\"], [0.6666666666666666, \"#ed7953\"], [0.7777777777777778, \"#fb9f3a\"], [0.8888888888888888, \"#fdca26\"], [1.0, \"#f0f921\"]], \"type\": \"contour\"}], \"contourcarpet\": [{\"colorbar\": {\"outlinewidth\": 0, \"ticks\": \"\"}, \"type\": \"contourcarpet\"}], \"heatmap\": [{\"colorbar\": {\"outlinewidth\": 0, \"ticks\": \"\"}, \"colorscale\": [[0.0, \"#0d0887\"], [0.1111111111111111, \"#46039f\"], [0.2222222222222222, \"#7201a8\"], [0.3333333333333333, \"#9c179e\"], [0.4444444444444444, \"#bd3786\"], [0.5555555555555556, \"#d8576b\"], [0.6666666666666666, \"#ed7953\"], [0.7777777777777778, \"#fb9f3a\"], [0.8888888888888888, \"#fdca26\"], [1.0, \"#f0f921\"]], \"type\": \"heatmap\"}], \"heatmapgl\": [{\"colorbar\": {\"outlinewidth\": 0, \"ticks\": \"\"}, \"colorscale\": [[0.0, \"#0d0887\"], [0.1111111111111111, \"#46039f\"], [0.2222222222222222, \"#7201a8\"], [0.3333333333333333, \"#9c179e\"], [0.4444444444444444, \"#bd3786\"], [0.5555555555555556, \"#d8576b\"], [0.6666666666666666, \"#ed7953\"], [0.7777777777777778, \"#fb9f3a\"], [0.8888888888888888, \"#fdca26\"], [1.0, \"#f0f921\"]], \"type\": \"heatmapgl\"}], \"histogram\": [{\"marker\": {\"colorbar\": {\"outlinewidth\": 0, \"ticks\": \"\"}}, \"type\": \"histogram\"}], \"histogram2d\": [{\"colorbar\": {\"outlinewidth\": 0, \"ticks\": \"\"}, \"colorscale\": [[0.0, \"#0d0887\"], [0.1111111111111111, \"#46039f\"], [0.2222222222222222, \"#7201a8\"], [0.3333333333333333, \"#9c179e\"], [0.4444444444444444, \"#bd3786\"], [0.5555555555555556, \"#d8576b\"], [0.6666666666666666, \"#ed7953\"], [0.7777777777777778, \"#fb9f3a\"], [0.8888888888888888, \"#fdca26\"], [1.0, \"#f0f921\"]], \"type\": \"histogram2d\"}], \"histogram2dcontour\": [{\"colorbar\": {\"outlinewidth\": 0, \"ticks\": \"\"}, \"colorscale\": [[0.0, \"#0d0887\"], [0.1111111111111111, \"#46039f\"], [0.2222222222222222, \"#7201a8\"], [0.3333333333333333, \"#9c179e\"], [0.4444444444444444, \"#bd3786\"], [0.5555555555555556, \"#d8576b\"], [0.6666666666666666, \"#ed7953\"], [0.7777777777777778, \"#fb9f3a\"], [0.8888888888888888, \"#fdca26\"], [1.0, \"#f0f921\"]], \"type\": \"histogram2dcontour\"}], \"mesh3d\": [{\"colorbar\": {\"outlinewidth\": 0, \"ticks\": \"\"}, \"type\": \"mesh3d\"}], \"parcoords\": [{\"line\": {\"colorbar\": {\"outlinewidth\": 0, \"ticks\": \"\"}}, \"type\": \"parcoords\"}], \"pie\": [{\"automargin\": true, \"type\": \"pie\"}], \"scatter\": [{\"marker\": {\"colorbar\": {\"outlinewidth\": 0, \"ticks\": \"\"}}, \"type\": \"scatter\"}], \"scatter3d\": [{\"line\": {\"colorbar\": {\"outlinewidth\": 0, \"ticks\": \"\"}}, \"marker\": {\"colorbar\": {\"outlinewidth\": 0, \"ticks\": \"\"}}, \"type\": \"scatter3d\"}], \"scattercarpet\": [{\"marker\": {\"colorbar\": {\"outlinewidth\": 0, \"ticks\": \"\"}}, \"type\": \"scattercarpet\"}], \"scattergeo\": [{\"marker\": {\"colorbar\": {\"outlinewidth\": 0, \"ticks\": \"\"}}, \"type\": \"scattergeo\"}], \"scattergl\": [{\"marker\": {\"colorbar\": {\"outlinewidth\": 0, \"ticks\": \"\"}}, \"type\": \"scattergl\"}], \"scattermapbox\": [{\"marker\": {\"colorbar\": {\"outlinewidth\": 0, \"ticks\": \"\"}}, \"type\": \"scattermapbox\"}], \"scatterpolar\": [{\"marker\": {\"colorbar\": {\"outlinewidth\": 0, \"ticks\": \"\"}}, \"type\": \"scatterpolar\"}], \"scatterpolargl\": [{\"marker\": {\"colorbar\": {\"outlinewidth\": 0, \"ticks\": \"\"}}, \"type\": \"scatterpolargl\"}], \"scatterternary\": [{\"marker\": {\"colorbar\": {\"outlinewidth\": 0, \"ticks\": \"\"}}, \"type\": \"scatterternary\"}], \"surface\": [{\"colorbar\": {\"outlinewidth\": 0, \"ticks\": \"\"}, \"colorscale\": [[0.0, \"#0d0887\"], [0.1111111111111111, \"#46039f\"], [0.2222222222222222, \"#7201a8\"], [0.3333333333333333, \"#9c179e\"], [0.4444444444444444, \"#bd3786\"], [0.5555555555555556, \"#d8576b\"], [0.6666666666666666, \"#ed7953\"], [0.7777777777777778, \"#fb9f3a\"], [0.8888888888888888, \"#fdca26\"], [1.0, \"#f0f921\"]], \"type\": \"surface\"}], \"table\": [{\"cells\": {\"fill\": {\"color\": \"#EBF0F8\"}, \"line\": {\"color\": \"white\"}}, \"header\": {\"fill\": {\"color\": \"#C8D4E3\"}, \"line\": {\"color\": \"white\"}}, \"type\": \"table\"}]}, \"layout\": {\"annotationdefaults\": {\"arrowcolor\": \"#2a3f5f\", \"arrowhead\": 0, \"arrowwidth\": 1}, \"coloraxis\": {\"colorbar\": {\"outlinewidth\": 0, \"ticks\": \"\"}}, \"colorscale\": {\"diverging\": [[0, \"#8e0152\"], [0.1, \"#c51b7d\"], [0.2, \"#de77ae\"], [0.3, \"#f1b6da\"], [0.4, \"#fde0ef\"], [0.5, \"#f7f7f7\"], [0.6, \"#e6f5d0\"], [0.7, \"#b8e186\"], [0.8, \"#7fbc41\"], [0.9, \"#4d9221\"], [1, \"#276419\"]], \"sequential\": [[0.0, \"#0d0887\"], [0.1111111111111111, \"#46039f\"], [0.2222222222222222, \"#7201a8\"], [0.3333333333333333, \"#9c179e\"], [0.4444444444444444, \"#bd3786\"], [0.5555555555555556, \"#d8576b\"], [0.6666666666666666, \"#ed7953\"], [0.7777777777777778, \"#fb9f3a\"], [0.8888888888888888, \"#fdca26\"], [1.0, \"#f0f921\"]], \"sequentialminus\": [[0.0, \"#0d0887\"], [0.1111111111111111, \"#46039f\"], [0.2222222222222222, \"#7201a8\"], [0.3333333333333333, \"#9c179e\"], [0.4444444444444444, \"#bd3786\"], [0.5555555555555556, \"#d8576b\"], [0.6666666666666666, \"#ed7953\"], [0.7777777777777778, \"#fb9f3a\"], [0.8888888888888888, \"#fdca26\"], [1.0, \"#f0f921\"]]}, \"colorway\": [\"#636efa\", \"#EF553B\", \"#00cc96\", \"#ab63fa\", \"#FFA15A\", \"#19d3f3\", \"#FF6692\", \"#B6E880\", \"#FF97FF\", \"#FECB52\"], \"font\": {\"color\": \"#2a3f5f\"}, \"geo\": {\"bgcolor\": \"white\", \"lakecolor\": \"white\", \"landcolor\": \"#E5ECF6\", \"showlakes\": true, \"showland\": true, \"subunitcolor\": \"white\"}, \"hoverlabel\": {\"align\": \"left\"}, \"hovermode\": \"closest\", \"mapbox\": {\"style\": \"light\"}, \"paper_bgcolor\": \"white\", \"plot_bgcolor\": \"#E5ECF6\", \"polar\": {\"angularaxis\": {\"gridcolor\": \"white\", \"linecolor\": \"white\", \"ticks\": \"\"}, \"bgcolor\": \"#E5ECF6\", \"radialaxis\": {\"gridcolor\": \"white\", \"linecolor\": \"white\", \"ticks\": \"\"}}, \"scene\": {\"xaxis\": {\"backgroundcolor\": \"#E5ECF6\", \"gridcolor\": \"white\", \"gridwidth\": 2, \"linecolor\": \"white\", \"showbackground\": true, \"ticks\": \"\", \"zerolinecolor\": \"white\"}, \"yaxis\": {\"backgroundcolor\": \"#E5ECF6\", \"gridcolor\": \"white\", \"gridwidth\": 2, \"linecolor\": \"white\", \"showbackground\": true, \"ticks\": \"\", \"zerolinecolor\": \"white\"}, \"zaxis\": {\"backgroundcolor\": \"#E5ECF6\", \"gridcolor\": \"white\", \"gridwidth\": 2, \"linecolor\": \"white\", \"showbackground\": true, \"ticks\": \"\", \"zerolinecolor\": \"white\"}}, \"shapedefaults\": {\"line\": {\"color\": \"#2a3f5f\"}}, \"ternary\": {\"aaxis\": {\"gridcolor\": \"white\", \"linecolor\": \"white\", \"ticks\": \"\"}, \"baxis\": {\"gridcolor\": \"white\", \"linecolor\": \"white\", \"ticks\": \"\"}, \"bgcolor\": \"#E5ECF6\", \"caxis\": {\"gridcolor\": \"white\", \"linecolor\": \"white\", \"ticks\": \"\"}}, \"title\": {\"x\": 0.05}, \"xaxis\": {\"automargin\": true, \"gridcolor\": \"white\", \"linecolor\": \"white\", \"ticks\": \"\", \"title\": {\"standoff\": 15}, \"zerolinecolor\": \"white\", \"zerolinewidth\": 2}, \"yaxis\": {\"automargin\": true, \"gridcolor\": \"white\", \"linecolor\": \"white\", \"ticks\": \"\", \"title\": {\"standoff\": 15}, \"zerolinecolor\": \"white\", \"zerolinewidth\": 2}}}, \"xaxis\": {\"anchor\": \"y\", \"domain\": [0.0, 1.0], \"title\": {\"text\": \"0\"}}, \"yaxis\": {\"anchor\": \"x\", \"domain\": [0.0, 1.0], \"title\": {\"text\": \"1\"}}},\n",
              "                        {\"responsive\": true}\n",
              "                    ).then(function(){\n",
              "                            \n",
              "var gd = document.getElementById('69aed12c-2a24-404e-94c4-948ddb953419');\n",
              "var x = new MutationObserver(function (mutations, observer) {{\n",
              "        var display = window.getComputedStyle(gd).display;\n",
              "        if (!display || display === 'none') {{\n",
              "            console.log([gd, 'removed!']);\n",
              "            Plotly.purge(gd);\n",
              "            observer.disconnect();\n",
              "        }}\n",
              "}});\n",
              "\n",
              "// Listen for the removal of the full notebook cells\n",
              "var notebookContainer = gd.closest('#notebook-container');\n",
              "if (notebookContainer) {{\n",
              "    x.observe(notebookContainer, {childList: true});\n",
              "}}\n",
              "\n",
              "// Listen for the clearing of the current output cell\n",
              "var outputEl = gd.closest('.output');\n",
              "if (outputEl) {{\n",
              "    x.observe(outputEl, {childList: true});\n",
              "}}\n",
              "\n",
              "                        })\n",
              "                };\n",
              "                \n",
              "            </script>\n",
              "        </div>\n",
              "</body>\n",
              "</html>"
            ]
          },
          "metadata": {
            "tags": []
          }
        }
      ]
    },
    {
      "cell_type": "markdown",
      "metadata": {
        "id": "zcc_ss8MdFNh"
      },
      "source": [
        "## t-Stochastic Distributed Neighbor Embedding Projection (t-SNE)\n"
      ]
    },
    {
      "cell_type": "markdown",
      "metadata": {
        "id": "i3ocJItKtpl8"
      },
      "source": [
        "Vamos gerar um gráfico de linhas para o conjunto de dados Auto-MPG Cars. Considere que cada carro é enumerado por um número inteiro de 1 a N, em que N é a quantidade de instâncias. Agora vamos criar uma nova coluna no DataFrame para possibilitar seu uso como eixo X no gráfico de linhas (Line Chart) do Plotly:"
      ]
    },
    {
      "cell_type": "code",
      "metadata": {
        "id": "-Ov9hczGtmjG",
        "colab": {
          "base_uri": "https://localhost:8080/",
          "height": 542
        },
        "outputId": "476e0067-d4e4-4527-8f0d-35da9e45c016"
      },
      "source": [
        "tsne = TSNE(n_components=2,perplexity=12,learning_rate=50.0,metric='euclidean', init='random')\n",
        "X_tsne = tsne.fit_transform(X)\n",
        "\n",
        "fig = px.scatter(X_tsne, x=0, y=1, color=label.astype(object))\n",
        "fig.show()\n"
      ],
      "execution_count": 116,
      "outputs": [
        {
          "output_type": "display_data",
          "data": {
            "text/html": [
              "<html>\n",
              "<head><meta charset=\"utf-8\" /></head>\n",
              "<body>\n",
              "    <div>\n",
              "            <script src=\"https://cdnjs.cloudflare.com/ajax/libs/mathjax/2.7.5/MathJax.js?config=TeX-AMS-MML_SVG\"></script><script type=\"text/javascript\">if (window.MathJax) {MathJax.Hub.Config({SVG: {font: \"STIX-Web\"}});}</script>\n",
              "                <script type=\"text/javascript\">window.PlotlyConfig = {MathJaxConfig: 'local'};</script>\n",
              "        <script src=\"https://cdn.plot.ly/plotly-latest.min.js\"></script>    \n",
              "            <div id=\"bc41ca70-4976-4ff6-b5ff-7986cbdff2ea\" class=\"plotly-graph-div\" style=\"height:525px; width:100%;\"></div>\n",
              "            <script type=\"text/javascript\">\n",
              "                \n",
              "                    window.PLOTLYENV=window.PLOTLYENV || {};\n",
              "                    \n",
              "                if (document.getElementById(\"bc41ca70-4976-4ff6-b5ff-7986cbdff2ea\")) {\n",
              "                    Plotly.newPlot(\n",
              "                        'bc41ca70-4976-4ff6-b5ff-7986cbdff2ea',\n",
              "                        [{\"hoverlabel\": {\"namelength\": 0}, \"hovertemplate\": \"color=USA<br>0=%{x}<br>1=%{y}\", \"legendgroup\": \"color=USA\", \"marker\": {\"color\": \"#636efa\", \"symbol\": \"circle\"}, \"mode\": \"markers\", \"name\": \"color=USA\", \"showlegend\": true, \"type\": \"scatter\", \"x\": [-9.604327201843262, -18.751678466796875, -7.751058578491211, -7.270469665527344, -7.8271098136901855, -30.584516525268555, -30.03788948059082, -30.117691040039062, -30.31278419494629, -22.22530174255371, -15.757720947265625, -16.47557258605957, -20.36872673034668, 9.860922813415527, 26.01677131652832, 26.912355422973633, 36.014739990234375, 36.454856872558594, -32.26336669921875, -34.28837203979492, -34.1461296081543, -30.651777267456055, 14.997472763061523, 36.595848083496094, -3.758967161178589, 2.8459057807922363, 4.395415306091309, 5.573841571807861, -32.414493560791016, -31.51181411743164, -33.084877014160156, -32.57167053222656, -30.80012321472168, -31.635974884033203, -31.333953857421875, 18.63298797607422, 29.79360008239746, 5.279941082000732, 12.317259788513184, 8.199856758117676, -8.645722389221191, -3.287813901901245, 29.363637924194336, 8.751261711120605, -32.75450134277344, -31.764114379882812, -32.49401092529297, -33.42909622192383, -18.72418975830078, -32.81184005737305, -32.32123565673828, -32.548858642578125, -31.52796745300293, -25.33900260925293, -31.811927795410156, -33.73589324951172, -32.16961669921875, 28.226232528686523, 0.9570903182029724, -33.753971099853516, -18.717906951904297, -26.752246856689453, -31.977375030517578, -21.461591720581055, -31.528364181518555, -31.547277450561523, -33.10367965698242, -33.356136322021484, -32.35871124267578, -31.93661880493164, -22.16887664794922, 13.614214897155762, 5.6103620529174805, 19.321229934692383, 17.45733642578125, 20.59531593322754, -30.922649383544922, -31.29423713684082, -31.779794692993164, -31.92051124572754, 26.30912208557129, 29.458385467529297, 17.885583877563477, 31.50923728942871, -33.54957962036133, -30.316858291625977, -7.106928825378418, -17.885950088500977, 14.678998947143555, 19.760604858398438, 2.247260093688965, 30.130346298217773, 33.403785705566406, -23.14009666442871, -16.200824737548828, -15.301196098327637, -31.80340576171875, -31.255281448364258, -33.28144073486328, -30.855098724365234, -33.701255798339844, -2.6821391582489014, 6.757949352264404, -4.601078033447266, -3.690213203430176, 11.579590797424316, -32.18550109863281, -32.90924835205078, -32.93925857543945, -31.269546508789062, -26.280458450317383, -26.072044372558594, -22.008222579956055, -23.568458557128906, 16.87444305419922, 8.435835838317871, 9.649276733398438, 33.42976379394531, 19.659868240356445, 33.654258728027344, 21.050003051757812, 8.897642135620117, 33.53826141357422, 13.105212211608887, -33.69225311279297, -33.20820236206055, -26.896303176879883, -32.59818649291992, 8.034744262695312, 1.443506121635437, 19.122291564941406, 14.931863784790039, -3.2005302906036377, 1.6373664140701294, -16.738710403442383, -13.89201545715332, -16.731834411621094, 9.613853454589844, 33.768009185791016, -26.200424194335938, -33.16326904296875, -33.74000930786133, -24.788156509399414, -20.969284057617188, -0.5420713424682617, 17.200389862060547, -24.760356903076172, -30.76291275024414, -32.357269287109375, -33.995994567871094, -11.72248649597168, -2.978727102279663, -16.0800724029541, -12.042144775390625, -31.469491958618164, -32.843467712402344, -31.10157012939453, -33.22465133666992, 30.587085723876953, 30.353029251098633, -2.0339181423187256, -0.9922712445259094, -51.200191497802734, 0.845038115978241, -20.470897674560547, -15.084999084472656, -12.476065635681152, 13.170079231262207, 20.099599838256836, 31.16450309753418, -3.3634331226348877, 9.085083961486816, -0.26133543252944946, 15.763944625854492, -15.72123908996582, -2.1624631881713867, -7.026221752166748, -4.034365653991699, 9.0918550491333, -32.4793586730957, 0.2643353343009949, 9.309885025024414, 29.754962921142578, 26.760696411132812, 7.343738555908203, 19.747053146362305, 26.289031982421875, 6.469679355621338, 0.6974552869796753, -24.073715209960938, -20.614912033081055, -26.27637481689453, -23.54741668701172, -33.27544021606445, -33.52854537963867, -15.454728126525879, -25.716373443603516, -10.86957836151123, 32.63311767578125, -25.017234802246094, -2.9158542156219482, 5.987515926361084, 0.16521498560905457, 31.608125686645508, 35.27965545654297, 29.40717124938965, 33.858272552490234, -1.6619572639465332, 31.428125381469727, 26.46373176574707, 21.738117218017578, -0.36624008417129517, 28.163429260253906, 32.05824661254883, 33.92939376831055, 34.24375534057617, 29.44975471496582, 28.413410186767578, -47.53003692626953, 7.446539402008057, -2.662229061126709, 25.58563804626465, -2.385951519012451, -19.77481460571289, 16.101707458496094, -4.698131561279297, 31.970211029052734, 32.10873031616211, 27.525711059570312, 32.15190505981445, 32.58841323852539, 30.520278930664062, 26.814697265625, -0.5621719360351562, -1.273667335510254, 21.794757843017578, 17.373748779296875, 34.50959396362305, 25.655426025390625, 27.8752384185791, 23.02774429321289, 28.942371368408203, 16.875165939331055, 32.28042984008789, 32.11909866333008], \"xaxis\": \"x\", \"y\": [32.105323791503906, 26.182689666748047, 33.5580940246582, 33.1295051574707, 32.86472702026367, -17.4152774810791, -17.84430694580078, -16.799888610839844, -19.464160919189453, 21.74657440185547, 27.510120391845703, 27.635385513305664, 23.601144790649414, 25.331493377685547, 10.255522727966309, 8.679242134094238, -7.147428035736084, -5.0778303146362305, -29.70461082458496, -18.48505210876465, -18.723567962646484, -31.380983352661133, -33.61667251586914, -5.425909519195557, 32.11857223510742, 30.80571746826172, 30.421253204345703, 30.600566864013672, -10.295116424560547, -21.25296401977539, -7.56831169128418, -4.616793155670166, -34.35835647583008, -31.926895141601562, -35.565345764160156, 21.087116241455078, -23.8254337310791, 29.987167358398438, 27.24500846862793, -32.4013671875, 4.713999271392822, -19.15256118774414, -23.293237686157227, -32.31540298461914, -12.764565467834473, -18.824005126953125, -6.220517635345459, -6.401387691497803, 27.330856323242188, -30.499656677246094, -23.015737533569336, -21.973115921020508, -20.032915115356445, 21.557405471801758, -4.517823696136475, -13.399702072143555, -2.956188440322876, -23.81943702697754, -25.21343421936035, -4.979547023773193, 27.330238342285156, 18.92266845703125, -2.635270595550537, 24.540830612182617, -34.50250244140625, -21.69913673400879, -17.667762756347656, -11.522279739379883, -31.924068450927734, -34.57120895385742, 22.385684967041016, 27.23331069946289, 29.632539749145508, 20.606237411499023, 24.169240951538086, 19.07707405090332, -34.92808151245117, -33.860679626464844, -30.27338981628418, -22.912330627441406, 9.023534774780273, -24.2310848236084, -32.361183166503906, -17.37921905517578, -3.9467923641204834, -15.86064624786377, 34.10636901855469, 26.660978317260742, 27.10144805908203, 19.249570846557617, 30.945228576660156, -19.62127113342285, -12.301356315612793, 26.18472671508789, 30.613473892211914, 31.54375457763672, -6.376801490783691, -31.025466918945312, -22.332914352416992, -29.82013702392578, -12.263690948486328, -18.77730941772461, 30.208908081054688, 31.767250061035156, 30.632261276245117, 27.56350326538086, -30.907196044921875, -21.53035545349121, -23.177019119262695, -30.310815811157227, 23.11531639099121, 22.891382217407227, 26.59548568725586, 26.200241088867188, 24.845596313476562, 28.107845306396484, 26.4433650970459, -3.7823755741119385, 19.65351676940918, -8.574156761169434, 23.035869598388672, 29.011388778686523, -9.704621315002441, -31.171218872070312, -10.683772087097168, -9.568191528320312, 20.179853439331055, -10.686731338500977, 29.493879318237305, 31.148479461669922, 23.782209396362305, 26.164609909057617, -5.81507682800293, -24.137754440307617, 31.65194320678711, 31.376855850219727, 30.882341384887695, 28.069156646728516, -10.418919563293457, 20.377418518066406, -18.435976028442383, -3.1185364723205566, 22.240615844726562, 25.0808162689209, -24.858736038208008, -32.668678283691406, 21.69269561767578, -3.1927497386932373, -6.710988521575928, -13.407526016235352, 31.530733108520508, 31.99407196044922, 31.830724716186523, 31.448667526245117, -11.096139907836914, -8.271138191223145, -16.861064910888672, -16.66773796081543, 5.326778411865234, 6.124074459075928, -7.324012279510498, -9.075774192810059, 8.174145698547363, 30.792728424072266, 25.61200523376465, 28.94527816772461, 31.67257308959961, 28.381315231323242, 22.268352508544922, 4.038629055023193, 31.75052261352539, 29.014053344726562, 31.388431549072266, 26.175180435180664, 31.348155975341797, 31.285348892211914, 33.457279205322266, 33.41735076904297, 26.659360885620117, -3.8246846199035645, -23.39276885986328, -30.71620750427246, 5.387088298797607, 13.382800102233887, 29.21636390686035, 23.146549224853516, 15.008692741394043, 29.719892501831055, 31.68986701965332, 22.67113494873047, 26.202451705932617, 19.47114372253418, 22.732450485229492, -17.43679428100586, -2.815680742263794, 30.1883544921875, 19.567726135253906, 6.936025142669678, 0.3547244668006897, 20.494766235351562, 30.746170043945312, -28.901498794555664, -23.279888153076172, -0.6062294840812683, -7.610955238342285, 3.2749040126800537, -11.056758880615234, -18.473745346069336, -0.12060929834842682, 14.26560115814209, 23.52625274658203, 31.830421447753906, 10.603519439697266, -16.43363380432129, -4.234304428100586, -5.055329322814941, 4.214450836181641, -24.824432373046875, 8.742347717285156, -29.335712432861328, -6.764925003051758, -24.889686584472656, 32.00527572631836, 25.19329071044922, 25.778671264648438, 31.131000518798828, -6.561832427978516, -3.6421260833740234, -23.372629165649414, -9.309162139892578, -13.75146484375, 4.849217414855957, 14.02408218383789, -18.947795867919922, -18.977033615112305, 21.01214027404785, 23.700946807861328, -8.651159286499023, 9.807281494140625, -25.494096755981445, 21.80286407470703, 10.345168113708496, -33.340782165527344, -4.7919535636901855, 3.771791934967041], \"yaxis\": \"y\"}, {\"hoverlabel\": {\"namelength\": 0}, \"hovertemplate\": \"color=Japan<br>0=%{x}<br>1=%{y}\", \"legendgroup\": \"color=Japan\", \"marker\": {\"color\": \"#EF553B\", \"symbol\": \"circle\"}, \"mode\": \"markers\", \"name\": \"color=Japan\", \"showlegend\": true, \"type\": \"scatter\", \"x\": [26.819942474365234, -4.102211952209473, -4.195801258087158, 8.985722541809082, -52.542755126953125, -54.061214447021484, 15.601487159729004, 18.904159545898438, 16.159809112548828, 31.59752082824707, -3.188960552215576, 15.439247131347656, 26.873737335205078, -4.420072078704834, 27.791336059570312, -7.940250396728516, -49.19906997680664, -53.98317337036133, -4.461657524108887, 31.325328826904297, 27.10824966430664, 1.6403754949569702, 31.653932571411133, 32.30242919921875, -51.48100662231445, -51.615638732910156, -5.222844123840332, 0.5249626040458679, 23.04110336303711, -2.0787789821624756, -9.031879425048828, 13.822681427001953, -4.8317484855651855, 28.07638931274414, 33.416175842285156, -6.8283562660217285, -2.1596593856811523, -51.08411407470703, 32.938846588134766, 17.073678970336914, 31.969348907470703, 28.262937545776367, -1.1557350158691406, -6.454588413238525, -3.6887850761413574, -7.4947004318237305, -3.428370237350464, 31.487504959106445, 32.70392608642578, 29.70446014404297, 13.627830505371094, -0.8715859651565552, -1.1171735525131226, -48.378536224365234, -0.246542289853096, 23.042970657348633, 27.82021713256836, 16.743244171142578, -53.04978561401367, -52.6112060546875, -2.1764352321624756, -6.844666481018066, -2.8538081645965576, -5.415056228637695, 6.818467140197754, 25.33636474609375, 32.224693298339844, 32.34336471557617, 23.042932510375977, 23.651643753051758, -3.127570629119873, -6.503521919250488, -1.1533056497573853, 6.376629829406738, 11.685949325561523, -7.376897811889648, -7.0607218742370605, -4.405709743499756, 32.059898376464844], \"xaxis\": \"x\", \"y\": [-24.942407608032227, -19.611663818359375, -19.667743682861328, -32.78939437866211, 8.391934394836426, 10.313202857971191, -32.245121002197266, -30.134057998657227, -31.374677658081055, -15.279216766357422, -16.54927635192871, -31.199851989746094, -24.312522888183594, -17.990266799926758, 10.938377380371094, 5.550806522369385, 9.540085792541504, 10.220819473266602, -2.2097110748291016, -16.245542526245117, -23.562028884887695, -25.53838539123535, 2.5823488235473633, -11.89864730834961, 9.384718894958496, 8.67143440246582, -0.6199623346328735, -24.250858306884766, 20.658100128173828, -6.650137901306152, 5.674276828765869, -30.923465728759766, 0.8215680122375488, 11.543150901794434, 3.077319383621216, -0.5894320011138916, -9.193689346313477, 8.979046821594238, -10.742932319641113, -32.3839225769043, -14.536824226379395, -22.87745475769043, -20.36488914489746, 1.612554669380188, -4.320814609527588, 2.105377197265625, -4.049373149871826, 3.294248104095459, -12.596858024597168, -20.57523536682129, -31.676132202148438, -16.88208770751953, -16.940963745117188, 8.375234603881836, -21.879196166992188, 17.961009979248047, -21.119932174682617, -30.939611434936523, 8.894307136535645, 9.366961479187012, -8.350090980529785, 1.4011136293411255, -7.445103168487549, 0.48742392659187317, -29.956478118896484, -25.920969009399414, -6.003901958465576, -4.160386085510254, 17.953590393066406, 20.479476928710938, -4.780630588531494, 2.556335926055908, -25.39288330078125, -29.489038467407227, -31.12311553955078, 2.8185629844665527, 3.163036823272705, -0.5874506831169128, -0.8671519160270691], \"yaxis\": \"y\"}, {\"hoverlabel\": {\"namelength\": 0}, \"hovertemplate\": \"color=Europe<br>0=%{x}<br>1=%{y}\", \"legendgroup\": \"color=Europe\", \"marker\": {\"color\": \"#00cc96\", \"symbol\": \"circle\"}, \"mode\": \"markers\", \"name\": \"color=Europe\", \"showlegend\": true, \"type\": \"scatter\", \"x\": [-49.37890625, 33.0922966003418, 29.181758880615234, 26.345327377319336, 9.192303657531738, -4.6565985679626465, -1.7567521333694458, -1.4810256958007812, -49.50083541870117, 12.590700149536133, 24.4226016998291, 32.65916061401367, 23.38460350036621, 4.411062717437744, -9.423639297485352, 14.521854400634766, -47.84666061401367, -0.2967689335346222, 32.22471618652344, 27.391708374023438, 33.417755126953125, 8.124892234802246, -7.6966328620910645, 17.324901580810547, -2.827481269836426, 11.63952350616455, -4.742406845092773, 8.630743980407715, -9.773295402526855, 32.56748580932617, 23.899860382080078, 24.213375091552734, 33.54116439819336, 30.41756248474121, 8.230712890625, 5.504404544830322, -9.51427936553955, -50.128868103027344, 13.720477104187012, 11.62851619720459, -24.461429595947266, -49.944637298583984, -10.315577507019043, 4.621702194213867, 32.28901672363281, -7.288705348968506, 27.856781005859375, 13.873087882995605, 29.01706886291504, -1.9032334089279175, -4.85685396194458, -10.15544319152832, -12.565361976623535, 12.839741706848145, -1.4610024690628052, -0.8896052241325378, 4.322594165802002, -2.1163063049316406, 24.37382698059082, 24.41991424560547, 11.76120376586914, -48.819801330566406, 32.1937255859375, 5.194092750549316, 12.133580207824707, 13.285595893859863, -4.700389385223389, 0.31147828698158264], \"xaxis\": \"x\", \"y\": [7.855681419372559, 0.6734471917152405, -20.85716438293457, -24.271629333496094, -33.560096740722656, -19.938068389892578, -9.511954307556152, -8.57053279876709, 8.478798866271973, -30.20464515686035, 21.168668746948242, -14.974462509155273, 23.140748977661133, -27.87491226196289, 3.973329544067383, -31.3620662689209, 9.399138450622559, -25.314998626708984, -8.61518383026123, 14.480233192443848, -0.692413866519928, -30.48447608947754, 5.564351558685303, -30.98674201965332, -17.18132781982422, -31.680248260498047, -1.7660034894943237, -29.865034103393555, 5.920300483703613, 1.929389476776123, 22.470226287841797, 21.854185104370117, -0.26525789499282837, -18.852922439575195, -31.674755096435547, -29.81656837463379, 6.3510026931762695, 8.328775405883789, 30.20292091369629, 32.49535369873047, 25.860671997070312, 9.312061309814453, 5.808022499084473, -28.87657928466797, -7.238556861877441, -0.337063193321228, 12.418429374694824, 29.329843521118164, 11.253294944763184, 33.51829147338867, -0.10787007212638855, 6.863865375518799, 32.562477111816406, 31.169050216674805, -19.59001350402832, -22.111989974975586, -28.644927978515625, -10.744494438171387, -26.546340942382812, 22.850540161132812, 32.14738845825195, 8.842333793640137, -15.722677230834961, -28.463668823242188, 31.912704467773438, 30.503938674926758, 1.7809457778930664, -18.98019027709961], \"yaxis\": \"y\"}],\n",
              "                        {\"legend\": {\"tracegroupgap\": 0}, \"margin\": {\"t\": 60}, \"template\": {\"data\": {\"bar\": [{\"error_x\": {\"color\": \"#2a3f5f\"}, \"error_y\": {\"color\": \"#2a3f5f\"}, \"marker\": {\"line\": {\"color\": \"#E5ECF6\", \"width\": 0.5}}, \"type\": \"bar\"}], \"barpolar\": [{\"marker\": {\"line\": {\"color\": \"#E5ECF6\", \"width\": 0.5}}, \"type\": \"barpolar\"}], \"carpet\": [{\"aaxis\": {\"endlinecolor\": \"#2a3f5f\", \"gridcolor\": \"white\", \"linecolor\": \"white\", \"minorgridcolor\": \"white\", \"startlinecolor\": \"#2a3f5f\"}, \"baxis\": {\"endlinecolor\": \"#2a3f5f\", \"gridcolor\": \"white\", \"linecolor\": \"white\", \"minorgridcolor\": \"white\", \"startlinecolor\": \"#2a3f5f\"}, \"type\": \"carpet\"}], \"choropleth\": [{\"colorbar\": {\"outlinewidth\": 0, \"ticks\": \"\"}, \"type\": \"choropleth\"}], \"contour\": [{\"colorbar\": {\"outlinewidth\": 0, \"ticks\": \"\"}, \"colorscale\": [[0.0, \"#0d0887\"], [0.1111111111111111, \"#46039f\"], [0.2222222222222222, \"#7201a8\"], [0.3333333333333333, \"#9c179e\"], [0.4444444444444444, \"#bd3786\"], [0.5555555555555556, \"#d8576b\"], [0.6666666666666666, \"#ed7953\"], [0.7777777777777778, \"#fb9f3a\"], [0.8888888888888888, \"#fdca26\"], [1.0, \"#f0f921\"]], \"type\": \"contour\"}], \"contourcarpet\": [{\"colorbar\": {\"outlinewidth\": 0, \"ticks\": \"\"}, \"type\": \"contourcarpet\"}], \"heatmap\": [{\"colorbar\": {\"outlinewidth\": 0, \"ticks\": \"\"}, \"colorscale\": [[0.0, \"#0d0887\"], [0.1111111111111111, \"#46039f\"], [0.2222222222222222, \"#7201a8\"], [0.3333333333333333, \"#9c179e\"], [0.4444444444444444, \"#bd3786\"], [0.5555555555555556, \"#d8576b\"], [0.6666666666666666, \"#ed7953\"], [0.7777777777777778, \"#fb9f3a\"], [0.8888888888888888, \"#fdca26\"], [1.0, \"#f0f921\"]], \"type\": \"heatmap\"}], \"heatmapgl\": [{\"colorbar\": {\"outlinewidth\": 0, \"ticks\": \"\"}, \"colorscale\": [[0.0, \"#0d0887\"], [0.1111111111111111, \"#46039f\"], [0.2222222222222222, \"#7201a8\"], [0.3333333333333333, \"#9c179e\"], [0.4444444444444444, \"#bd3786\"], [0.5555555555555556, \"#d8576b\"], [0.6666666666666666, \"#ed7953\"], [0.7777777777777778, \"#fb9f3a\"], [0.8888888888888888, \"#fdca26\"], [1.0, \"#f0f921\"]], \"type\": \"heatmapgl\"}], \"histogram\": [{\"marker\": {\"colorbar\": {\"outlinewidth\": 0, \"ticks\": \"\"}}, \"type\": \"histogram\"}], \"histogram2d\": [{\"colorbar\": {\"outlinewidth\": 0, \"ticks\": \"\"}, \"colorscale\": [[0.0, \"#0d0887\"], [0.1111111111111111, \"#46039f\"], [0.2222222222222222, \"#7201a8\"], [0.3333333333333333, \"#9c179e\"], [0.4444444444444444, \"#bd3786\"], [0.5555555555555556, \"#d8576b\"], [0.6666666666666666, \"#ed7953\"], [0.7777777777777778, \"#fb9f3a\"], [0.8888888888888888, \"#fdca26\"], [1.0, \"#f0f921\"]], \"type\": \"histogram2d\"}], \"histogram2dcontour\": [{\"colorbar\": {\"outlinewidth\": 0, \"ticks\": \"\"}, \"colorscale\": [[0.0, \"#0d0887\"], [0.1111111111111111, \"#46039f\"], [0.2222222222222222, \"#7201a8\"], [0.3333333333333333, \"#9c179e\"], [0.4444444444444444, \"#bd3786\"], [0.5555555555555556, \"#d8576b\"], [0.6666666666666666, \"#ed7953\"], [0.7777777777777778, \"#fb9f3a\"], [0.8888888888888888, \"#fdca26\"], [1.0, \"#f0f921\"]], \"type\": \"histogram2dcontour\"}], \"mesh3d\": [{\"colorbar\": {\"outlinewidth\": 0, \"ticks\": \"\"}, \"type\": \"mesh3d\"}], \"parcoords\": [{\"line\": {\"colorbar\": {\"outlinewidth\": 0, \"ticks\": \"\"}}, \"type\": \"parcoords\"}], \"pie\": [{\"automargin\": true, \"type\": \"pie\"}], \"scatter\": [{\"marker\": {\"colorbar\": {\"outlinewidth\": 0, \"ticks\": \"\"}}, \"type\": \"scatter\"}], \"scatter3d\": [{\"line\": {\"colorbar\": {\"outlinewidth\": 0, \"ticks\": \"\"}}, \"marker\": {\"colorbar\": {\"outlinewidth\": 0, \"ticks\": \"\"}}, \"type\": \"scatter3d\"}], \"scattercarpet\": [{\"marker\": {\"colorbar\": {\"outlinewidth\": 0, \"ticks\": \"\"}}, \"type\": \"scattercarpet\"}], \"scattergeo\": [{\"marker\": {\"colorbar\": {\"outlinewidth\": 0, \"ticks\": \"\"}}, \"type\": \"scattergeo\"}], \"scattergl\": [{\"marker\": {\"colorbar\": {\"outlinewidth\": 0, \"ticks\": \"\"}}, \"type\": \"scattergl\"}], \"scattermapbox\": [{\"marker\": {\"colorbar\": {\"outlinewidth\": 0, \"ticks\": \"\"}}, \"type\": \"scattermapbox\"}], \"scatterpolar\": [{\"marker\": {\"colorbar\": {\"outlinewidth\": 0, \"ticks\": \"\"}}, \"type\": \"scatterpolar\"}], \"scatterpolargl\": [{\"marker\": {\"colorbar\": {\"outlinewidth\": 0, \"ticks\": \"\"}}, \"type\": \"scatterpolargl\"}], \"scatterternary\": [{\"marker\": {\"colorbar\": {\"outlinewidth\": 0, \"ticks\": \"\"}}, \"type\": \"scatterternary\"}], \"surface\": [{\"colorbar\": {\"outlinewidth\": 0, \"ticks\": \"\"}, \"colorscale\": [[0.0, \"#0d0887\"], [0.1111111111111111, \"#46039f\"], [0.2222222222222222, \"#7201a8\"], [0.3333333333333333, \"#9c179e\"], [0.4444444444444444, \"#bd3786\"], [0.5555555555555556, \"#d8576b\"], [0.6666666666666666, \"#ed7953\"], [0.7777777777777778, \"#fb9f3a\"], [0.8888888888888888, \"#fdca26\"], [1.0, \"#f0f921\"]], \"type\": \"surface\"}], \"table\": [{\"cells\": {\"fill\": {\"color\": \"#EBF0F8\"}, \"line\": {\"color\": \"white\"}}, \"header\": {\"fill\": {\"color\": \"#C8D4E3\"}, \"line\": {\"color\": \"white\"}}, \"type\": \"table\"}]}, \"layout\": {\"annotationdefaults\": {\"arrowcolor\": \"#2a3f5f\", \"arrowhead\": 0, \"arrowwidth\": 1}, \"coloraxis\": {\"colorbar\": {\"outlinewidth\": 0, \"ticks\": \"\"}}, \"colorscale\": {\"diverging\": [[0, \"#8e0152\"], [0.1, \"#c51b7d\"], [0.2, \"#de77ae\"], [0.3, \"#f1b6da\"], [0.4, \"#fde0ef\"], [0.5, \"#f7f7f7\"], [0.6, \"#e6f5d0\"], [0.7, \"#b8e186\"], [0.8, \"#7fbc41\"], [0.9, \"#4d9221\"], [1, \"#276419\"]], \"sequential\": [[0.0, \"#0d0887\"], [0.1111111111111111, \"#46039f\"], [0.2222222222222222, \"#7201a8\"], [0.3333333333333333, \"#9c179e\"], [0.4444444444444444, \"#bd3786\"], [0.5555555555555556, \"#d8576b\"], [0.6666666666666666, \"#ed7953\"], [0.7777777777777778, \"#fb9f3a\"], [0.8888888888888888, \"#fdca26\"], [1.0, \"#f0f921\"]], \"sequentialminus\": [[0.0, \"#0d0887\"], [0.1111111111111111, \"#46039f\"], [0.2222222222222222, \"#7201a8\"], [0.3333333333333333, \"#9c179e\"], [0.4444444444444444, \"#bd3786\"], [0.5555555555555556, \"#d8576b\"], [0.6666666666666666, \"#ed7953\"], [0.7777777777777778, \"#fb9f3a\"], [0.8888888888888888, \"#fdca26\"], [1.0, \"#f0f921\"]]}, \"colorway\": [\"#636efa\", \"#EF553B\", \"#00cc96\", \"#ab63fa\", \"#FFA15A\", \"#19d3f3\", \"#FF6692\", \"#B6E880\", \"#FF97FF\", \"#FECB52\"], \"font\": {\"color\": \"#2a3f5f\"}, \"geo\": {\"bgcolor\": \"white\", \"lakecolor\": \"white\", \"landcolor\": \"#E5ECF6\", \"showlakes\": true, \"showland\": true, \"subunitcolor\": \"white\"}, \"hoverlabel\": {\"align\": \"left\"}, \"hovermode\": \"closest\", \"mapbox\": {\"style\": \"light\"}, \"paper_bgcolor\": \"white\", \"plot_bgcolor\": \"#E5ECF6\", \"polar\": {\"angularaxis\": {\"gridcolor\": \"white\", \"linecolor\": \"white\", \"ticks\": \"\"}, \"bgcolor\": \"#E5ECF6\", \"radialaxis\": {\"gridcolor\": \"white\", \"linecolor\": \"white\", \"ticks\": \"\"}}, \"scene\": {\"xaxis\": {\"backgroundcolor\": \"#E5ECF6\", \"gridcolor\": \"white\", \"gridwidth\": 2, \"linecolor\": \"white\", \"showbackground\": true, \"ticks\": \"\", \"zerolinecolor\": \"white\"}, \"yaxis\": {\"backgroundcolor\": \"#E5ECF6\", \"gridcolor\": \"white\", \"gridwidth\": 2, \"linecolor\": \"white\", \"showbackground\": true, \"ticks\": \"\", \"zerolinecolor\": \"white\"}, \"zaxis\": {\"backgroundcolor\": \"#E5ECF6\", \"gridcolor\": \"white\", \"gridwidth\": 2, \"linecolor\": \"white\", \"showbackground\": true, \"ticks\": \"\", \"zerolinecolor\": \"white\"}}, \"shapedefaults\": {\"line\": {\"color\": \"#2a3f5f\"}}, \"ternary\": {\"aaxis\": {\"gridcolor\": \"white\", \"linecolor\": \"white\", \"ticks\": \"\"}, \"baxis\": {\"gridcolor\": \"white\", \"linecolor\": \"white\", \"ticks\": \"\"}, \"bgcolor\": \"#E5ECF6\", \"caxis\": {\"gridcolor\": \"white\", \"linecolor\": \"white\", \"ticks\": \"\"}}, \"title\": {\"x\": 0.05}, \"xaxis\": {\"automargin\": true, \"gridcolor\": \"white\", \"linecolor\": \"white\", \"ticks\": \"\", \"title\": {\"standoff\": 15}, \"zerolinecolor\": \"white\", \"zerolinewidth\": 2}, \"yaxis\": {\"automargin\": true, \"gridcolor\": \"white\", \"linecolor\": \"white\", \"ticks\": \"\", \"title\": {\"standoff\": 15}, \"zerolinecolor\": \"white\", \"zerolinewidth\": 2}}}, \"xaxis\": {\"anchor\": \"y\", \"domain\": [0.0, 1.0], \"title\": {\"text\": \"0\"}}, \"yaxis\": {\"anchor\": \"x\", \"domain\": [0.0, 1.0], \"title\": {\"text\": \"1\"}}},\n",
              "                        {\"responsive\": true}\n",
              "                    ).then(function(){\n",
              "                            \n",
              "var gd = document.getElementById('bc41ca70-4976-4ff6-b5ff-7986cbdff2ea');\n",
              "var x = new MutationObserver(function (mutations, observer) {{\n",
              "        var display = window.getComputedStyle(gd).display;\n",
              "        if (!display || display === 'none') {{\n",
              "            console.log([gd, 'removed!']);\n",
              "            Plotly.purge(gd);\n",
              "            observer.disconnect();\n",
              "        }}\n",
              "}});\n",
              "\n",
              "// Listen for the removal of the full notebook cells\n",
              "var notebookContainer = gd.closest('#notebook-container');\n",
              "if (notebookContainer) {{\n",
              "    x.observe(notebookContainer, {childList: true});\n",
              "}}\n",
              "\n",
              "// Listen for the clearing of the current output cell\n",
              "var outputEl = gd.closest('.output');\n",
              "if (outputEl) {{\n",
              "    x.observe(outputEl, {childList: true});\n",
              "}}\n",
              "\n",
              "                        })\n",
              "                };\n",
              "                \n",
              "            </script>\n",
              "        </div>\n",
              "</body>\n",
              "</html>"
            ]
          },
          "metadata": {
            "tags": []
          }
        }
      ]
    },
    {
      "cell_type": "markdown",
      "metadata": {
        "id": "yUKcj5sDh6h9"
      },
      "source": [
        "## Avaliação da Qualidade de Projeções"
      ]
    },
    {
      "cell_type": "code",
      "metadata": {
        "id": "DoXAmWD_h_SB"
      },
      "source": [
        "kneigh = []\n",
        "y_tsne = []\n",
        "y_pca = []\n",
        "y_isomap = []\n",
        "\n",
        "for k in range(1,51):\n",
        "  precision = trustworthiness(X, X_tsne, n_neighbors=k, metric='euclidean')\n",
        "  kneigh.append(k)\n",
        "  y_tsne.append(precision)\n",
        "  precision = trustworthiness(X, X_pca, n_neighbors=k, metric='euclidean')\n",
        "  y_pca.append(precision)\n",
        "  precision = trustworthiness(X, X_isomap, n_neighbors=k, metric='euclidean')\n",
        "  y_isomap.append(precision)\n"
      ],
      "execution_count": 110,
      "outputs": []
    },
    {
      "cell_type": "markdown",
      "metadata": {
        "id": "kOZ7tqDDtm2E"
      },
      "source": [
        "Em seguida, podemos criar um gráfico de linhas:"
      ]
    },
    {
      "cell_type": "code",
      "metadata": {
        "id": "ledNhfYkqf7N",
        "colab": {
          "base_uri": "https://localhost:8080/",
          "height": 542
        },
        "outputId": "0539505f-273e-4af0-b95c-af54714e5705"
      },
      "source": [
        "fig = go.Figure()\n",
        "fig.add_trace(go.Scatter(x=kneigh, y=y_tsne,\n",
        "                    mode='lines+markers',\n",
        "                    name='t-SNE'))\n",
        "fig.add_trace(go.Scatter(x=kneigh, y=y_pca,\n",
        "                    mode='lines+markers',\n",
        "                    name='PCA'))\n",
        "fig.add_trace(go.Scatter(x=kneigh, y=y_isomap,\n",
        "                    mode='lines+markers',\n",
        "                    name='Isomap'))\n",
        "\n",
        "fig.show()"
      ],
      "execution_count": 111,
      "outputs": [
        {
          "output_type": "display_data",
          "data": {
            "text/html": [
              "<html>\n",
              "<head><meta charset=\"utf-8\" /></head>\n",
              "<body>\n",
              "    <div>\n",
              "            <script src=\"https://cdnjs.cloudflare.com/ajax/libs/mathjax/2.7.5/MathJax.js?config=TeX-AMS-MML_SVG\"></script><script type=\"text/javascript\">if (window.MathJax) {MathJax.Hub.Config({SVG: {font: \"STIX-Web\"}});}</script>\n",
              "                <script type=\"text/javascript\">window.PlotlyConfig = {MathJaxConfig: 'local'};</script>\n",
              "        <script src=\"https://cdn.plot.ly/plotly-latest.min.js\"></script>    \n",
              "            <div id=\"ef704f92-886a-45f7-baa7-7a780621c244\" class=\"plotly-graph-div\" style=\"height:525px; width:100%;\"></div>\n",
              "            <script type=\"text/javascript\">\n",
              "                \n",
              "                    window.PLOTLYENV=window.PLOTLYENV || {};\n",
              "                    \n",
              "                if (document.getElementById(\"ef704f92-886a-45f7-baa7-7a780621c244\")) {\n",
              "                    Plotly.newPlot(\n",
              "                        'ef704f92-886a-45f7-baa7-7a780621c244',\n",
              "                        [{\"mode\": \"lines+markers\", \"name\": \"t-SNE\", \"type\": \"scatter\", \"x\": [1, 2, 3, 4, 5, 6, 7, 8, 9, 10, 11, 12, 13, 14, 15, 16, 17, 18, 19, 20, 21, 22, 23, 24, 25, 26, 27, 28, 29, 30, 31, 32, 33, 34, 35, 36, 37, 38, 39, 40, 41, 42, 43, 44, 45, 46, 47, 48, 49, 50], \"y\": [0.9992935635792779, 0.9985389908859297, 0.9986157253599114, 0.998289393578443, 0.9979751275510204, 0.9978057889822596, 0.9975828914242862, 0.9973086566642467, 0.9970995452854863, 0.9969672331083828, 0.9968410636982066, 0.9967460545128359, 0.9966265972890397, 0.9964732278104995, 0.9963963092011873, 0.994533527696793, 0.9928987988638078, 0.9916070223242475, 0.9903181803386861, 0.9883235244305191, 0.9866176033905626, 0.9852508519573672, 0.9838690134438869, 0.9823557411712927, 0.9808402513547791, 0.9790209537170024, 0.9772725804471836, 0.9754024387192032, 0.9735239369231641, 0.9713861157738709, 0.9693421969068132, 0.9672138642574933, 0.9653959935914823, 0.9634622571495559, 0.9592245241965307, 0.9553523137650122, 0.9514245249258004, 0.9475504504374325, 0.943347782633497, 0.9388182195955305, 0.9336785601158424, 0.9288606070825808, 0.9241863803340837, 0.91982061991114, 0.9151720976456426, 0.910981854824842, 0.9066998145450266, 0.9032669895031565, 0.8994548916986895, 0.8959244930199568]}, {\"mode\": \"lines+markers\", \"name\": \"PCA\", \"type\": \"scatter\", \"x\": [1, 2, 3, 4, 5, 6, 7, 8, 9, 10, 11, 12, 13, 14, 15, 16, 17, 18, 19, 20, 21, 22, 23, 24, 25, 26, 27, 28, 29, 30, 31, 32, 33, 34, 35, 36, 37, 38, 39, 40, 41, 42, 43, 44, 45, 46, 47, 48, 49, 50], \"y\": [0.9978283621140764, 0.9983420008930213, 0.9986113308372444, 0.9987807379761243, 0.9989251169217687, 0.9991240940820773, 0.9992510502513716, 0.9993563630985991, 0.9994541026287058, 0.9995141881453776, 0.9995751391465677, 0.9996391461537761, 0.9996977388970476, 0.9997250780011253, 0.9997695555186844, 0.9997678918506178, 0.9998056599689056, 0.9998207559201092, 0.9998365157285185, 0.999858511869478, 0.9998802100205162, 0.9998939096368863, 0.9999064843328636, 0.9999279423443076, 0.9999397555632422, 0.9999487847512164, 0.9999391652830806, 0.9999429109473342, 0.9999456530531357, 0.9999496912762219, 0.9999511024606196, 0.9999614747645783, 0.9999613481756339, 0.9999598958526141, 0.9999677494259398, 0.9999672461577224, 0.9999759918446143, 0.9999755153418459, 0.9999744642601786, 0.9999744128420599, 0.9999711525408389, 0.9999720805913146, 0.9999746004653195, 0.9999766664101754, 0.9999821533551693, 0.9999797087692509, 0.9999780186483024, 0.9999763794406652, 0.9999759337697343, 0.9999748525002418]}, {\"mode\": \"lines+markers\", \"name\": \"Isomap\", \"type\": \"scatter\", \"x\": [1, 2, 3, 4, 5, 6, 7, 8, 9, 10, 11, 12, 13, 14, 15, 16, 17, 18, 19, 20, 21, 22, 23, 24, 25, 26, 27, 28, 29, 30, 31, 32, 33, 34, 35, 36, 37, 38, 39, 40, 41, 42, 43, 44, 45, 46, 47, 48, 49, 50], \"y\": [0.991509680795395, 0.992366637774801, 0.9928149554395401, 0.9932948860478044, 0.9940516050170068, 0.9946222933617892, 0.9951189137072152, 0.9957256123793391, 0.9961089815114759, 0.9964638046453641, 0.9967421150278293, 0.9970847107249861, 0.9973292356644892, 0.9975871783068346, 0.9978582489906531, 0.9980155837845343, 0.9981849297095887, 0.9983564756492446, 0.9985156959695579, 0.9986398086205437, 0.9987707186049023, 0.9988792588164973, 0.9989837549926803, 0.9990826851134266, 0.9991597486452208, 0.999206441987597, 0.9992632538928835, 0.999290166710461, 0.999320536775947, 0.999341078422711, 0.9993831754300598, 0.9994137665983424, 0.9994468946536615, 0.9994616789447056, 0.9994732406236831, 0.9994912656420593, 0.9995013690804507, 0.9995347914950734, 0.9995739460025175, 0.9996079200911133, 0.9996115963014918, 0.9996037662727626, 0.9996046743852224, 0.9996307592999496, 0.9996385179586238, 0.9996526416431082, 0.999660472659933, 0.9996654863040678, 0.9996732231591134, 0.9996756617338879]}],\n",
              "                        {\"template\": {\"data\": {\"bar\": [{\"error_x\": {\"color\": \"#2a3f5f\"}, \"error_y\": {\"color\": \"#2a3f5f\"}, \"marker\": {\"line\": {\"color\": \"#E5ECF6\", \"width\": 0.5}}, \"type\": \"bar\"}], \"barpolar\": [{\"marker\": {\"line\": {\"color\": \"#E5ECF6\", \"width\": 0.5}}, \"type\": \"barpolar\"}], \"carpet\": [{\"aaxis\": {\"endlinecolor\": \"#2a3f5f\", \"gridcolor\": \"white\", \"linecolor\": \"white\", \"minorgridcolor\": \"white\", \"startlinecolor\": \"#2a3f5f\"}, \"baxis\": {\"endlinecolor\": \"#2a3f5f\", \"gridcolor\": \"white\", \"linecolor\": \"white\", \"minorgridcolor\": \"white\", \"startlinecolor\": \"#2a3f5f\"}, \"type\": \"carpet\"}], \"choropleth\": [{\"colorbar\": {\"outlinewidth\": 0, \"ticks\": \"\"}, \"type\": \"choropleth\"}], \"contour\": [{\"colorbar\": {\"outlinewidth\": 0, \"ticks\": \"\"}, \"colorscale\": [[0.0, \"#0d0887\"], [0.1111111111111111, \"#46039f\"], [0.2222222222222222, \"#7201a8\"], [0.3333333333333333, \"#9c179e\"], [0.4444444444444444, \"#bd3786\"], [0.5555555555555556, \"#d8576b\"], [0.6666666666666666, \"#ed7953\"], [0.7777777777777778, \"#fb9f3a\"], [0.8888888888888888, \"#fdca26\"], [1.0, \"#f0f921\"]], \"type\": \"contour\"}], \"contourcarpet\": [{\"colorbar\": {\"outlinewidth\": 0, \"ticks\": \"\"}, \"type\": \"contourcarpet\"}], \"heatmap\": [{\"colorbar\": {\"outlinewidth\": 0, \"ticks\": \"\"}, \"colorscale\": [[0.0, \"#0d0887\"], [0.1111111111111111, \"#46039f\"], [0.2222222222222222, \"#7201a8\"], [0.3333333333333333, \"#9c179e\"], [0.4444444444444444, \"#bd3786\"], [0.5555555555555556, \"#d8576b\"], [0.6666666666666666, \"#ed7953\"], [0.7777777777777778, \"#fb9f3a\"], [0.8888888888888888, \"#fdca26\"], [1.0, \"#f0f921\"]], \"type\": \"heatmap\"}], \"heatmapgl\": [{\"colorbar\": {\"outlinewidth\": 0, \"ticks\": \"\"}, \"colorscale\": [[0.0, \"#0d0887\"], [0.1111111111111111, \"#46039f\"], [0.2222222222222222, \"#7201a8\"], [0.3333333333333333, \"#9c179e\"], [0.4444444444444444, \"#bd3786\"], [0.5555555555555556, \"#d8576b\"], [0.6666666666666666, \"#ed7953\"], [0.7777777777777778, \"#fb9f3a\"], [0.8888888888888888, \"#fdca26\"], [1.0, \"#f0f921\"]], \"type\": \"heatmapgl\"}], \"histogram\": [{\"marker\": {\"colorbar\": {\"outlinewidth\": 0, \"ticks\": \"\"}}, \"type\": \"histogram\"}], \"histogram2d\": [{\"colorbar\": {\"outlinewidth\": 0, \"ticks\": \"\"}, \"colorscale\": [[0.0, \"#0d0887\"], [0.1111111111111111, \"#46039f\"], [0.2222222222222222, \"#7201a8\"], [0.3333333333333333, \"#9c179e\"], [0.4444444444444444, \"#bd3786\"], [0.5555555555555556, \"#d8576b\"], [0.6666666666666666, \"#ed7953\"], [0.7777777777777778, \"#fb9f3a\"], [0.8888888888888888, \"#fdca26\"], [1.0, \"#f0f921\"]], \"type\": \"histogram2d\"}], \"histogram2dcontour\": [{\"colorbar\": {\"outlinewidth\": 0, \"ticks\": \"\"}, \"colorscale\": [[0.0, \"#0d0887\"], [0.1111111111111111, \"#46039f\"], [0.2222222222222222, \"#7201a8\"], [0.3333333333333333, \"#9c179e\"], [0.4444444444444444, \"#bd3786\"], [0.5555555555555556, \"#d8576b\"], [0.6666666666666666, \"#ed7953\"], [0.7777777777777778, \"#fb9f3a\"], [0.8888888888888888, \"#fdca26\"], [1.0, \"#f0f921\"]], \"type\": \"histogram2dcontour\"}], \"mesh3d\": [{\"colorbar\": {\"outlinewidth\": 0, \"ticks\": \"\"}, \"type\": \"mesh3d\"}], \"parcoords\": [{\"line\": {\"colorbar\": {\"outlinewidth\": 0, \"ticks\": \"\"}}, \"type\": \"parcoords\"}], \"pie\": [{\"automargin\": true, \"type\": \"pie\"}], \"scatter\": [{\"marker\": {\"colorbar\": {\"outlinewidth\": 0, \"ticks\": \"\"}}, \"type\": \"scatter\"}], \"scatter3d\": [{\"line\": {\"colorbar\": {\"outlinewidth\": 0, \"ticks\": \"\"}}, \"marker\": {\"colorbar\": {\"outlinewidth\": 0, \"ticks\": \"\"}}, \"type\": \"scatter3d\"}], \"scattercarpet\": [{\"marker\": {\"colorbar\": {\"outlinewidth\": 0, \"ticks\": \"\"}}, \"type\": \"scattercarpet\"}], \"scattergeo\": [{\"marker\": {\"colorbar\": {\"outlinewidth\": 0, \"ticks\": \"\"}}, \"type\": \"scattergeo\"}], \"scattergl\": [{\"marker\": {\"colorbar\": {\"outlinewidth\": 0, \"ticks\": \"\"}}, \"type\": \"scattergl\"}], \"scattermapbox\": [{\"marker\": {\"colorbar\": {\"outlinewidth\": 0, \"ticks\": \"\"}}, \"type\": \"scattermapbox\"}], \"scatterpolar\": [{\"marker\": {\"colorbar\": {\"outlinewidth\": 0, \"ticks\": \"\"}}, \"type\": \"scatterpolar\"}], \"scatterpolargl\": [{\"marker\": {\"colorbar\": {\"outlinewidth\": 0, \"ticks\": \"\"}}, \"type\": \"scatterpolargl\"}], \"scatterternary\": [{\"marker\": {\"colorbar\": {\"outlinewidth\": 0, \"ticks\": \"\"}}, \"type\": \"scatterternary\"}], \"surface\": [{\"colorbar\": {\"outlinewidth\": 0, \"ticks\": \"\"}, \"colorscale\": [[0.0, \"#0d0887\"], [0.1111111111111111, \"#46039f\"], [0.2222222222222222, \"#7201a8\"], [0.3333333333333333, \"#9c179e\"], [0.4444444444444444, \"#bd3786\"], [0.5555555555555556, \"#d8576b\"], [0.6666666666666666, \"#ed7953\"], [0.7777777777777778, \"#fb9f3a\"], [0.8888888888888888, \"#fdca26\"], [1.0, \"#f0f921\"]], \"type\": \"surface\"}], \"table\": [{\"cells\": {\"fill\": {\"color\": \"#EBF0F8\"}, \"line\": {\"color\": \"white\"}}, \"header\": {\"fill\": {\"color\": \"#C8D4E3\"}, \"line\": {\"color\": \"white\"}}, \"type\": \"table\"}]}, \"layout\": {\"annotationdefaults\": {\"arrowcolor\": \"#2a3f5f\", \"arrowhead\": 0, \"arrowwidth\": 1}, \"coloraxis\": {\"colorbar\": {\"outlinewidth\": 0, \"ticks\": \"\"}}, \"colorscale\": {\"diverging\": [[0, \"#8e0152\"], [0.1, \"#c51b7d\"], [0.2, \"#de77ae\"], [0.3, \"#f1b6da\"], [0.4, \"#fde0ef\"], [0.5, \"#f7f7f7\"], [0.6, \"#e6f5d0\"], [0.7, \"#b8e186\"], [0.8, \"#7fbc41\"], [0.9, \"#4d9221\"], [1, \"#276419\"]], \"sequential\": [[0.0, \"#0d0887\"], [0.1111111111111111, \"#46039f\"], [0.2222222222222222, \"#7201a8\"], [0.3333333333333333, \"#9c179e\"], [0.4444444444444444, \"#bd3786\"], [0.5555555555555556, \"#d8576b\"], [0.6666666666666666, \"#ed7953\"], [0.7777777777777778, \"#fb9f3a\"], [0.8888888888888888, \"#fdca26\"], [1.0, \"#f0f921\"]], \"sequentialminus\": [[0.0, \"#0d0887\"], [0.1111111111111111, \"#46039f\"], [0.2222222222222222, \"#7201a8\"], [0.3333333333333333, \"#9c179e\"], [0.4444444444444444, \"#bd3786\"], [0.5555555555555556, \"#d8576b\"], [0.6666666666666666, \"#ed7953\"], [0.7777777777777778, \"#fb9f3a\"], [0.8888888888888888, \"#fdca26\"], [1.0, \"#f0f921\"]]}, \"colorway\": [\"#636efa\", \"#EF553B\", \"#00cc96\", \"#ab63fa\", \"#FFA15A\", \"#19d3f3\", \"#FF6692\", \"#B6E880\", \"#FF97FF\", \"#FECB52\"], \"font\": {\"color\": \"#2a3f5f\"}, \"geo\": {\"bgcolor\": \"white\", \"lakecolor\": \"white\", \"landcolor\": \"#E5ECF6\", \"showlakes\": true, \"showland\": true, \"subunitcolor\": \"white\"}, \"hoverlabel\": {\"align\": \"left\"}, \"hovermode\": \"closest\", \"mapbox\": {\"style\": \"light\"}, \"paper_bgcolor\": \"white\", \"plot_bgcolor\": \"#E5ECF6\", \"polar\": {\"angularaxis\": {\"gridcolor\": \"white\", \"linecolor\": \"white\", \"ticks\": \"\"}, \"bgcolor\": \"#E5ECF6\", \"radialaxis\": {\"gridcolor\": \"white\", \"linecolor\": \"white\", \"ticks\": \"\"}}, \"scene\": {\"xaxis\": {\"backgroundcolor\": \"#E5ECF6\", \"gridcolor\": \"white\", \"gridwidth\": 2, \"linecolor\": \"white\", \"showbackground\": true, \"ticks\": \"\", \"zerolinecolor\": \"white\"}, \"yaxis\": {\"backgroundcolor\": \"#E5ECF6\", \"gridcolor\": \"white\", \"gridwidth\": 2, \"linecolor\": \"white\", \"showbackground\": true, \"ticks\": \"\", \"zerolinecolor\": \"white\"}, \"zaxis\": {\"backgroundcolor\": \"#E5ECF6\", \"gridcolor\": \"white\", \"gridwidth\": 2, \"linecolor\": \"white\", \"showbackground\": true, \"ticks\": \"\", \"zerolinecolor\": \"white\"}}, \"shapedefaults\": {\"line\": {\"color\": \"#2a3f5f\"}}, \"ternary\": {\"aaxis\": {\"gridcolor\": \"white\", \"linecolor\": \"white\", \"ticks\": \"\"}, \"baxis\": {\"gridcolor\": \"white\", \"linecolor\": \"white\", \"ticks\": \"\"}, \"bgcolor\": \"#E5ECF6\", \"caxis\": {\"gridcolor\": \"white\", \"linecolor\": \"white\", \"ticks\": \"\"}}, \"title\": {\"x\": 0.05}, \"xaxis\": {\"automargin\": true, \"gridcolor\": \"white\", \"linecolor\": \"white\", \"ticks\": \"\", \"title\": {\"standoff\": 15}, \"zerolinecolor\": \"white\", \"zerolinewidth\": 2}, \"yaxis\": {\"automargin\": true, \"gridcolor\": \"white\", \"linecolor\": \"white\", \"ticks\": \"\", \"title\": {\"standoff\": 15}, \"zerolinecolor\": \"white\", \"zerolinewidth\": 2}}}},\n",
              "                        {\"responsive\": true}\n",
              "                    ).then(function(){\n",
              "                            \n",
              "var gd = document.getElementById('ef704f92-886a-45f7-baa7-7a780621c244');\n",
              "var x = new MutationObserver(function (mutations, observer) {{\n",
              "        var display = window.getComputedStyle(gd).display;\n",
              "        if (!display || display === 'none') {{\n",
              "            console.log([gd, 'removed!']);\n",
              "            Plotly.purge(gd);\n",
              "            observer.disconnect();\n",
              "        }}\n",
              "}});\n",
              "\n",
              "// Listen for the removal of the full notebook cells\n",
              "var notebookContainer = gd.closest('#notebook-container');\n",
              "if (notebookContainer) {{\n",
              "    x.observe(notebookContainer, {childList: true});\n",
              "}}\n",
              "\n",
              "// Listen for the clearing of the current output cell\n",
              "var outputEl = gd.closest('.output');\n",
              "if (outputEl) {{\n",
              "    x.observe(outputEl, {childList: true});\n",
              "}}\n",
              "\n",
              "                        })\n",
              "                };\n",
              "                \n",
              "            </script>\n",
              "        </div>\n",
              "</body>\n",
              "</html>"
            ]
          },
          "metadata": {
            "tags": []
          }
        }
      ]
    },
    {
      "cell_type": "markdown",
      "metadata": {
        "id": "QTCwwkNXwRcD"
      },
      "source": [
        "Vamos gerar outro gráfico de linhas, agora considerando a ordenação do atributo de preço médio do veículo (displacement):\n"
      ]
    },
    {
      "cell_type": "code",
      "metadata": {
        "id": "f2tqiTg4wRly"
      },
      "source": [
        ""
      ],
      "execution_count": 96,
      "outputs": []
    },
    {
      "cell_type": "markdown",
      "metadata": {
        "id": "3OiRLLZSxh05"
      },
      "source": [
        "## Coordenadas Paralelas"
      ]
    }
  ]
}